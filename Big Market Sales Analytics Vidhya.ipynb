{
 "cells": [
  {
   "cell_type": "code",
   "execution_count": 2,
   "id": "dac127ab",
   "metadata": {},
   "outputs": [],
   "source": [
    "import os\n",
    "import pandas as pd\n",
    "import numpy as np\n",
    "import matplotlib.pyplot as plt\n",
    "import seaborn as sns"
   ]
  },
  {
   "cell_type": "code",
   "execution_count": 3,
   "id": "9ae34272",
   "metadata": {},
   "outputs": [],
   "source": [
    "os.chdir(\"C:\\\\Users\\\\91809\\\\Desktop\\\\Rajat\\\\Excel\")"
   ]
  },
  {
   "cell_type": "code",
   "execution_count": 4,
   "id": "5bd76bcd",
   "metadata": {},
   "outputs": [],
   "source": [
    "train=pd.read_csv(\"train_v9rqX0R.csv\")"
   ]
  },
  {
   "cell_type": "code",
   "execution_count": 5,
   "id": "39c85f0d",
   "metadata": {},
   "outputs": [],
   "source": [
    "test=pd.read_csv(\"test_AbJTz2l.csv\")"
   ]
  },
  {
   "cell_type": "code",
   "execution_count": 6,
   "id": "e1499e62",
   "metadata": {},
   "outputs": [
    {
     "data": {
      "text/plain": [
       "(8523, 12)"
      ]
     },
     "execution_count": 6,
     "metadata": {},
     "output_type": "execute_result"
    }
   ],
   "source": [
    "train.shape"
   ]
  },
  {
   "cell_type": "code",
   "execution_count": 7,
   "id": "d4bdbc3a",
   "metadata": {},
   "outputs": [
    {
     "data": {
      "text/plain": [
       "(5681, 11)"
      ]
     },
     "execution_count": 7,
     "metadata": {},
     "output_type": "execute_result"
    }
   ],
   "source": [
    "test.shape"
   ]
  },
  {
   "cell_type": "code",
   "execution_count": 8,
   "id": "6c0ac903",
   "metadata": {},
   "outputs": [
    {
     "data": {
      "text/html": [
       "<div>\n",
       "<style scoped>\n",
       "    .dataframe tbody tr th:only-of-type {\n",
       "        vertical-align: middle;\n",
       "    }\n",
       "\n",
       "    .dataframe tbody tr th {\n",
       "        vertical-align: top;\n",
       "    }\n",
       "\n",
       "    .dataframe thead th {\n",
       "        text-align: right;\n",
       "    }\n",
       "</style>\n",
       "<table border=\"1\" class=\"dataframe\">\n",
       "  <thead>\n",
       "    <tr style=\"text-align: right;\">\n",
       "      <th></th>\n",
       "      <th>Item_Identifier</th>\n",
       "      <th>Item_Weight</th>\n",
       "      <th>Item_Fat_Content</th>\n",
       "      <th>Item_Visibility</th>\n",
       "      <th>Item_Type</th>\n",
       "      <th>Item_MRP</th>\n",
       "      <th>Outlet_Identifier</th>\n",
       "      <th>Outlet_Establishment_Year</th>\n",
       "      <th>Outlet_Size</th>\n",
       "      <th>Outlet_Location_Type</th>\n",
       "      <th>Outlet_Type</th>\n",
       "      <th>Item_Outlet_Sales</th>\n",
       "    </tr>\n",
       "  </thead>\n",
       "  <tbody>\n",
       "    <tr>\n",
       "      <th>0</th>\n",
       "      <td>FDA15</td>\n",
       "      <td>9.300</td>\n",
       "      <td>Low Fat</td>\n",
       "      <td>0.016047</td>\n",
       "      <td>Dairy</td>\n",
       "      <td>249.8092</td>\n",
       "      <td>OUT049</td>\n",
       "      <td>1999</td>\n",
       "      <td>Medium</td>\n",
       "      <td>Tier 1</td>\n",
       "      <td>Supermarket Type1</td>\n",
       "      <td>3735.1380</td>\n",
       "    </tr>\n",
       "    <tr>\n",
       "      <th>1</th>\n",
       "      <td>DRC01</td>\n",
       "      <td>5.920</td>\n",
       "      <td>Regular</td>\n",
       "      <td>0.019278</td>\n",
       "      <td>Soft Drinks</td>\n",
       "      <td>48.2692</td>\n",
       "      <td>OUT018</td>\n",
       "      <td>2009</td>\n",
       "      <td>Medium</td>\n",
       "      <td>Tier 3</td>\n",
       "      <td>Supermarket Type2</td>\n",
       "      <td>443.4228</td>\n",
       "    </tr>\n",
       "    <tr>\n",
       "      <th>2</th>\n",
       "      <td>FDN15</td>\n",
       "      <td>17.500</td>\n",
       "      <td>Low Fat</td>\n",
       "      <td>0.016760</td>\n",
       "      <td>Meat</td>\n",
       "      <td>141.6180</td>\n",
       "      <td>OUT049</td>\n",
       "      <td>1999</td>\n",
       "      <td>Medium</td>\n",
       "      <td>Tier 1</td>\n",
       "      <td>Supermarket Type1</td>\n",
       "      <td>2097.2700</td>\n",
       "    </tr>\n",
       "    <tr>\n",
       "      <th>3</th>\n",
       "      <td>FDX07</td>\n",
       "      <td>19.200</td>\n",
       "      <td>Regular</td>\n",
       "      <td>0.000000</td>\n",
       "      <td>Fruits and Vegetables</td>\n",
       "      <td>182.0950</td>\n",
       "      <td>OUT010</td>\n",
       "      <td>1998</td>\n",
       "      <td>NaN</td>\n",
       "      <td>Tier 3</td>\n",
       "      <td>Grocery Store</td>\n",
       "      <td>732.3800</td>\n",
       "    </tr>\n",
       "    <tr>\n",
       "      <th>4</th>\n",
       "      <td>NCD19</td>\n",
       "      <td>8.930</td>\n",
       "      <td>Low Fat</td>\n",
       "      <td>0.000000</td>\n",
       "      <td>Household</td>\n",
       "      <td>53.8614</td>\n",
       "      <td>OUT013</td>\n",
       "      <td>1987</td>\n",
       "      <td>High</td>\n",
       "      <td>Tier 3</td>\n",
       "      <td>Supermarket Type1</td>\n",
       "      <td>994.7052</td>\n",
       "    </tr>\n",
       "    <tr>\n",
       "      <th>5</th>\n",
       "      <td>FDP36</td>\n",
       "      <td>10.395</td>\n",
       "      <td>Regular</td>\n",
       "      <td>0.000000</td>\n",
       "      <td>Baking Goods</td>\n",
       "      <td>51.4008</td>\n",
       "      <td>OUT018</td>\n",
       "      <td>2009</td>\n",
       "      <td>Medium</td>\n",
       "      <td>Tier 3</td>\n",
       "      <td>Supermarket Type2</td>\n",
       "      <td>556.6088</td>\n",
       "    </tr>\n",
       "    <tr>\n",
       "      <th>6</th>\n",
       "      <td>FDO10</td>\n",
       "      <td>13.650</td>\n",
       "      <td>Regular</td>\n",
       "      <td>0.012741</td>\n",
       "      <td>Snack Foods</td>\n",
       "      <td>57.6588</td>\n",
       "      <td>OUT013</td>\n",
       "      <td>1987</td>\n",
       "      <td>High</td>\n",
       "      <td>Tier 3</td>\n",
       "      <td>Supermarket Type1</td>\n",
       "      <td>343.5528</td>\n",
       "    </tr>\n",
       "    <tr>\n",
       "      <th>7</th>\n",
       "      <td>FDP10</td>\n",
       "      <td>NaN</td>\n",
       "      <td>Low Fat</td>\n",
       "      <td>0.127470</td>\n",
       "      <td>Snack Foods</td>\n",
       "      <td>107.7622</td>\n",
       "      <td>OUT027</td>\n",
       "      <td>1985</td>\n",
       "      <td>Medium</td>\n",
       "      <td>Tier 3</td>\n",
       "      <td>Supermarket Type3</td>\n",
       "      <td>4022.7636</td>\n",
       "    </tr>\n",
       "    <tr>\n",
       "      <th>8</th>\n",
       "      <td>FDH17</td>\n",
       "      <td>16.200</td>\n",
       "      <td>Regular</td>\n",
       "      <td>0.016687</td>\n",
       "      <td>Frozen Foods</td>\n",
       "      <td>96.9726</td>\n",
       "      <td>OUT045</td>\n",
       "      <td>2002</td>\n",
       "      <td>NaN</td>\n",
       "      <td>Tier 2</td>\n",
       "      <td>Supermarket Type1</td>\n",
       "      <td>1076.5986</td>\n",
       "    </tr>\n",
       "    <tr>\n",
       "      <th>9</th>\n",
       "      <td>FDU28</td>\n",
       "      <td>19.200</td>\n",
       "      <td>Regular</td>\n",
       "      <td>0.094450</td>\n",
       "      <td>Frozen Foods</td>\n",
       "      <td>187.8214</td>\n",
       "      <td>OUT017</td>\n",
       "      <td>2007</td>\n",
       "      <td>NaN</td>\n",
       "      <td>Tier 2</td>\n",
       "      <td>Supermarket Type1</td>\n",
       "      <td>4710.5350</td>\n",
       "    </tr>\n",
       "  </tbody>\n",
       "</table>\n",
       "</div>"
      ],
      "text/plain": [
       "  Item_Identifier  Item_Weight Item_Fat_Content  Item_Visibility  \\\n",
       "0           FDA15        9.300          Low Fat         0.016047   \n",
       "1           DRC01        5.920          Regular         0.019278   \n",
       "2           FDN15       17.500          Low Fat         0.016760   \n",
       "3           FDX07       19.200          Regular         0.000000   \n",
       "4           NCD19        8.930          Low Fat         0.000000   \n",
       "5           FDP36       10.395          Regular         0.000000   \n",
       "6           FDO10       13.650          Regular         0.012741   \n",
       "7           FDP10          NaN          Low Fat         0.127470   \n",
       "8           FDH17       16.200          Regular         0.016687   \n",
       "9           FDU28       19.200          Regular         0.094450   \n",
       "\n",
       "               Item_Type  Item_MRP Outlet_Identifier  \\\n",
       "0                  Dairy  249.8092            OUT049   \n",
       "1            Soft Drinks   48.2692            OUT018   \n",
       "2                   Meat  141.6180            OUT049   \n",
       "3  Fruits and Vegetables  182.0950            OUT010   \n",
       "4              Household   53.8614            OUT013   \n",
       "5           Baking Goods   51.4008            OUT018   \n",
       "6            Snack Foods   57.6588            OUT013   \n",
       "7            Snack Foods  107.7622            OUT027   \n",
       "8           Frozen Foods   96.9726            OUT045   \n",
       "9           Frozen Foods  187.8214            OUT017   \n",
       "\n",
       "   Outlet_Establishment_Year Outlet_Size Outlet_Location_Type  \\\n",
       "0                       1999      Medium               Tier 1   \n",
       "1                       2009      Medium               Tier 3   \n",
       "2                       1999      Medium               Tier 1   \n",
       "3                       1998         NaN               Tier 3   \n",
       "4                       1987        High               Tier 3   \n",
       "5                       2009      Medium               Tier 3   \n",
       "6                       1987        High               Tier 3   \n",
       "7                       1985      Medium               Tier 3   \n",
       "8                       2002         NaN               Tier 2   \n",
       "9                       2007         NaN               Tier 2   \n",
       "\n",
       "         Outlet_Type  Item_Outlet_Sales  \n",
       "0  Supermarket Type1          3735.1380  \n",
       "1  Supermarket Type2           443.4228  \n",
       "2  Supermarket Type1          2097.2700  \n",
       "3      Grocery Store           732.3800  \n",
       "4  Supermarket Type1           994.7052  \n",
       "5  Supermarket Type2           556.6088  \n",
       "6  Supermarket Type1           343.5528  \n",
       "7  Supermarket Type3          4022.7636  \n",
       "8  Supermarket Type1          1076.5986  \n",
       "9  Supermarket Type1          4710.5350  "
      ]
     },
     "execution_count": 8,
     "metadata": {},
     "output_type": "execute_result"
    }
   ],
   "source": [
    "train.head(10)"
   ]
  },
  {
   "cell_type": "code",
   "execution_count": 9,
   "id": "775f86b3",
   "metadata": {
    "scrolled": true
   },
   "outputs": [
    {
     "data": {
      "text/html": [
       "<div>\n",
       "<style scoped>\n",
       "    .dataframe tbody tr th:only-of-type {\n",
       "        vertical-align: middle;\n",
       "    }\n",
       "\n",
       "    .dataframe tbody tr th {\n",
       "        vertical-align: top;\n",
       "    }\n",
       "\n",
       "    .dataframe thead th {\n",
       "        text-align: right;\n",
       "    }\n",
       "</style>\n",
       "<table border=\"1\" class=\"dataframe\">\n",
       "  <thead>\n",
       "    <tr style=\"text-align: right;\">\n",
       "      <th></th>\n",
       "      <th>Item_Identifier</th>\n",
       "      <th>Item_Weight</th>\n",
       "      <th>Item_Fat_Content</th>\n",
       "      <th>Item_Visibility</th>\n",
       "      <th>Item_Type</th>\n",
       "      <th>Item_MRP</th>\n",
       "      <th>Outlet_Identifier</th>\n",
       "      <th>Outlet_Establishment_Year</th>\n",
       "      <th>Outlet_Size</th>\n",
       "      <th>Outlet_Location_Type</th>\n",
       "      <th>Outlet_Type</th>\n",
       "      <th>Item_Outlet_Sales</th>\n",
       "    </tr>\n",
       "  </thead>\n",
       "  <tbody>\n",
       "    <tr>\n",
       "      <th>8513</th>\n",
       "      <td>FDH31</td>\n",
       "      <td>12.000</td>\n",
       "      <td>Regular</td>\n",
       "      <td>0.020407</td>\n",
       "      <td>Meat</td>\n",
       "      <td>99.9042</td>\n",
       "      <td>OUT035</td>\n",
       "      <td>2004</td>\n",
       "      <td>Small</td>\n",
       "      <td>Tier 2</td>\n",
       "      <td>Supermarket Type1</td>\n",
       "      <td>595.2252</td>\n",
       "    </tr>\n",
       "    <tr>\n",
       "      <th>8514</th>\n",
       "      <td>FDA01</td>\n",
       "      <td>15.000</td>\n",
       "      <td>Regular</td>\n",
       "      <td>0.054489</td>\n",
       "      <td>Canned</td>\n",
       "      <td>57.5904</td>\n",
       "      <td>OUT045</td>\n",
       "      <td>2002</td>\n",
       "      <td>NaN</td>\n",
       "      <td>Tier 2</td>\n",
       "      <td>Supermarket Type1</td>\n",
       "      <td>468.7232</td>\n",
       "    </tr>\n",
       "    <tr>\n",
       "      <th>8515</th>\n",
       "      <td>FDH24</td>\n",
       "      <td>20.700</td>\n",
       "      <td>Low Fat</td>\n",
       "      <td>0.021518</td>\n",
       "      <td>Baking Goods</td>\n",
       "      <td>157.5288</td>\n",
       "      <td>OUT018</td>\n",
       "      <td>2009</td>\n",
       "      <td>Medium</td>\n",
       "      <td>Tier 3</td>\n",
       "      <td>Supermarket Type2</td>\n",
       "      <td>1571.2880</td>\n",
       "    </tr>\n",
       "    <tr>\n",
       "      <th>8516</th>\n",
       "      <td>NCJ19</td>\n",
       "      <td>18.600</td>\n",
       "      <td>Low Fat</td>\n",
       "      <td>0.118661</td>\n",
       "      <td>Others</td>\n",
       "      <td>58.7588</td>\n",
       "      <td>OUT018</td>\n",
       "      <td>2009</td>\n",
       "      <td>Medium</td>\n",
       "      <td>Tier 3</td>\n",
       "      <td>Supermarket Type2</td>\n",
       "      <td>858.8820</td>\n",
       "    </tr>\n",
       "    <tr>\n",
       "      <th>8517</th>\n",
       "      <td>FDF53</td>\n",
       "      <td>20.750</td>\n",
       "      <td>reg</td>\n",
       "      <td>0.083607</td>\n",
       "      <td>Frozen Foods</td>\n",
       "      <td>178.8318</td>\n",
       "      <td>OUT046</td>\n",
       "      <td>1997</td>\n",
       "      <td>Small</td>\n",
       "      <td>Tier 1</td>\n",
       "      <td>Supermarket Type1</td>\n",
       "      <td>3608.6360</td>\n",
       "    </tr>\n",
       "    <tr>\n",
       "      <th>8518</th>\n",
       "      <td>FDF22</td>\n",
       "      <td>6.865</td>\n",
       "      <td>Low Fat</td>\n",
       "      <td>0.056783</td>\n",
       "      <td>Snack Foods</td>\n",
       "      <td>214.5218</td>\n",
       "      <td>OUT013</td>\n",
       "      <td>1987</td>\n",
       "      <td>High</td>\n",
       "      <td>Tier 3</td>\n",
       "      <td>Supermarket Type1</td>\n",
       "      <td>2778.3834</td>\n",
       "    </tr>\n",
       "    <tr>\n",
       "      <th>8519</th>\n",
       "      <td>FDS36</td>\n",
       "      <td>8.380</td>\n",
       "      <td>Regular</td>\n",
       "      <td>0.046982</td>\n",
       "      <td>Baking Goods</td>\n",
       "      <td>108.1570</td>\n",
       "      <td>OUT045</td>\n",
       "      <td>2002</td>\n",
       "      <td>NaN</td>\n",
       "      <td>Tier 2</td>\n",
       "      <td>Supermarket Type1</td>\n",
       "      <td>549.2850</td>\n",
       "    </tr>\n",
       "    <tr>\n",
       "      <th>8520</th>\n",
       "      <td>NCJ29</td>\n",
       "      <td>10.600</td>\n",
       "      <td>Low Fat</td>\n",
       "      <td>0.035186</td>\n",
       "      <td>Health and Hygiene</td>\n",
       "      <td>85.1224</td>\n",
       "      <td>OUT035</td>\n",
       "      <td>2004</td>\n",
       "      <td>Small</td>\n",
       "      <td>Tier 2</td>\n",
       "      <td>Supermarket Type1</td>\n",
       "      <td>1193.1136</td>\n",
       "    </tr>\n",
       "    <tr>\n",
       "      <th>8521</th>\n",
       "      <td>FDN46</td>\n",
       "      <td>7.210</td>\n",
       "      <td>Regular</td>\n",
       "      <td>0.145221</td>\n",
       "      <td>Snack Foods</td>\n",
       "      <td>103.1332</td>\n",
       "      <td>OUT018</td>\n",
       "      <td>2009</td>\n",
       "      <td>Medium</td>\n",
       "      <td>Tier 3</td>\n",
       "      <td>Supermarket Type2</td>\n",
       "      <td>1845.5976</td>\n",
       "    </tr>\n",
       "    <tr>\n",
       "      <th>8522</th>\n",
       "      <td>DRG01</td>\n",
       "      <td>14.800</td>\n",
       "      <td>Low Fat</td>\n",
       "      <td>0.044878</td>\n",
       "      <td>Soft Drinks</td>\n",
       "      <td>75.4670</td>\n",
       "      <td>OUT046</td>\n",
       "      <td>1997</td>\n",
       "      <td>Small</td>\n",
       "      <td>Tier 1</td>\n",
       "      <td>Supermarket Type1</td>\n",
       "      <td>765.6700</td>\n",
       "    </tr>\n",
       "  </tbody>\n",
       "</table>\n",
       "</div>"
      ],
      "text/plain": [
       "     Item_Identifier  Item_Weight Item_Fat_Content  Item_Visibility  \\\n",
       "8513           FDH31       12.000          Regular         0.020407   \n",
       "8514           FDA01       15.000          Regular         0.054489   \n",
       "8515           FDH24       20.700          Low Fat         0.021518   \n",
       "8516           NCJ19       18.600          Low Fat         0.118661   \n",
       "8517           FDF53       20.750              reg         0.083607   \n",
       "8518           FDF22        6.865          Low Fat         0.056783   \n",
       "8519           FDS36        8.380          Regular         0.046982   \n",
       "8520           NCJ29       10.600          Low Fat         0.035186   \n",
       "8521           FDN46        7.210          Regular         0.145221   \n",
       "8522           DRG01       14.800          Low Fat         0.044878   \n",
       "\n",
       "               Item_Type  Item_MRP Outlet_Identifier  \\\n",
       "8513                Meat   99.9042            OUT035   \n",
       "8514              Canned   57.5904            OUT045   \n",
       "8515        Baking Goods  157.5288            OUT018   \n",
       "8516              Others   58.7588            OUT018   \n",
       "8517        Frozen Foods  178.8318            OUT046   \n",
       "8518         Snack Foods  214.5218            OUT013   \n",
       "8519        Baking Goods  108.1570            OUT045   \n",
       "8520  Health and Hygiene   85.1224            OUT035   \n",
       "8521         Snack Foods  103.1332            OUT018   \n",
       "8522         Soft Drinks   75.4670            OUT046   \n",
       "\n",
       "      Outlet_Establishment_Year Outlet_Size Outlet_Location_Type  \\\n",
       "8513                       2004       Small               Tier 2   \n",
       "8514                       2002         NaN               Tier 2   \n",
       "8515                       2009      Medium               Tier 3   \n",
       "8516                       2009      Medium               Tier 3   \n",
       "8517                       1997       Small               Tier 1   \n",
       "8518                       1987        High               Tier 3   \n",
       "8519                       2002         NaN               Tier 2   \n",
       "8520                       2004       Small               Tier 2   \n",
       "8521                       2009      Medium               Tier 3   \n",
       "8522                       1997       Small               Tier 1   \n",
       "\n",
       "            Outlet_Type  Item_Outlet_Sales  \n",
       "8513  Supermarket Type1           595.2252  \n",
       "8514  Supermarket Type1           468.7232  \n",
       "8515  Supermarket Type2          1571.2880  \n",
       "8516  Supermarket Type2           858.8820  \n",
       "8517  Supermarket Type1          3608.6360  \n",
       "8518  Supermarket Type1          2778.3834  \n",
       "8519  Supermarket Type1           549.2850  \n",
       "8520  Supermarket Type1          1193.1136  \n",
       "8521  Supermarket Type2          1845.5976  \n",
       "8522  Supermarket Type1           765.6700  "
      ]
     },
     "execution_count": 9,
     "metadata": {},
     "output_type": "execute_result"
    }
   ],
   "source": [
    "train.tail(10)"
   ]
  },
  {
   "cell_type": "code",
   "execution_count": 10,
   "id": "cadc0ae2",
   "metadata": {},
   "outputs": [
    {
     "data": {
      "text/html": [
       "<div>\n",
       "<style scoped>\n",
       "    .dataframe tbody tr th:only-of-type {\n",
       "        vertical-align: middle;\n",
       "    }\n",
       "\n",
       "    .dataframe tbody tr th {\n",
       "        vertical-align: top;\n",
       "    }\n",
       "\n",
       "    .dataframe thead th {\n",
       "        text-align: right;\n",
       "    }\n",
       "</style>\n",
       "<table border=\"1\" class=\"dataframe\">\n",
       "  <thead>\n",
       "    <tr style=\"text-align: right;\">\n",
       "      <th></th>\n",
       "      <th>Item_Weight</th>\n",
       "      <th>Item_Visibility</th>\n",
       "      <th>Item_MRP</th>\n",
       "      <th>Outlet_Establishment_Year</th>\n",
       "      <th>Item_Outlet_Sales</th>\n",
       "    </tr>\n",
       "  </thead>\n",
       "  <tbody>\n",
       "    <tr>\n",
       "      <th>count</th>\n",
       "      <td>7060.000000</td>\n",
       "      <td>8523.000000</td>\n",
       "      <td>8523.000000</td>\n",
       "      <td>8523.000000</td>\n",
       "      <td>8523.000000</td>\n",
       "    </tr>\n",
       "    <tr>\n",
       "      <th>mean</th>\n",
       "      <td>12.857645</td>\n",
       "      <td>0.066132</td>\n",
       "      <td>140.992782</td>\n",
       "      <td>1997.831867</td>\n",
       "      <td>2181.288914</td>\n",
       "    </tr>\n",
       "    <tr>\n",
       "      <th>std</th>\n",
       "      <td>4.643456</td>\n",
       "      <td>0.051598</td>\n",
       "      <td>62.275067</td>\n",
       "      <td>8.371760</td>\n",
       "      <td>1706.499616</td>\n",
       "    </tr>\n",
       "    <tr>\n",
       "      <th>min</th>\n",
       "      <td>4.555000</td>\n",
       "      <td>0.000000</td>\n",
       "      <td>31.290000</td>\n",
       "      <td>1985.000000</td>\n",
       "      <td>33.290000</td>\n",
       "    </tr>\n",
       "    <tr>\n",
       "      <th>25%</th>\n",
       "      <td>8.773750</td>\n",
       "      <td>0.026989</td>\n",
       "      <td>93.826500</td>\n",
       "      <td>1987.000000</td>\n",
       "      <td>834.247400</td>\n",
       "    </tr>\n",
       "    <tr>\n",
       "      <th>50%</th>\n",
       "      <td>12.600000</td>\n",
       "      <td>0.053931</td>\n",
       "      <td>143.012800</td>\n",
       "      <td>1999.000000</td>\n",
       "      <td>1794.331000</td>\n",
       "    </tr>\n",
       "    <tr>\n",
       "      <th>75%</th>\n",
       "      <td>16.850000</td>\n",
       "      <td>0.094585</td>\n",
       "      <td>185.643700</td>\n",
       "      <td>2004.000000</td>\n",
       "      <td>3101.296400</td>\n",
       "    </tr>\n",
       "    <tr>\n",
       "      <th>max</th>\n",
       "      <td>21.350000</td>\n",
       "      <td>0.328391</td>\n",
       "      <td>266.888400</td>\n",
       "      <td>2009.000000</td>\n",
       "      <td>13086.964800</td>\n",
       "    </tr>\n",
       "  </tbody>\n",
       "</table>\n",
       "</div>"
      ],
      "text/plain": [
       "       Item_Weight  Item_Visibility     Item_MRP  Outlet_Establishment_Year  \\\n",
       "count  7060.000000      8523.000000  8523.000000                8523.000000   \n",
       "mean     12.857645         0.066132   140.992782                1997.831867   \n",
       "std       4.643456         0.051598    62.275067                   8.371760   \n",
       "min       4.555000         0.000000    31.290000                1985.000000   \n",
       "25%       8.773750         0.026989    93.826500                1987.000000   \n",
       "50%      12.600000         0.053931   143.012800                1999.000000   \n",
       "75%      16.850000         0.094585   185.643700                2004.000000   \n",
       "max      21.350000         0.328391   266.888400                2009.000000   \n",
       "\n",
       "       Item_Outlet_Sales  \n",
       "count        8523.000000  \n",
       "mean         2181.288914  \n",
       "std          1706.499616  \n",
       "min            33.290000  \n",
       "25%           834.247400  \n",
       "50%          1794.331000  \n",
       "75%          3101.296400  \n",
       "max         13086.964800  "
      ]
     },
     "execution_count": 10,
     "metadata": {},
     "output_type": "execute_result"
    }
   ],
   "source": [
    "train.describe()"
   ]
  },
  {
   "cell_type": "code",
   "execution_count": 11,
   "id": "18e1b595",
   "metadata": {},
   "outputs": [
    {
     "data": {
      "text/html": [
       "<div>\n",
       "<style scoped>\n",
       "    .dataframe tbody tr th:only-of-type {\n",
       "        vertical-align: middle;\n",
       "    }\n",
       "\n",
       "    .dataframe tbody tr th {\n",
       "        vertical-align: top;\n",
       "    }\n",
       "\n",
       "    .dataframe thead th {\n",
       "        text-align: right;\n",
       "    }\n",
       "</style>\n",
       "<table border=\"1\" class=\"dataframe\">\n",
       "  <thead>\n",
       "    <tr style=\"text-align: right;\">\n",
       "      <th></th>\n",
       "      <th>Item_Weight</th>\n",
       "      <th>Item_Visibility</th>\n",
       "      <th>Item_MRP</th>\n",
       "      <th>Outlet_Establishment_Year</th>\n",
       "    </tr>\n",
       "  </thead>\n",
       "  <tbody>\n",
       "    <tr>\n",
       "      <th>count</th>\n",
       "      <td>4705.000000</td>\n",
       "      <td>5681.000000</td>\n",
       "      <td>5681.000000</td>\n",
       "      <td>5681.000000</td>\n",
       "    </tr>\n",
       "    <tr>\n",
       "      <th>mean</th>\n",
       "      <td>12.695633</td>\n",
       "      <td>0.065684</td>\n",
       "      <td>141.023273</td>\n",
       "      <td>1997.828903</td>\n",
       "    </tr>\n",
       "    <tr>\n",
       "      <th>std</th>\n",
       "      <td>4.664849</td>\n",
       "      <td>0.051252</td>\n",
       "      <td>61.809091</td>\n",
       "      <td>8.372256</td>\n",
       "    </tr>\n",
       "    <tr>\n",
       "      <th>min</th>\n",
       "      <td>4.555000</td>\n",
       "      <td>0.000000</td>\n",
       "      <td>31.990000</td>\n",
       "      <td>1985.000000</td>\n",
       "    </tr>\n",
       "    <tr>\n",
       "      <th>25%</th>\n",
       "      <td>8.645000</td>\n",
       "      <td>0.027047</td>\n",
       "      <td>94.412000</td>\n",
       "      <td>1987.000000</td>\n",
       "    </tr>\n",
       "    <tr>\n",
       "      <th>50%</th>\n",
       "      <td>12.500000</td>\n",
       "      <td>0.054154</td>\n",
       "      <td>141.415400</td>\n",
       "      <td>1999.000000</td>\n",
       "    </tr>\n",
       "    <tr>\n",
       "      <th>75%</th>\n",
       "      <td>16.700000</td>\n",
       "      <td>0.093463</td>\n",
       "      <td>186.026600</td>\n",
       "      <td>2004.000000</td>\n",
       "    </tr>\n",
       "    <tr>\n",
       "      <th>max</th>\n",
       "      <td>21.350000</td>\n",
       "      <td>0.323637</td>\n",
       "      <td>266.588400</td>\n",
       "      <td>2009.000000</td>\n",
       "    </tr>\n",
       "  </tbody>\n",
       "</table>\n",
       "</div>"
      ],
      "text/plain": [
       "       Item_Weight  Item_Visibility     Item_MRP  Outlet_Establishment_Year\n",
       "count  4705.000000      5681.000000  5681.000000                5681.000000\n",
       "mean     12.695633         0.065684   141.023273                1997.828903\n",
       "std       4.664849         0.051252    61.809091                   8.372256\n",
       "min       4.555000         0.000000    31.990000                1985.000000\n",
       "25%       8.645000         0.027047    94.412000                1987.000000\n",
       "50%      12.500000         0.054154   141.415400                1999.000000\n",
       "75%      16.700000         0.093463   186.026600                2004.000000\n",
       "max      21.350000         0.323637   266.588400                2009.000000"
      ]
     },
     "execution_count": 11,
     "metadata": {},
     "output_type": "execute_result"
    }
   ],
   "source": [
    "test.describe()"
   ]
  },
  {
   "cell_type": "code",
   "execution_count": 12,
   "id": "7db23e6c",
   "metadata": {},
   "outputs": [],
   "source": [
    "bmart=train.append(test)"
   ]
  },
  {
   "cell_type": "code",
   "execution_count": 13,
   "id": "087ac32e",
   "metadata": {},
   "outputs": [
    {
     "data": {
      "text/html": [
       "<div>\n",
       "<style scoped>\n",
       "    .dataframe tbody tr th:only-of-type {\n",
       "        vertical-align: middle;\n",
       "    }\n",
       "\n",
       "    .dataframe tbody tr th {\n",
       "        vertical-align: top;\n",
       "    }\n",
       "\n",
       "    .dataframe thead th {\n",
       "        text-align: right;\n",
       "    }\n",
       "</style>\n",
       "<table border=\"1\" class=\"dataframe\">\n",
       "  <thead>\n",
       "    <tr style=\"text-align: right;\">\n",
       "      <th></th>\n",
       "      <th>Item_Identifier</th>\n",
       "      <th>Item_Weight</th>\n",
       "      <th>Item_Fat_Content</th>\n",
       "      <th>Item_Visibility</th>\n",
       "      <th>Item_Type</th>\n",
       "      <th>Item_MRP</th>\n",
       "      <th>Outlet_Identifier</th>\n",
       "      <th>Outlet_Establishment_Year</th>\n",
       "      <th>Outlet_Size</th>\n",
       "      <th>Outlet_Location_Type</th>\n",
       "      <th>Outlet_Type</th>\n",
       "      <th>Item_Outlet_Sales</th>\n",
       "    </tr>\n",
       "  </thead>\n",
       "  <tbody>\n",
       "    <tr>\n",
       "      <th>0</th>\n",
       "      <td>FDA15</td>\n",
       "      <td>9.30</td>\n",
       "      <td>Low Fat</td>\n",
       "      <td>0.016047</td>\n",
       "      <td>Dairy</td>\n",
       "      <td>249.8092</td>\n",
       "      <td>OUT049</td>\n",
       "      <td>1999</td>\n",
       "      <td>Medium</td>\n",
       "      <td>Tier 1</td>\n",
       "      <td>Supermarket Type1</td>\n",
       "      <td>3735.1380</td>\n",
       "    </tr>\n",
       "    <tr>\n",
       "      <th>1</th>\n",
       "      <td>DRC01</td>\n",
       "      <td>5.92</td>\n",
       "      <td>Regular</td>\n",
       "      <td>0.019278</td>\n",
       "      <td>Soft Drinks</td>\n",
       "      <td>48.2692</td>\n",
       "      <td>OUT018</td>\n",
       "      <td>2009</td>\n",
       "      <td>Medium</td>\n",
       "      <td>Tier 3</td>\n",
       "      <td>Supermarket Type2</td>\n",
       "      <td>443.4228</td>\n",
       "    </tr>\n",
       "    <tr>\n",
       "      <th>2</th>\n",
       "      <td>FDN15</td>\n",
       "      <td>17.50</td>\n",
       "      <td>Low Fat</td>\n",
       "      <td>0.016760</td>\n",
       "      <td>Meat</td>\n",
       "      <td>141.6180</td>\n",
       "      <td>OUT049</td>\n",
       "      <td>1999</td>\n",
       "      <td>Medium</td>\n",
       "      <td>Tier 1</td>\n",
       "      <td>Supermarket Type1</td>\n",
       "      <td>2097.2700</td>\n",
       "    </tr>\n",
       "    <tr>\n",
       "      <th>3</th>\n",
       "      <td>FDX07</td>\n",
       "      <td>19.20</td>\n",
       "      <td>Regular</td>\n",
       "      <td>0.000000</td>\n",
       "      <td>Fruits and Vegetables</td>\n",
       "      <td>182.0950</td>\n",
       "      <td>OUT010</td>\n",
       "      <td>1998</td>\n",
       "      <td>NaN</td>\n",
       "      <td>Tier 3</td>\n",
       "      <td>Grocery Store</td>\n",
       "      <td>732.3800</td>\n",
       "    </tr>\n",
       "    <tr>\n",
       "      <th>4</th>\n",
       "      <td>NCD19</td>\n",
       "      <td>8.93</td>\n",
       "      <td>Low Fat</td>\n",
       "      <td>0.000000</td>\n",
       "      <td>Household</td>\n",
       "      <td>53.8614</td>\n",
       "      <td>OUT013</td>\n",
       "      <td>1987</td>\n",
       "      <td>High</td>\n",
       "      <td>Tier 3</td>\n",
       "      <td>Supermarket Type1</td>\n",
       "      <td>994.7052</td>\n",
       "    </tr>\n",
       "    <tr>\n",
       "      <th>...</th>\n",
       "      <td>...</td>\n",
       "      <td>...</td>\n",
       "      <td>...</td>\n",
       "      <td>...</td>\n",
       "      <td>...</td>\n",
       "      <td>...</td>\n",
       "      <td>...</td>\n",
       "      <td>...</td>\n",
       "      <td>...</td>\n",
       "      <td>...</td>\n",
       "      <td>...</td>\n",
       "      <td>...</td>\n",
       "    </tr>\n",
       "    <tr>\n",
       "      <th>5676</th>\n",
       "      <td>FDB58</td>\n",
       "      <td>10.50</td>\n",
       "      <td>Regular</td>\n",
       "      <td>0.013496</td>\n",
       "      <td>Snack Foods</td>\n",
       "      <td>141.3154</td>\n",
       "      <td>OUT046</td>\n",
       "      <td>1997</td>\n",
       "      <td>Small</td>\n",
       "      <td>Tier 1</td>\n",
       "      <td>Supermarket Type1</td>\n",
       "      <td>NaN</td>\n",
       "    </tr>\n",
       "    <tr>\n",
       "      <th>5677</th>\n",
       "      <td>FDD47</td>\n",
       "      <td>7.60</td>\n",
       "      <td>Regular</td>\n",
       "      <td>0.142991</td>\n",
       "      <td>Starchy Foods</td>\n",
       "      <td>169.1448</td>\n",
       "      <td>OUT018</td>\n",
       "      <td>2009</td>\n",
       "      <td>Medium</td>\n",
       "      <td>Tier 3</td>\n",
       "      <td>Supermarket Type2</td>\n",
       "      <td>NaN</td>\n",
       "    </tr>\n",
       "    <tr>\n",
       "      <th>5678</th>\n",
       "      <td>NCO17</td>\n",
       "      <td>10.00</td>\n",
       "      <td>Low Fat</td>\n",
       "      <td>0.073529</td>\n",
       "      <td>Health and Hygiene</td>\n",
       "      <td>118.7440</td>\n",
       "      <td>OUT045</td>\n",
       "      <td>2002</td>\n",
       "      <td>NaN</td>\n",
       "      <td>Tier 2</td>\n",
       "      <td>Supermarket Type1</td>\n",
       "      <td>NaN</td>\n",
       "    </tr>\n",
       "    <tr>\n",
       "      <th>5679</th>\n",
       "      <td>FDJ26</td>\n",
       "      <td>15.30</td>\n",
       "      <td>Regular</td>\n",
       "      <td>0.000000</td>\n",
       "      <td>Canned</td>\n",
       "      <td>214.6218</td>\n",
       "      <td>OUT017</td>\n",
       "      <td>2007</td>\n",
       "      <td>NaN</td>\n",
       "      <td>Tier 2</td>\n",
       "      <td>Supermarket Type1</td>\n",
       "      <td>NaN</td>\n",
       "    </tr>\n",
       "    <tr>\n",
       "      <th>5680</th>\n",
       "      <td>FDU37</td>\n",
       "      <td>9.50</td>\n",
       "      <td>Regular</td>\n",
       "      <td>0.104720</td>\n",
       "      <td>Canned</td>\n",
       "      <td>79.7960</td>\n",
       "      <td>OUT045</td>\n",
       "      <td>2002</td>\n",
       "      <td>NaN</td>\n",
       "      <td>Tier 2</td>\n",
       "      <td>Supermarket Type1</td>\n",
       "      <td>NaN</td>\n",
       "    </tr>\n",
       "  </tbody>\n",
       "</table>\n",
       "<p>14204 rows × 12 columns</p>\n",
       "</div>"
      ],
      "text/plain": [
       "     Item_Identifier  Item_Weight Item_Fat_Content  Item_Visibility  \\\n",
       "0              FDA15         9.30          Low Fat         0.016047   \n",
       "1              DRC01         5.92          Regular         0.019278   \n",
       "2              FDN15        17.50          Low Fat         0.016760   \n",
       "3              FDX07        19.20          Regular         0.000000   \n",
       "4              NCD19         8.93          Low Fat         0.000000   \n",
       "...              ...          ...              ...              ...   \n",
       "5676           FDB58        10.50          Regular         0.013496   \n",
       "5677           FDD47         7.60          Regular         0.142991   \n",
       "5678           NCO17        10.00          Low Fat         0.073529   \n",
       "5679           FDJ26        15.30          Regular         0.000000   \n",
       "5680           FDU37         9.50          Regular         0.104720   \n",
       "\n",
       "                  Item_Type  Item_MRP Outlet_Identifier  \\\n",
       "0                     Dairy  249.8092            OUT049   \n",
       "1               Soft Drinks   48.2692            OUT018   \n",
       "2                      Meat  141.6180            OUT049   \n",
       "3     Fruits and Vegetables  182.0950            OUT010   \n",
       "4                 Household   53.8614            OUT013   \n",
       "...                     ...       ...               ...   \n",
       "5676            Snack Foods  141.3154            OUT046   \n",
       "5677          Starchy Foods  169.1448            OUT018   \n",
       "5678     Health and Hygiene  118.7440            OUT045   \n",
       "5679                 Canned  214.6218            OUT017   \n",
       "5680                 Canned   79.7960            OUT045   \n",
       "\n",
       "      Outlet_Establishment_Year Outlet_Size Outlet_Location_Type  \\\n",
       "0                          1999      Medium               Tier 1   \n",
       "1                          2009      Medium               Tier 3   \n",
       "2                          1999      Medium               Tier 1   \n",
       "3                          1998         NaN               Tier 3   \n",
       "4                          1987        High               Tier 3   \n",
       "...                         ...         ...                  ...   \n",
       "5676                       1997       Small               Tier 1   \n",
       "5677                       2009      Medium               Tier 3   \n",
       "5678                       2002         NaN               Tier 2   \n",
       "5679                       2007         NaN               Tier 2   \n",
       "5680                       2002         NaN               Tier 2   \n",
       "\n",
       "            Outlet_Type  Item_Outlet_Sales  \n",
       "0     Supermarket Type1          3735.1380  \n",
       "1     Supermarket Type2           443.4228  \n",
       "2     Supermarket Type1          2097.2700  \n",
       "3         Grocery Store           732.3800  \n",
       "4     Supermarket Type1           994.7052  \n",
       "...                 ...                ...  \n",
       "5676  Supermarket Type1                NaN  \n",
       "5677  Supermarket Type2                NaN  \n",
       "5678  Supermarket Type1                NaN  \n",
       "5679  Supermarket Type1                NaN  \n",
       "5680  Supermarket Type1                NaN  \n",
       "\n",
       "[14204 rows x 12 columns]"
      ]
     },
     "execution_count": 13,
     "metadata": {},
     "output_type": "execute_result"
    }
   ],
   "source": [
    "bmart"
   ]
  },
  {
   "cell_type": "code",
   "execution_count": 14,
   "id": "ce47c5ce",
   "metadata": {},
   "outputs": [
    {
     "data": {
      "text/plain": [
       "(14204, 12)"
      ]
     },
     "execution_count": 14,
     "metadata": {},
     "output_type": "execute_result"
    }
   ],
   "source": [
    "bmart.shape"
   ]
  },
  {
   "cell_type": "code",
   "execution_count": 15,
   "id": "1f9839cd",
   "metadata": {},
   "outputs": [
    {
     "data": {
      "text/html": [
       "<div>\n",
       "<style scoped>\n",
       "    .dataframe tbody tr th:only-of-type {\n",
       "        vertical-align: middle;\n",
       "    }\n",
       "\n",
       "    .dataframe tbody tr th {\n",
       "        vertical-align: top;\n",
       "    }\n",
       "\n",
       "    .dataframe thead th {\n",
       "        text-align: right;\n",
       "    }\n",
       "</style>\n",
       "<table border=\"1\" class=\"dataframe\">\n",
       "  <thead>\n",
       "    <tr style=\"text-align: right;\">\n",
       "      <th></th>\n",
       "      <th>Item_Weight</th>\n",
       "      <th>Item_Visibility</th>\n",
       "      <th>Item_MRP</th>\n",
       "      <th>Outlet_Establishment_Year</th>\n",
       "      <th>Item_Outlet_Sales</th>\n",
       "    </tr>\n",
       "  </thead>\n",
       "  <tbody>\n",
       "    <tr>\n",
       "      <th>count</th>\n",
       "      <td>11765.000000</td>\n",
       "      <td>14204.000000</td>\n",
       "      <td>14204.000000</td>\n",
       "      <td>14204.000000</td>\n",
       "      <td>8523.000000</td>\n",
       "    </tr>\n",
       "    <tr>\n",
       "      <th>mean</th>\n",
       "      <td>12.792854</td>\n",
       "      <td>0.065953</td>\n",
       "      <td>141.004977</td>\n",
       "      <td>1997.830681</td>\n",
       "      <td>2181.288914</td>\n",
       "    </tr>\n",
       "    <tr>\n",
       "      <th>std</th>\n",
       "      <td>4.652502</td>\n",
       "      <td>0.051459</td>\n",
       "      <td>62.086938</td>\n",
       "      <td>8.371664</td>\n",
       "      <td>1706.499616</td>\n",
       "    </tr>\n",
       "    <tr>\n",
       "      <th>min</th>\n",
       "      <td>4.555000</td>\n",
       "      <td>0.000000</td>\n",
       "      <td>31.290000</td>\n",
       "      <td>1985.000000</td>\n",
       "      <td>33.290000</td>\n",
       "    </tr>\n",
       "    <tr>\n",
       "      <th>25%</th>\n",
       "      <td>8.710000</td>\n",
       "      <td>0.027036</td>\n",
       "      <td>94.012000</td>\n",
       "      <td>1987.000000</td>\n",
       "      <td>834.247400</td>\n",
       "    </tr>\n",
       "    <tr>\n",
       "      <th>50%</th>\n",
       "      <td>12.600000</td>\n",
       "      <td>0.054021</td>\n",
       "      <td>142.247000</td>\n",
       "      <td>1999.000000</td>\n",
       "      <td>1794.331000</td>\n",
       "    </tr>\n",
       "    <tr>\n",
       "      <th>75%</th>\n",
       "      <td>16.750000</td>\n",
       "      <td>0.094037</td>\n",
       "      <td>185.855600</td>\n",
       "      <td>2004.000000</td>\n",
       "      <td>3101.296400</td>\n",
       "    </tr>\n",
       "    <tr>\n",
       "      <th>max</th>\n",
       "      <td>21.350000</td>\n",
       "      <td>0.328391</td>\n",
       "      <td>266.888400</td>\n",
       "      <td>2009.000000</td>\n",
       "      <td>13086.964800</td>\n",
       "    </tr>\n",
       "  </tbody>\n",
       "</table>\n",
       "</div>"
      ],
      "text/plain": [
       "        Item_Weight  Item_Visibility      Item_MRP  Outlet_Establishment_Year  \\\n",
       "count  11765.000000     14204.000000  14204.000000               14204.000000   \n",
       "mean      12.792854         0.065953    141.004977                1997.830681   \n",
       "std        4.652502         0.051459     62.086938                   8.371664   \n",
       "min        4.555000         0.000000     31.290000                1985.000000   \n",
       "25%        8.710000         0.027036     94.012000                1987.000000   \n",
       "50%       12.600000         0.054021    142.247000                1999.000000   \n",
       "75%       16.750000         0.094037    185.855600                2004.000000   \n",
       "max       21.350000         0.328391    266.888400                2009.000000   \n",
       "\n",
       "       Item_Outlet_Sales  \n",
       "count        8523.000000  \n",
       "mean         2181.288914  \n",
       "std          1706.499616  \n",
       "min            33.290000  \n",
       "25%           834.247400  \n",
       "50%          1794.331000  \n",
       "75%          3101.296400  \n",
       "max         13086.964800  "
      ]
     },
     "execution_count": 15,
     "metadata": {},
     "output_type": "execute_result"
    }
   ],
   "source": [
    "bmart.describe()"
   ]
  },
  {
   "cell_type": "code",
   "execution_count": 16,
   "id": "64b0f962",
   "metadata": {
    "scrolled": true
   },
   "outputs": [
    {
     "data": {
      "text/plain": [
       "Item_Identifier                 0\n",
       "Item_Weight                  2439\n",
       "Item_Fat_Content                0\n",
       "Item_Visibility                 0\n",
       "Item_Type                       0\n",
       "Item_MRP                        0\n",
       "Outlet_Identifier               0\n",
       "Outlet_Establishment_Year       0\n",
       "Outlet_Size                  4016\n",
       "Outlet_Location_Type            0\n",
       "Outlet_Type                     0\n",
       "Item_Outlet_Sales            5681\n",
       "dtype: int64"
      ]
     },
     "execution_count": 16,
     "metadata": {},
     "output_type": "execute_result"
    }
   ],
   "source": [
    "bmart.isnull().sum()"
   ]
  },
  {
   "cell_type": "code",
   "execution_count": 17,
   "id": "d0498774",
   "metadata": {},
   "outputs": [
    {
     "name": "stdout",
     "output_type": "stream",
     "text": [
      "<class 'pandas.core.frame.DataFrame'>\n",
      "Int64Index: 14204 entries, 0 to 5680\n",
      "Data columns (total 12 columns):\n",
      " #   Column                     Non-Null Count  Dtype  \n",
      "---  ------                     --------------  -----  \n",
      " 0   Item_Identifier            14204 non-null  object \n",
      " 1   Item_Weight                11765 non-null  float64\n",
      " 2   Item_Fat_Content           14204 non-null  object \n",
      " 3   Item_Visibility            14204 non-null  float64\n",
      " 4   Item_Type                  14204 non-null  object \n",
      " 5   Item_MRP                   14204 non-null  float64\n",
      " 6   Outlet_Identifier          14204 non-null  object \n",
      " 7   Outlet_Establishment_Year  14204 non-null  int64  \n",
      " 8   Outlet_Size                10188 non-null  object \n",
      " 9   Outlet_Location_Type       14204 non-null  object \n",
      " 10  Outlet_Type                14204 non-null  object \n",
      " 11  Item_Outlet_Sales          8523 non-null   float64\n",
      "dtypes: float64(4), int64(1), object(7)\n",
      "memory usage: 1.4+ MB\n"
     ]
    }
   ],
   "source": [
    "bmart.info()"
   ]
  },
  {
   "cell_type": "code",
   "execution_count": 18,
   "id": "984c00d7",
   "metadata": {},
   "outputs": [
    {
     "data": {
      "text/plain": [
       "Low Fat    8485\n",
       "Regular    4824\n",
       "LF          522\n",
       "reg         195\n",
       "low fat     178\n",
       "Name: Item_Fat_Content, dtype: int64"
      ]
     },
     "execution_count": 18,
     "metadata": {},
     "output_type": "execute_result"
    }
   ],
   "source": [
    "bmart[\"Item_Fat_Content\"].value_counts()"
   ]
  },
  {
   "cell_type": "code",
   "execution_count": 19,
   "id": "722b4f25",
   "metadata": {},
   "outputs": [
    {
     "data": {
      "text/plain": [
       "45      LF\n",
       "65      LF\n",
       "121     LF\n",
       "175     LF\n",
       "207     LF\n",
       "        ..\n",
       "5563    LF\n",
       "5566    LF\n",
       "5605    LF\n",
       "5616    LF\n",
       "5623    LF\n",
       "Name: Item_Fat_Content, Length: 522, dtype: object"
      ]
     },
     "execution_count": 19,
     "metadata": {},
     "output_type": "execute_result"
    }
   ],
   "source": [
    "bmart.loc[bmart.Item_Fat_Content==\"LF\",\"Item_Fat_Content\"]"
   ]
  },
  {
   "cell_type": "code",
   "execution_count": 20,
   "id": "9971d701",
   "metadata": {},
   "outputs": [],
   "source": [
    "bmart[\"Item_Fat_Content\"]=bmart[\"Item_Fat_Content\"].replace([\"LF\",\"low fat\"],\"Low Fat\")"
   ]
  },
  {
   "cell_type": "code",
   "execution_count": 21,
   "id": "e0d282e8",
   "metadata": {},
   "outputs": [],
   "source": [
    "bmart[\"Item_Fat_Content\"]=bmart[\"Item_Fat_Content\"].replace([\"reg\"],\"Regular\")"
   ]
  },
  {
   "cell_type": "code",
   "execution_count": 22,
   "id": "e7f9c915",
   "metadata": {},
   "outputs": [
    {
     "data": {
      "text/plain": [
       "Low Fat    64.664883\n",
       "Regular    35.335117\n",
       "Name: Item_Fat_Content, dtype: float64"
      ]
     },
     "execution_count": 22,
     "metadata": {},
     "output_type": "execute_result"
    }
   ],
   "source": [
    "bmart[\"Item_Fat_Content\"].value_counts(normalize=True)*100"
   ]
  },
  {
   "cell_type": "code",
   "execution_count": 23,
   "id": "f7d0a543",
   "metadata": {},
   "outputs": [
    {
     "data": {
      "text/plain": [
       "Low Fat    9185\n",
       "Regular    5019\n",
       "Name: Item_Fat_Content, dtype: int64"
      ]
     },
     "execution_count": 23,
     "metadata": {},
     "output_type": "execute_result"
    }
   ],
   "source": [
    "bmart[\"Item_Fat_Content\"].value_counts()"
   ]
  },
  {
   "cell_type": "code",
   "execution_count": 24,
   "id": "7b6c2fc8",
   "metadata": {},
   "outputs": [
    {
     "name": "stderr",
     "output_type": "stream",
     "text": [
      "C:\\Users\\91809\\anaconda3\\lib\\site-packages\\seaborn\\_decorators.py:36: FutureWarning: Pass the following variable as a keyword arg: x. From version 0.12, the only valid positional argument will be `data`, and passing other arguments without an explicit keyword will result in an error or misinterpretation.\n",
      "  warnings.warn(\n"
     ]
    },
    {
     "data": {
      "text/plain": [
       "<AxesSubplot:xlabel='Item_Identifier', ylabel='count'>"
      ]
     },
     "execution_count": 24,
     "metadata": {},
     "output_type": "execute_result"
    },
    {
     "data": {
      "image/png": "[encoded data removed]",
      "text/plain": [
       "<Figure size 432x288 with 1 Axes>"
      ]
     },
     "metadata": {
      "needs_background": "light"
     },
     "output_type": "display_data"
    }
   ],
   "source": [
    "sns.countplot(bmart[\"Item_Identifier\"].value_counts())"
   ]
  },
  {
   "cell_type": "code",
   "execution_count": 25,
   "id": "81acf9ec",
   "metadata": {},
   "outputs": [
    {
     "data": {
      "text/plain": [
       "FDU15    10\n",
       "FDS25    10\n",
       "FDA38    10\n",
       "FDW03    10\n",
       "FDJ10    10\n",
       "         ..\n",
       "FDR51     7\n",
       "FDM52     7\n",
       "DRN11     7\n",
       "FDH58     7\n",
       "NCW54     7\n",
       "Name: Item_Identifier, Length: 1559, dtype: int64"
      ]
     },
     "execution_count": 25,
     "metadata": {},
     "output_type": "execute_result"
    }
   ],
   "source": [
    "bmart[\"Item_Identifier\"].value_counts()"
   ]
  },
  {
   "cell_type": "code",
   "execution_count": 26,
   "id": "0636773b",
   "metadata": {},
   "outputs": [
    {
     "data": {
      "text/plain": [
       "FD    0.718178\n",
       "NC    0.189102\n",
       "DR    0.092720\n",
       "Name: Item_Identifier, dtype: float64"
      ]
     },
     "execution_count": 26,
     "metadata": {},
     "output_type": "execute_result"
    }
   ],
   "source": [
    "bmart[\"Item_Identifier\"].str[:2].value_counts(normalize=True)"
   ]
  },
  {
   "cell_type": "code",
   "execution_count": 27,
   "id": "637b1d36",
   "metadata": {},
   "outputs": [
    {
     "data": {
      "text/plain": [
       "count    14204.000000\n",
       "mean       141.004977\n",
       "std         62.086938\n",
       "min         31.290000\n",
       "25%         94.012000\n",
       "50%        142.247000\n",
       "75%        185.855600\n",
       "max        266.888400\n",
       "Name: Item_MRP, dtype: float64"
      ]
     },
     "execution_count": 27,
     "metadata": {},
     "output_type": "execute_result"
    }
   ],
   "source": [
    "bmart[\"Item_MRP\"].describe()"
   ]
  },
  {
   "cell_type": "code",
   "execution_count": 28,
   "id": "8fdd6b54",
   "metadata": {},
   "outputs": [
    {
     "name": "stderr",
     "output_type": "stream",
     "text": [
      "C:\\Users\\91809\\anaconda3\\lib\\site-packages\\seaborn\\distributions.py:2619: FutureWarning: `distplot` is a deprecated function and will be removed in a future version. Please adapt your code to use either `displot` (a figure-level function with similar flexibility) or `histplot` (an axes-level function for histograms).\n",
      "  warnings.warn(msg, FutureWarning)\n"
     ]
    },
    {
     "data": {
      "text/plain": [
       "<AxesSubplot:xlabel='Item_MRP', ylabel='Density'>"
      ]
     },
     "execution_count": 28,
     "metadata": {},
     "output_type": "execute_result"
    },
    {
     "data": {
      "image/png": "[encoded data removed]",
      "text/plain": [
       "<Figure size 432x288 with 1 Axes>"
      ]
     },
     "metadata": {
      "needs_background": "light"
     },
     "output_type": "display_data"
    }
   ],
   "source": [
    "sns.distplot(bmart[\"Item_MRP\"])"
   ]
  },
  {
   "cell_type": "code",
   "execution_count": 29,
   "id": "7304b73b",
   "metadata": {},
   "outputs": [
    {
     "data": {
      "text/plain": [
       "<AxesSubplot:>"
      ]
     },
     "execution_count": 29,
     "metadata": {},
     "output_type": "execute_result"
    },
    {
     "data": {
      "image/png": "[encoded data removed]",
      "text/plain": [
       "<Figure size 432x288 with 2 Axes>"
      ]
     },
     "metadata": {
      "needs_background": "light"
     },
     "output_type": "display_data"
    }
   ],
   "source": [
    "sns.heatmap(bmart.corr(),annot=True,vmin=-1,vmax=1,center=0,cmap=\"coolwarm\")"
   ]
  },
  {
   "cell_type": "code",
   "execution_count": 30,
   "id": "304786d7",
   "metadata": {
    "scrolled": false
   },
   "outputs": [
    {
     "name": "stderr",
     "output_type": "stream",
     "text": [
      "C:\\Users\\91809\\anaconda3\\lib\\site-packages\\seaborn\\_decorators.py:36: FutureWarning: Pass the following variables as keyword args: x, y. From version 0.12, the only valid positional argument will be `data`, and passing other arguments without an explicit keyword will result in an error or misinterpretation.\n",
      "  warnings.warn(\n"
     ]
    },
    {
     "data": {
      "text/plain": [
       "<AxesSubplot:xlabel='Item_MRP', ylabel='Item_Outlet_Sales'>"
      ]
     },
     "execution_count": 30,
     "metadata": {},
     "output_type": "execute_result"
    },
    {
     "data": {
      "image/png": "[encoded data removed]",
      "text/plain": [
       "<Figure size 432x288 with 1 Axes>"
      ]
     },
     "metadata": {
      "needs_background": "light"
     },
     "output_type": "display_data"
    }
   ],
   "source": [
    "sns.scatterplot(bmart[\"Item_MRP\"],bmart[\"Item_Outlet_Sales\"])"
   ]
  },
  {
   "cell_type": "code",
   "execution_count": 31,
   "id": "fef1974a",
   "metadata": {},
   "outputs": [
    {
     "name": "stderr",
     "output_type": "stream",
     "text": [
      "C:\\Users\\91809\\anaconda3\\lib\\site-packages\\seaborn\\_decorators.py:36: FutureWarning: Pass the following variables as keyword args: x, y. From version 0.12, the only valid positional argument will be `data`, and passing other arguments without an explicit keyword will result in an error or misinterpretation.\n",
      "  warnings.warn(\n"
     ]
    },
    {
     "data": {
      "text/plain": [
       "<AxesSubplot:xlabel='Item_Identifier', ylabel='Item_MRP'>"
      ]
     },
     "execution_count": 31,
     "metadata": {},
     "output_type": "execute_result"
    },
    {
     "data": {
      "image/png": "[encoded data removed]",
      "text/plain": [
       "<Figure size 432x288 with 1 Axes>"
      ]
     },
     "metadata": {
      "needs_background": "light"
     },
     "output_type": "display_data"
    }
   ],
   "source": [
    "sns.scatterplot(bmart[\"Item_Identifier\"].str[:2],bmart[\"Item_MRP\"])"
   ]
  },
  {
   "cell_type": "code",
   "execution_count": 32,
   "id": "5dc39463",
   "metadata": {},
   "outputs": [
    {
     "name": "stderr",
     "output_type": "stream",
     "text": [
      "C:\\Users\\91809\\anaconda3\\lib\\site-packages\\seaborn\\_decorators.py:36: FutureWarning: Pass the following variables as keyword args: x, y. From version 0.12, the only valid positional argument will be `data`, and passing other arguments without an explicit keyword will result in an error or misinterpretation.\n",
      "  warnings.warn(\n"
     ]
    },
    {
     "data": {
      "text/plain": [
       "<AxesSubplot:xlabel='Item_MRP', ylabel='Item_Type'>"
      ]
     },
     "execution_count": 32,
     "metadata": {},
     "output_type": "execute_result"
    },
    {
     "data": {
      "image/png": "[encoded data removed]",
      "text/plain": [
       "<Figure size 432x288 with 1 Axes>"
      ]
     },
     "metadata": {
      "needs_background": "light"
     },
     "output_type": "display_data"
    }
   ],
   "source": [
    "sns.scatterplot(bmart.Item_MRP,bmart.Item_Type)"
   ]
  },
  {
   "cell_type": "code",
   "execution_count": 33,
   "id": "1cee3d49",
   "metadata": {},
   "outputs": [
    {
     "data": {
      "text/plain": [
       "<AxesSubplot:xlabel='Item_MRP', ylabel='Outlet_Type'>"
      ]
     },
     "execution_count": 33,
     "metadata": {},
     "output_type": "execute_result"
    },
    {
     "data": {
      "image/png": "[encoded data removed]",
      "text/plain": [
       "<Figure size 432x288 with 1 Axes>"
      ]
     },
     "metadata": {
      "needs_background": "light"
     },
     "output_type": "display_data"
    }
   ],
   "source": [
    "sns.boxplot(x=bmart[\"Item_MRP\"],y=bmart[\"Outlet_Type\"])"
   ]
  },
  {
   "cell_type": "code",
   "execution_count": 34,
   "id": "ab580ae6",
   "metadata": {},
   "outputs": [],
   "source": [
    "#sns.pairplot(data=bmart)"
   ]
  },
  {
   "cell_type": "code",
   "execution_count": 35,
   "id": "dbb0137c",
   "metadata": {},
   "outputs": [
    {
     "name": "stderr",
     "output_type": "stream",
     "text": [
      "C:\\Users\\91809\\anaconda3\\lib\\site-packages\\seaborn\\_decorators.py:36: FutureWarning: Pass the following variables as keyword args: x, y. From version 0.12, the only valid positional argument will be `data`, and passing other arguments without an explicit keyword will result in an error or misinterpretation.\n",
      "  warnings.warn(\n"
     ]
    },
    {
     "data": {
      "text/plain": [
       "<AxesSubplot:xlabel='Item_MRP', ylabel='Outlet_Identifier'>"
      ]
     },
     "execution_count": 35,
     "metadata": {},
     "output_type": "execute_result"
    },
    {
     "data": {
      "image/png": "[encoded data removed]",
      "text/plain": [
       "<Figure size 432x288 with 1 Axes>"
      ]
     },
     "metadata": {
      "needs_background": "light"
     },
     "output_type": "display_data"
    }
   ],
   "source": [
    "sns.scatterplot(bmart['Item_MRP'],bmart['Outlet_Identifier'])"
   ]
  },
  {
   "cell_type": "code",
   "execution_count": 36,
   "id": "01ced39d",
   "metadata": {},
   "outputs": [
    {
     "data": {
      "text/plain": [
       "[<matplotlib.lines.Line2D at 0x131a3bd0550>]"
      ]
     },
     "execution_count": 36,
     "metadata": {},
     "output_type": "execute_result"
    },
    {
     "data": {
      "image/png": "[encoded data removed]",
      "text/plain": [
       "<Figure size 432x288 with 1 Axes>"
      ]
     },
     "metadata": {
      "needs_background": "light"
     },
     "output_type": "display_data"
    }
   ],
   "source": [
    "plt.plot(bmart.Item_Outlet_Sales)"
   ]
  },
  {
   "cell_type": "code",
   "execution_count": 37,
   "id": "7eff3613",
   "metadata": {},
   "outputs": [
    {
     "name": "stderr",
     "output_type": "stream",
     "text": [
      "C:\\Users\\91809\\anaconda3\\lib\\site-packages\\seaborn\\_decorators.py:36: FutureWarning: Pass the following variable as a keyword arg: x. From version 0.12, the only valid positional argument will be `data`, and passing other arguments without an explicit keyword will result in an error or misinterpretation.\n",
      "  warnings.warn(\n"
     ]
    },
    {
     "data": {
      "text/plain": [
       "<AxesSubplot:xlabel='Item_Outlet_Sales'>"
      ]
     },
     "execution_count": 37,
     "metadata": {},
     "output_type": "execute_result"
    },
    {
     "data": {
      "image/png": "[encoded data removed]",
      "text/plain": [
       "<Figure size 432x288 with 1 Axes>"
      ]
     },
     "metadata": {
      "needs_background": "light"
     },
     "output_type": "display_data"
    }
   ],
   "source": [
    "sns.boxplot(bmart.Item_Outlet_Sales)"
   ]
  },
  {
   "cell_type": "code",
   "execution_count": 38,
   "id": "d1aa2469",
   "metadata": {},
   "outputs": [
    {
     "name": "stderr",
     "output_type": "stream",
     "text": [
      "C:\\Users\\91809\\anaconda3\\lib\\site-packages\\seaborn\\distributions.py:2619: FutureWarning: `distplot` is a deprecated function and will be removed in a future version. Please adapt your code to use either `displot` (a figure-level function with similar flexibility) or `histplot` (an axes-level function for histograms).\n",
      "  warnings.warn(msg, FutureWarning)\n"
     ]
    },
    {
     "data": {
      "text/plain": [
       "<AxesSubplot:xlabel='Item_Outlet_Sales', ylabel='Density'>"
      ]
     },
     "execution_count": 38,
     "metadata": {},
     "output_type": "execute_result"
    },
    {
     "data": {
      "image/png": "[encoded data removed]",
      "text/plain": [
       "<Figure size 432x288 with 1 Axes>"
      ]
     },
     "metadata": {
      "needs_background": "light"
     },
     "output_type": "display_data"
    }
   ],
   "source": [
    "sns.distplot(train['Item_Outlet_Sales'])"
   ]
  },
  {
   "cell_type": "code",
   "execution_count": 39,
   "id": "470d62cf",
   "metadata": {},
   "outputs": [
    {
     "data": {
      "text/plain": [
       "Fruits and Vegetables    2013\n",
       "Snack Foods              1989\n",
       "Household                1548\n",
       "Frozen Foods             1426\n",
       "Dairy                    1136\n",
       "Baking Goods             1086\n",
       "Canned                   1084\n",
       "Health and Hygiene        858\n",
       "Meat                      736\n",
       "Soft Drinks               726\n",
       "Breads                    416\n",
       "Hard Drinks               362\n",
       "Others                    280\n",
       "Starchy Foods             269\n",
       "Breakfast                 186\n",
       "Seafood                    89\n",
       "Name: Item_Type, dtype: int64"
      ]
     },
     "execution_count": 39,
     "metadata": {},
     "output_type": "execute_result"
    }
   ],
   "source": [
    "bmart.Item_Type.value_counts()"
   ]
  },
  {
   "cell_type": "code",
   "execution_count": 40,
   "id": "847896ac",
   "metadata": {},
   "outputs": [
    {
     "data": {
      "text/plain": [
       "<AxesSubplot:xlabel='Item_MRP', ylabel='Item_Type'>"
      ]
     },
     "execution_count": 40,
     "metadata": {},
     "output_type": "execute_result"
    },
    {
     "data": {
      "image/png": "[encoded data removed]",
      "text/plain": [
       "<Figure size 432x288 with 1 Axes>"
      ]
     },
     "metadata": {
      "needs_background": "light"
     },
     "output_type": "display_data"
    }
   ],
   "source": [
    "sns.boxplot(y=bmart['Item_Type'],x=bmart['Item_MRP'])"
   ]
  },
  {
   "cell_type": "code",
   "execution_count": 41,
   "id": "a1445e2f",
   "metadata": {},
   "outputs": [
    {
     "data": {
      "text/plain": [
       "Item_Identifier                 0\n",
       "Item_Weight                  1463\n",
       "Item_Fat_Content                0\n",
       "Item_Visibility                 0\n",
       "Item_Type                       0\n",
       "Item_MRP                        0\n",
       "Outlet_Identifier               0\n",
       "Outlet_Establishment_Year       0\n",
       "Outlet_Size                  2410\n",
       "Outlet_Location_Type            0\n",
       "Outlet_Type                     0\n",
       "Item_Outlet_Sales               0\n",
       "dtype: int64"
      ]
     },
     "execution_count": 41,
     "metadata": {},
     "output_type": "execute_result"
    }
   ],
   "source": [
    "train.isnull().sum()"
   ]
  },
  {
   "cell_type": "code",
   "execution_count": 42,
   "id": "4e45e201",
   "metadata": {},
   "outputs": [
    {
     "data": {
      "text/plain": [
       "Item_Identifier                 0\n",
       "Item_Weight                   976\n",
       "Item_Fat_Content                0\n",
       "Item_Visibility                 0\n",
       "Item_Type                       0\n",
       "Item_MRP                        0\n",
       "Outlet_Identifier               0\n",
       "Outlet_Establishment_Year       0\n",
       "Outlet_Size                  1606\n",
       "Outlet_Location_Type            0\n",
       "Outlet_Type                     0\n",
       "dtype: int64"
      ]
     },
     "execution_count": 42,
     "metadata": {},
     "output_type": "execute_result"
    }
   ],
   "source": [
    "test.isnull().sum()"
   ]
  },
  {
   "cell_type": "code",
   "execution_count": 43,
   "id": "9532b94f",
   "metadata": {},
   "outputs": [
    {
     "data": {
      "text/html": [
       "<div>\n",
       "<style scoped>\n",
       "    .dataframe tbody tr th:only-of-type {\n",
       "        vertical-align: middle;\n",
       "    }\n",
       "\n",
       "    .dataframe tbody tr th {\n",
       "        vertical-align: top;\n",
       "    }\n",
       "\n",
       "    .dataframe thead th {\n",
       "        text-align: right;\n",
       "    }\n",
       "</style>\n",
       "<table border=\"1\" class=\"dataframe\">\n",
       "  <thead>\n",
       "    <tr style=\"text-align: right;\">\n",
       "      <th></th>\n",
       "      <th>Item_Identifier</th>\n",
       "      <th>Item_Weight</th>\n",
       "      <th>Item_Fat_Content</th>\n",
       "      <th>Item_Visibility</th>\n",
       "      <th>Item_Type</th>\n",
       "      <th>Item_MRP</th>\n",
       "      <th>Outlet_Identifier</th>\n",
       "      <th>Outlet_Establishment_Year</th>\n",
       "      <th>Outlet_Size</th>\n",
       "      <th>Outlet_Location_Type</th>\n",
       "      <th>Outlet_Type</th>\n",
       "      <th>Item_Outlet_Sales</th>\n",
       "    </tr>\n",
       "  </thead>\n",
       "  <tbody>\n",
       "    <tr>\n",
       "      <th>0</th>\n",
       "      <td>FDA15</td>\n",
       "      <td>9.300</td>\n",
       "      <td>Low Fat</td>\n",
       "      <td>0.016047</td>\n",
       "      <td>Dairy</td>\n",
       "      <td>249.8092</td>\n",
       "      <td>OUT049</td>\n",
       "      <td>1999</td>\n",
       "      <td>Medium</td>\n",
       "      <td>Tier 1</td>\n",
       "      <td>Supermarket Type1</td>\n",
       "      <td>3735.1380</td>\n",
       "    </tr>\n",
       "    <tr>\n",
       "      <th>1</th>\n",
       "      <td>DRC01</td>\n",
       "      <td>5.920</td>\n",
       "      <td>Regular</td>\n",
       "      <td>0.019278</td>\n",
       "      <td>Soft Drinks</td>\n",
       "      <td>48.2692</td>\n",
       "      <td>OUT018</td>\n",
       "      <td>2009</td>\n",
       "      <td>Medium</td>\n",
       "      <td>Tier 3</td>\n",
       "      <td>Supermarket Type2</td>\n",
       "      <td>443.4228</td>\n",
       "    </tr>\n",
       "    <tr>\n",
       "      <th>2</th>\n",
       "      <td>FDN15</td>\n",
       "      <td>17.500</td>\n",
       "      <td>Low Fat</td>\n",
       "      <td>0.016760</td>\n",
       "      <td>Meat</td>\n",
       "      <td>141.6180</td>\n",
       "      <td>OUT049</td>\n",
       "      <td>1999</td>\n",
       "      <td>Medium</td>\n",
       "      <td>Tier 1</td>\n",
       "      <td>Supermarket Type1</td>\n",
       "      <td>2097.2700</td>\n",
       "    </tr>\n",
       "    <tr>\n",
       "      <th>3</th>\n",
       "      <td>FDX07</td>\n",
       "      <td>19.200</td>\n",
       "      <td>Regular</td>\n",
       "      <td>0.000000</td>\n",
       "      <td>Fruits and Vegetables</td>\n",
       "      <td>182.0950</td>\n",
       "      <td>OUT010</td>\n",
       "      <td>1998</td>\n",
       "      <td>NaN</td>\n",
       "      <td>Tier 3</td>\n",
       "      <td>Grocery Store</td>\n",
       "      <td>732.3800</td>\n",
       "    </tr>\n",
       "    <tr>\n",
       "      <th>4</th>\n",
       "      <td>NCD19</td>\n",
       "      <td>8.930</td>\n",
       "      <td>Low Fat</td>\n",
       "      <td>0.000000</td>\n",
       "      <td>Household</td>\n",
       "      <td>53.8614</td>\n",
       "      <td>OUT013</td>\n",
       "      <td>1987</td>\n",
       "      <td>High</td>\n",
       "      <td>Tier 3</td>\n",
       "      <td>Supermarket Type1</td>\n",
       "      <td>994.7052</td>\n",
       "    </tr>\n",
       "    <tr>\n",
       "      <th>5</th>\n",
       "      <td>FDP36</td>\n",
       "      <td>10.395</td>\n",
       "      <td>Regular</td>\n",
       "      <td>0.000000</td>\n",
       "      <td>Baking Goods</td>\n",
       "      <td>51.4008</td>\n",
       "      <td>OUT018</td>\n",
       "      <td>2009</td>\n",
       "      <td>Medium</td>\n",
       "      <td>Tier 3</td>\n",
       "      <td>Supermarket Type2</td>\n",
       "      <td>556.6088</td>\n",
       "    </tr>\n",
       "    <tr>\n",
       "      <th>6</th>\n",
       "      <td>FDO10</td>\n",
       "      <td>13.650</td>\n",
       "      <td>Regular</td>\n",
       "      <td>0.012741</td>\n",
       "      <td>Snack Foods</td>\n",
       "      <td>57.6588</td>\n",
       "      <td>OUT013</td>\n",
       "      <td>1987</td>\n",
       "      <td>High</td>\n",
       "      <td>Tier 3</td>\n",
       "      <td>Supermarket Type1</td>\n",
       "      <td>343.5528</td>\n",
       "    </tr>\n",
       "    <tr>\n",
       "      <th>7</th>\n",
       "      <td>FDP10</td>\n",
       "      <td>NaN</td>\n",
       "      <td>Low Fat</td>\n",
       "      <td>0.127470</td>\n",
       "      <td>Snack Foods</td>\n",
       "      <td>107.7622</td>\n",
       "      <td>OUT027</td>\n",
       "      <td>1985</td>\n",
       "      <td>Medium</td>\n",
       "      <td>Tier 3</td>\n",
       "      <td>Supermarket Type3</td>\n",
       "      <td>4022.7636</td>\n",
       "    </tr>\n",
       "    <tr>\n",
       "      <th>8</th>\n",
       "      <td>FDH17</td>\n",
       "      <td>16.200</td>\n",
       "      <td>Regular</td>\n",
       "      <td>0.016687</td>\n",
       "      <td>Frozen Foods</td>\n",
       "      <td>96.9726</td>\n",
       "      <td>OUT045</td>\n",
       "      <td>2002</td>\n",
       "      <td>NaN</td>\n",
       "      <td>Tier 2</td>\n",
       "      <td>Supermarket Type1</td>\n",
       "      <td>1076.5986</td>\n",
       "    </tr>\n",
       "    <tr>\n",
       "      <th>9</th>\n",
       "      <td>FDU28</td>\n",
       "      <td>19.200</td>\n",
       "      <td>Regular</td>\n",
       "      <td>0.094450</td>\n",
       "      <td>Frozen Foods</td>\n",
       "      <td>187.8214</td>\n",
       "      <td>OUT017</td>\n",
       "      <td>2007</td>\n",
       "      <td>NaN</td>\n",
       "      <td>Tier 2</td>\n",
       "      <td>Supermarket Type1</td>\n",
       "      <td>4710.5350</td>\n",
       "    </tr>\n",
       "  </tbody>\n",
       "</table>\n",
       "</div>"
      ],
      "text/plain": [
       "  Item_Identifier  Item_Weight Item_Fat_Content  Item_Visibility  \\\n",
       "0           FDA15        9.300          Low Fat         0.016047   \n",
       "1           DRC01        5.920          Regular         0.019278   \n",
       "2           FDN15       17.500          Low Fat         0.016760   \n",
       "3           FDX07       19.200          Regular         0.000000   \n",
       "4           NCD19        8.930          Low Fat         0.000000   \n",
       "5           FDP36       10.395          Regular         0.000000   \n",
       "6           FDO10       13.650          Regular         0.012741   \n",
       "7           FDP10          NaN          Low Fat         0.127470   \n",
       "8           FDH17       16.200          Regular         0.016687   \n",
       "9           FDU28       19.200          Regular         0.094450   \n",
       "\n",
       "               Item_Type  Item_MRP Outlet_Identifier  \\\n",
       "0                  Dairy  249.8092            OUT049   \n",
       "1            Soft Drinks   48.2692            OUT018   \n",
       "2                   Meat  141.6180            OUT049   \n",
       "3  Fruits and Vegetables  182.0950            OUT010   \n",
       "4              Household   53.8614            OUT013   \n",
       "5           Baking Goods   51.4008            OUT018   \n",
       "6            Snack Foods   57.6588            OUT013   \n",
       "7            Snack Foods  107.7622            OUT027   \n",
       "8           Frozen Foods   96.9726            OUT045   \n",
       "9           Frozen Foods  187.8214            OUT017   \n",
       "\n",
       "   Outlet_Establishment_Year Outlet_Size Outlet_Location_Type  \\\n",
       "0                       1999      Medium               Tier 1   \n",
       "1                       2009      Medium               Tier 3   \n",
       "2                       1999      Medium               Tier 1   \n",
       "3                       1998         NaN               Tier 3   \n",
       "4                       1987        High               Tier 3   \n",
       "5                       2009      Medium               Tier 3   \n",
       "6                       1987        High               Tier 3   \n",
       "7                       1985      Medium               Tier 3   \n",
       "8                       2002         NaN               Tier 2   \n",
       "9                       2007         NaN               Tier 2   \n",
       "\n",
       "         Outlet_Type  Item_Outlet_Sales  \n",
       "0  Supermarket Type1          3735.1380  \n",
       "1  Supermarket Type2           443.4228  \n",
       "2  Supermarket Type1          2097.2700  \n",
       "3      Grocery Store           732.3800  \n",
       "4  Supermarket Type1           994.7052  \n",
       "5  Supermarket Type2           556.6088  \n",
       "6  Supermarket Type1           343.5528  \n",
       "7  Supermarket Type3          4022.7636  \n",
       "8  Supermarket Type1          1076.5986  \n",
       "9  Supermarket Type1          4710.5350  "
      ]
     },
     "execution_count": 43,
     "metadata": {},
     "output_type": "execute_result"
    }
   ],
   "source": [
    "train.head(10)"
   ]
  },
  {
   "cell_type": "code",
   "execution_count": 44,
   "id": "1688d620",
   "metadata": {},
   "outputs": [
    {
     "name": "stderr",
     "output_type": "stream",
     "text": [
      "C:\\Users\\91809\\anaconda3\\lib\\site-packages\\seaborn\\distributions.py:2619: FutureWarning: `distplot` is a deprecated function and will be removed in a future version. Please adapt your code to use either `displot` (a figure-level function with similar flexibility) or `histplot` (an axes-level function for histograms).\n",
      "  warnings.warn(msg, FutureWarning)\n"
     ]
    },
    {
     "data": {
      "text/plain": [
       "<AxesSubplot:xlabel='Item_Visibility', ylabel='Density'>"
      ]
     },
     "execution_count": 44,
     "metadata": {},
     "output_type": "execute_result"
    },
    {
     "data": {
      "image/png": "[encoded data removed]",
      "text/plain": [
       "<Figure size 432x288 with 1 Axes>"
      ]
     },
     "metadata": {
      "needs_background": "light"
     },
     "output_type": "display_data"
    }
   ],
   "source": [
    "sns.distplot(bmart['Item_Visibility'])"
   ]
  },
  {
   "cell_type": "code",
   "execution_count": 45,
   "id": "cd956f1c",
   "metadata": {},
   "outputs": [
    {
     "data": {
      "text/plain": [
       "count    14204.000000\n",
       "mean         0.065953\n",
       "std          0.051459\n",
       "min          0.000000\n",
       "25%          0.027036\n",
       "50%          0.054021\n",
       "75%          0.094037\n",
       "max          0.328391\n",
       "Name: Item_Visibility, dtype: float64"
      ]
     },
     "execution_count": 45,
     "metadata": {},
     "output_type": "execute_result"
    }
   ],
   "source": [
    "bmart['Item_Visibility'].describe()"
   ]
  },
  {
   "cell_type": "code",
   "execution_count": 46,
   "id": "cbf6e133",
   "metadata": {},
   "outputs": [
    {
     "name": "stderr",
     "output_type": "stream",
     "text": [
      "C:\\Users\\91809\\anaconda3\\lib\\site-packages\\seaborn\\_decorators.py:36: FutureWarning: Pass the following variable as a keyword arg: x. From version 0.12, the only valid positional argument will be `data`, and passing other arguments without an explicit keyword will result in an error or misinterpretation.\n",
      "  warnings.warn(\n"
     ]
    },
    {
     "data": {
      "text/plain": [
       "<AxesSubplot:xlabel='Item_Visibility'>"
      ]
     },
     "execution_count": 46,
     "metadata": {},
     "output_type": "execute_result"
    },
    {
     "data": {
      "image/png": "[encoded data removed]",
      "text/plain": [
       "<Figure size 432x288 with 1 Axes>"
      ]
     },
     "metadata": {
      "needs_background": "light"
     },
     "output_type": "display_data"
    }
   ],
   "source": [
    "sns.boxplot(bmart['Item_Visibility'])"
   ]
  },
  {
   "cell_type": "code",
   "execution_count": 47,
   "id": "6b5faaa1",
   "metadata": {},
   "outputs": [
    {
     "data": {
      "text/plain": [
       "<AxesSubplot:xlabel='Item_Outlet_Sales', ylabel='Item_Visibility'>"
      ]
     },
     "execution_count": 47,
     "metadata": {},
     "output_type": "execute_result"
    },
    {
     "data": {
      "image/png": "[encoded data removed]",
      "text/plain": [
       "<Figure size 432x288 with 1 Axes>"
      ]
     },
     "metadata": {
      "needs_background": "light"
     },
     "output_type": "display_data"
    }
   ],
   "source": [
    "sns.scatterplot(x='Item_Outlet_Sales',y='Item_Visibility',data=bmart,hue='Item_Outlet_Sales')"
   ]
  },
  {
   "cell_type": "code",
   "execution_count": 48,
   "id": "c68d2c6c",
   "metadata": {},
   "outputs": [],
   "source": [
    "m3s=np.mean(bmart['Item_Visibility'])+3*np.std(bmart['Item_Visibility'])"
   ]
  },
  {
   "cell_type": "code",
   "execution_count": 49,
   "id": "3b3887b1",
   "metadata": {},
   "outputs": [
    {
     "name": "stdout",
     "output_type": "stream",
     "text": [
      "173\n",
      "0.01217966769923965\n"
     ]
    }
   ],
   "source": [
    "print(bmart[bmart['Item_Visibility']>m3s]['Item_Visibility'].count())\n",
    "print(bmart[bmart['Item_Visibility']>m3s]['Item_Visibility'].count()/bmart.shape[0])"
   ]
  },
  {
   "cell_type": "code",
   "execution_count": 50,
   "id": "2f8d91b5",
   "metadata": {},
   "outputs": [],
   "source": [
    "p99=np.percentile(bmart['Item_Visibility'],99)"
   ]
  },
  {
   "cell_type": "code",
   "execution_count": 51,
   "id": "fcd5d196",
   "metadata": {},
   "outputs": [
    {
     "name": "stdout",
     "output_type": "stream",
     "text": [
      "143\n",
      "0.010067586595325261\n"
     ]
    }
   ],
   "source": [
    "print(bmart[bmart['Item_Visibility']>p99]['Item_Visibility'].count())\n",
    "print(bmart[bmart['Item_Visibility']>p99]['Item_Visibility'].count()/bmart.shape[0])"
   ]
  },
  {
   "cell_type": "code",
   "execution_count": 52,
   "id": "91c2b8a6",
   "metadata": {},
   "outputs": [
    {
     "data": {
      "text/plain": [
       "count    14204.000000\n",
       "mean         0.065953\n",
       "std          0.051459\n",
       "min          0.000000\n",
       "25%          0.027036\n",
       "50%          0.054021\n",
       "75%          0.094037\n",
       "max          0.328391\n",
       "Name: Item_Visibility, dtype: float64"
      ]
     },
     "execution_count": 52,
     "metadata": {},
     "output_type": "execute_result"
    }
   ],
   "source": [
    "bmart['Item_Visibility'].describe()"
   ]
  },
  {
   "cell_type": "code",
   "execution_count": 53,
   "id": "c77989ac",
   "metadata": {},
   "outputs": [],
   "source": [
    "bmart.loc[bmart.Item_Visibility>p99,'Item_Visibility']=p99"
   ]
  },
  {
   "cell_type": "code",
   "execution_count": 54,
   "id": "d0a92a1f",
   "metadata": {},
   "outputs": [
    {
     "data": {
      "text/plain": [
       "count    14204.000000\n",
       "mean         0.065558\n",
       "std          0.049957\n",
       "min          0.000000\n",
       "25%          0.027036\n",
       "50%          0.054021\n",
       "75%          0.094037\n",
       "max          0.230385\n",
       "Name: Item_Visibility, dtype: float64"
      ]
     },
     "execution_count": 54,
     "metadata": {},
     "output_type": "execute_result"
    }
   ],
   "source": [
    "bmart.Item_Visibility.describe()"
   ]
  },
  {
   "cell_type": "code",
   "execution_count": 55,
   "id": "dbc344e8",
   "metadata": {},
   "outputs": [
    {
     "data": {
      "text/plain": [
       "Item_Identifier              0\n",
       "Item_Weight                  0\n",
       "Item_Fat_Content             0\n",
       "Item_Visibility              0\n",
       "Item_Type                    0\n",
       "Item_MRP                     0\n",
       "Outlet_Identifier            0\n",
       "Outlet_Establishment_Year    0\n",
       "Outlet_Size                  0\n",
       "Outlet_Location_Type         0\n",
       "Outlet_Type                  0\n",
       "Item_Outlet_Sales            0\n",
       "dtype: int64"
      ]
     },
     "execution_count": 55,
     "metadata": {},
     "output_type": "execute_result"
    }
   ],
   "source": [
    "bmart[bmart['Item_Visibility']>p99].count()"
   ]
  },
  {
   "cell_type": "code",
   "execution_count": 56,
   "id": "c350c85e",
   "metadata": {},
   "outputs": [
    {
     "name": "stderr",
     "output_type": "stream",
     "text": [
      "C:\\Users\\91809\\anaconda3\\lib\\site-packages\\seaborn\\distributions.py:2619: FutureWarning: `distplot` is a deprecated function and will be removed in a future version. Please adapt your code to use either `displot` (a figure-level function with similar flexibility) or `histplot` (an axes-level function for histograms).\n",
      "  warnings.warn(msg, FutureWarning)\n"
     ]
    },
    {
     "data": {
      "image/png": "[encoded data removed]",
      "text/plain": [
       "<Figure size 432x288 with 1 Axes>"
      ]
     },
     "metadata": {
      "needs_background": "light"
     },
     "output_type": "display_data"
    }
   ],
   "source": [
    "sns.distplot(bmart['Item_Visibility'])\n",
    "plt.show()"
   ]
  },
  {
   "cell_type": "code",
   "execution_count": 57,
   "id": "36359f6e",
   "metadata": {},
   "outputs": [
    {
     "name": "stderr",
     "output_type": "stream",
     "text": [
      "C:\\Users\\91809\\anaconda3\\lib\\site-packages\\seaborn\\distributions.py:2619: FutureWarning: `distplot` is a deprecated function and will be removed in a future version. Please adapt your code to use either `displot` (a figure-level function with similar flexibility) or `histplot` (an axes-level function for histograms).\n",
      "  warnings.warn(msg, FutureWarning)\n"
     ]
    },
    {
     "data": {
      "image/png": "[encoded data removed]",
      "text/plain": [
       "<Figure size 432x288 with 1 Axes>"
      ]
     },
     "metadata": {
      "needs_background": "light"
     },
     "output_type": "display_data"
    }
   ],
   "source": [
    "sns.distplot(np.sqrt(bmart['Item_Visibility']))\n",
    "plt.show()"
   ]
  },
  {
   "cell_type": "code",
   "execution_count": 58,
   "id": "11d2f879",
   "metadata": {},
   "outputs": [
    {
     "name": "stderr",
     "output_type": "stream",
     "text": [
      "C:\\Users\\91809\\anaconda3\\lib\\site-packages\\seaborn\\_decorators.py:36: FutureWarning: Pass the following variable as a keyword arg: x. From version 0.12, the only valid positional argument will be `data`, and passing other arguments without an explicit keyword will result in an error or misinterpretation.\n",
      "  warnings.warn(\n"
     ]
    },
    {
     "data": {
      "text/plain": [
       "<AxesSubplot:xlabel='Item_Visibility'>"
      ]
     },
     "execution_count": 58,
     "metadata": {},
     "output_type": "execute_result"
    },
    {
     "data": {
      "image/png": "[encoded data removed]",
      "text/plain": [
       "<Figure size 432x288 with 1 Axes>"
      ]
     },
     "metadata": {
      "needs_background": "light"
     },
     "output_type": "display_data"
    }
   ],
   "source": [
    "sns.boxplot(bmart['Item_Visibility'])"
   ]
  },
  {
   "cell_type": "code",
   "execution_count": 59,
   "id": "19779b07",
   "metadata": {},
   "outputs": [
    {
     "name": "stderr",
     "output_type": "stream",
     "text": [
      "C:\\Users\\91809\\anaconda3\\lib\\site-packages\\seaborn\\_decorators.py:36: FutureWarning: Pass the following variable as a keyword arg: x. From version 0.12, the only valid positional argument will be `data`, and passing other arguments without an explicit keyword will result in an error or misinterpretation.\n",
      "  warnings.warn(\n"
     ]
    },
    {
     "data": {
      "text/plain": [
       "<AxesSubplot:xlabel='Item_Visibility'>"
      ]
     },
     "execution_count": 59,
     "metadata": {},
     "output_type": "execute_result"
    },
    {
     "data": {
      "image/png": "[encoded data removed]",
      "text/plain": [
       "<Figure size 432x288 with 1 Axes>"
      ]
     },
     "metadata": {
      "needs_background": "light"
     },
     "output_type": "display_data"
    }
   ],
   "source": [
    "sns.boxplot(np.sqrt(bmart['Item_Visibility']))"
   ]
  },
  {
   "cell_type": "code",
   "execution_count": 60,
   "id": "f53aada7",
   "metadata": {},
   "outputs": [],
   "source": [
    "bmart['Item_Visibility_SQRT']=np.sqrt(bmart['Item_Visibility'])"
   ]
  },
  {
   "cell_type": "code",
   "execution_count": 61,
   "id": "7e9a537e",
   "metadata": {},
   "outputs": [
    {
     "name": "stdout",
     "output_type": "stream",
     "text": [
      "0.24844219377236626\n"
     ]
    }
   ],
   "source": [
    "mean0=np.mean(bmart[bmart['Item_Visibility_SQRT']>0]['Item_Visibility_SQRT'])\n",
    "print(mean0)"
   ]
  },
  {
   "cell_type": "code",
   "execution_count": 62,
   "id": "fff22d56",
   "metadata": {},
   "outputs": [
    {
     "data": {
      "text/plain": [
       "0.23306760292993384"
      ]
     },
     "execution_count": 62,
     "metadata": {},
     "output_type": "execute_result"
    }
   ],
   "source": [
    "np.mean(bmart['Item_Visibility_SQRT'])"
   ]
  },
  {
   "cell_type": "code",
   "execution_count": 63,
   "id": "93a64875",
   "metadata": {},
   "outputs": [],
   "source": [
    "bmart['Item_Visibility_SQRT']=bmart['Item_Visibility_SQRT'].replace(0,mean0)"
   ]
  },
  {
   "cell_type": "code",
   "execution_count": 64,
   "id": "5c7f8724",
   "metadata": {},
   "outputs": [
    {
     "name": "stderr",
     "output_type": "stream",
     "text": [
      "C:\\Users\\91809\\anaconda3\\lib\\site-packages\\seaborn\\distributions.py:2619: FutureWarning: `distplot` is a deprecated function and will be removed in a future version. Please adapt your code to use either `displot` (a figure-level function with similar flexibility) or `histplot` (an axes-level function for histograms).\n",
      "  warnings.warn(msg, FutureWarning)\n"
     ]
    },
    {
     "data": {
      "text/plain": [
       "<AxesSubplot:xlabel='Item_Visibility_SQRT', ylabel='Density'>"
      ]
     },
     "execution_count": 64,
     "metadata": {},
     "output_type": "execute_result"
    },
    {
     "data": {
      "image/png": "[encoded data removed]",
      "text/plain": [
       "<Figure size 432x288 with 1 Axes>"
      ]
     },
     "metadata": {
      "needs_background": "light"
     },
     "output_type": "display_data"
    }
   ],
   "source": [
    "sns.distplot(np.sqrt(bmart['Item_Visibility_SQRT']))"
   ]
  },
  {
   "cell_type": "code",
   "execution_count": 65,
   "id": "b08e0079",
   "metadata": {},
   "outputs": [
    {
     "data": {
      "text/html": [
       "<div>\n",
       "<style scoped>\n",
       "    .dataframe tbody tr th:only-of-type {\n",
       "        vertical-align: middle;\n",
       "    }\n",
       "\n",
       "    .dataframe tbody tr th {\n",
       "        vertical-align: top;\n",
       "    }\n",
       "\n",
       "    .dataframe thead th {\n",
       "        text-align: right;\n",
       "    }\n",
       "</style>\n",
       "<table border=\"1\" class=\"dataframe\">\n",
       "  <thead>\n",
       "    <tr style=\"text-align: right;\">\n",
       "      <th></th>\n",
       "      <th>Item_Identifier</th>\n",
       "      <th>Item_Weight</th>\n",
       "      <th>Item_Fat_Content</th>\n",
       "      <th>Item_Visibility</th>\n",
       "      <th>Item_Type</th>\n",
       "      <th>Item_MRP</th>\n",
       "      <th>Outlet_Identifier</th>\n",
       "      <th>Outlet_Establishment_Year</th>\n",
       "      <th>Outlet_Size</th>\n",
       "      <th>Outlet_Location_Type</th>\n",
       "      <th>Outlet_Type</th>\n",
       "      <th>Item_Outlet_Sales</th>\n",
       "      <th>Item_Visibility_SQRT</th>\n",
       "    </tr>\n",
       "  </thead>\n",
       "  <tbody>\n",
       "    <tr>\n",
       "      <th>0</th>\n",
       "      <td>FDA15</td>\n",
       "      <td>9.300</td>\n",
       "      <td>Low Fat</td>\n",
       "      <td>0.016047</td>\n",
       "      <td>Dairy</td>\n",
       "      <td>249.8092</td>\n",
       "      <td>OUT049</td>\n",
       "      <td>1999</td>\n",
       "      <td>Medium</td>\n",
       "      <td>Tier 1</td>\n",
       "      <td>Supermarket Type1</td>\n",
       "      <td>3735.1380</td>\n",
       "      <td>0.126678</td>\n",
       "    </tr>\n",
       "    <tr>\n",
       "      <th>1</th>\n",
       "      <td>DRC01</td>\n",
       "      <td>5.920</td>\n",
       "      <td>Regular</td>\n",
       "      <td>0.019278</td>\n",
       "      <td>Soft Drinks</td>\n",
       "      <td>48.2692</td>\n",
       "      <td>OUT018</td>\n",
       "      <td>2009</td>\n",
       "      <td>Medium</td>\n",
       "      <td>Tier 3</td>\n",
       "      <td>Supermarket Type2</td>\n",
       "      <td>443.4228</td>\n",
       "      <td>0.138846</td>\n",
       "    </tr>\n",
       "    <tr>\n",
       "      <th>2</th>\n",
       "      <td>FDN15</td>\n",
       "      <td>17.500</td>\n",
       "      <td>Low Fat</td>\n",
       "      <td>0.016760</td>\n",
       "      <td>Meat</td>\n",
       "      <td>141.6180</td>\n",
       "      <td>OUT049</td>\n",
       "      <td>1999</td>\n",
       "      <td>Medium</td>\n",
       "      <td>Tier 1</td>\n",
       "      <td>Supermarket Type1</td>\n",
       "      <td>2097.2700</td>\n",
       "      <td>0.129461</td>\n",
       "    </tr>\n",
       "    <tr>\n",
       "      <th>3</th>\n",
       "      <td>FDX07</td>\n",
       "      <td>19.200</td>\n",
       "      <td>Regular</td>\n",
       "      <td>0.000000</td>\n",
       "      <td>Fruits and Vegetables</td>\n",
       "      <td>182.0950</td>\n",
       "      <td>OUT010</td>\n",
       "      <td>1998</td>\n",
       "      <td>NaN</td>\n",
       "      <td>Tier 3</td>\n",
       "      <td>Grocery Store</td>\n",
       "      <td>732.3800</td>\n",
       "      <td>0.248442</td>\n",
       "    </tr>\n",
       "    <tr>\n",
       "      <th>4</th>\n",
       "      <td>NCD19</td>\n",
       "      <td>8.930</td>\n",
       "      <td>Low Fat</td>\n",
       "      <td>0.000000</td>\n",
       "      <td>Household</td>\n",
       "      <td>53.8614</td>\n",
       "      <td>OUT013</td>\n",
       "      <td>1987</td>\n",
       "      <td>High</td>\n",
       "      <td>Tier 3</td>\n",
       "      <td>Supermarket Type1</td>\n",
       "      <td>994.7052</td>\n",
       "      <td>0.248442</td>\n",
       "    </tr>\n",
       "    <tr>\n",
       "      <th>5</th>\n",
       "      <td>FDP36</td>\n",
       "      <td>10.395</td>\n",
       "      <td>Regular</td>\n",
       "      <td>0.000000</td>\n",
       "      <td>Baking Goods</td>\n",
       "      <td>51.4008</td>\n",
       "      <td>OUT018</td>\n",
       "      <td>2009</td>\n",
       "      <td>Medium</td>\n",
       "      <td>Tier 3</td>\n",
       "      <td>Supermarket Type2</td>\n",
       "      <td>556.6088</td>\n",
       "      <td>0.248442</td>\n",
       "    </tr>\n",
       "    <tr>\n",
       "      <th>6</th>\n",
       "      <td>FDO10</td>\n",
       "      <td>13.650</td>\n",
       "      <td>Regular</td>\n",
       "      <td>0.012741</td>\n",
       "      <td>Snack Foods</td>\n",
       "      <td>57.6588</td>\n",
       "      <td>OUT013</td>\n",
       "      <td>1987</td>\n",
       "      <td>High</td>\n",
       "      <td>Tier 3</td>\n",
       "      <td>Supermarket Type1</td>\n",
       "      <td>343.5528</td>\n",
       "      <td>0.112876</td>\n",
       "    </tr>\n",
       "    <tr>\n",
       "      <th>7</th>\n",
       "      <td>FDP10</td>\n",
       "      <td>NaN</td>\n",
       "      <td>Low Fat</td>\n",
       "      <td>0.127470</td>\n",
       "      <td>Snack Foods</td>\n",
       "      <td>107.7622</td>\n",
       "      <td>OUT027</td>\n",
       "      <td>1985</td>\n",
       "      <td>Medium</td>\n",
       "      <td>Tier 3</td>\n",
       "      <td>Supermarket Type3</td>\n",
       "      <td>4022.7636</td>\n",
       "      <td>0.357029</td>\n",
       "    </tr>\n",
       "    <tr>\n",
       "      <th>8</th>\n",
       "      <td>FDH17</td>\n",
       "      <td>16.200</td>\n",
       "      <td>Regular</td>\n",
       "      <td>0.016687</td>\n",
       "      <td>Frozen Foods</td>\n",
       "      <td>96.9726</td>\n",
       "      <td>OUT045</td>\n",
       "      <td>2002</td>\n",
       "      <td>NaN</td>\n",
       "      <td>Tier 2</td>\n",
       "      <td>Supermarket Type1</td>\n",
       "      <td>1076.5986</td>\n",
       "      <td>0.129179</td>\n",
       "    </tr>\n",
       "    <tr>\n",
       "      <th>9</th>\n",
       "      <td>FDU28</td>\n",
       "      <td>19.200</td>\n",
       "      <td>Regular</td>\n",
       "      <td>0.094450</td>\n",
       "      <td>Frozen Foods</td>\n",
       "      <td>187.8214</td>\n",
       "      <td>OUT017</td>\n",
       "      <td>2007</td>\n",
       "      <td>NaN</td>\n",
       "      <td>Tier 2</td>\n",
       "      <td>Supermarket Type1</td>\n",
       "      <td>4710.5350</td>\n",
       "      <td>0.307327</td>\n",
       "    </tr>\n",
       "    <tr>\n",
       "      <th>10</th>\n",
       "      <td>FDY07</td>\n",
       "      <td>11.800</td>\n",
       "      <td>Low Fat</td>\n",
       "      <td>0.000000</td>\n",
       "      <td>Fruits and Vegetables</td>\n",
       "      <td>45.5402</td>\n",
       "      <td>OUT049</td>\n",
       "      <td>1999</td>\n",
       "      <td>Medium</td>\n",
       "      <td>Tier 1</td>\n",
       "      <td>Supermarket Type1</td>\n",
       "      <td>1516.0266</td>\n",
       "      <td>0.248442</td>\n",
       "    </tr>\n",
       "    <tr>\n",
       "      <th>11</th>\n",
       "      <td>FDA03</td>\n",
       "      <td>18.500</td>\n",
       "      <td>Regular</td>\n",
       "      <td>0.045464</td>\n",
       "      <td>Dairy</td>\n",
       "      <td>144.1102</td>\n",
       "      <td>OUT046</td>\n",
       "      <td>1997</td>\n",
       "      <td>Small</td>\n",
       "      <td>Tier 1</td>\n",
       "      <td>Supermarket Type1</td>\n",
       "      <td>2187.1530</td>\n",
       "      <td>0.213222</td>\n",
       "    </tr>\n",
       "    <tr>\n",
       "      <th>12</th>\n",
       "      <td>FDX32</td>\n",
       "      <td>15.100</td>\n",
       "      <td>Regular</td>\n",
       "      <td>0.100014</td>\n",
       "      <td>Fruits and Vegetables</td>\n",
       "      <td>145.4786</td>\n",
       "      <td>OUT049</td>\n",
       "      <td>1999</td>\n",
       "      <td>Medium</td>\n",
       "      <td>Tier 1</td>\n",
       "      <td>Supermarket Type1</td>\n",
       "      <td>1589.2646</td>\n",
       "      <td>0.316249</td>\n",
       "    </tr>\n",
       "    <tr>\n",
       "      <th>13</th>\n",
       "      <td>FDS46</td>\n",
       "      <td>17.600</td>\n",
       "      <td>Regular</td>\n",
       "      <td>0.047257</td>\n",
       "      <td>Snack Foods</td>\n",
       "      <td>119.6782</td>\n",
       "      <td>OUT046</td>\n",
       "      <td>1997</td>\n",
       "      <td>Small</td>\n",
       "      <td>Tier 1</td>\n",
       "      <td>Supermarket Type1</td>\n",
       "      <td>2145.2076</td>\n",
       "      <td>0.217388</td>\n",
       "    </tr>\n",
       "    <tr>\n",
       "      <th>14</th>\n",
       "      <td>FDF32</td>\n",
       "      <td>16.350</td>\n",
       "      <td>Low Fat</td>\n",
       "      <td>0.068024</td>\n",
       "      <td>Fruits and Vegetables</td>\n",
       "      <td>196.4426</td>\n",
       "      <td>OUT013</td>\n",
       "      <td>1987</td>\n",
       "      <td>High</td>\n",
       "      <td>Tier 3</td>\n",
       "      <td>Supermarket Type1</td>\n",
       "      <td>1977.4260</td>\n",
       "      <td>0.260815</td>\n",
       "    </tr>\n",
       "    <tr>\n",
       "      <th>15</th>\n",
       "      <td>FDP49</td>\n",
       "      <td>9.000</td>\n",
       "      <td>Regular</td>\n",
       "      <td>0.069089</td>\n",
       "      <td>Breakfast</td>\n",
       "      <td>56.3614</td>\n",
       "      <td>OUT046</td>\n",
       "      <td>1997</td>\n",
       "      <td>Small</td>\n",
       "      <td>Tier 1</td>\n",
       "      <td>Supermarket Type1</td>\n",
       "      <td>1547.3192</td>\n",
       "      <td>0.262848</td>\n",
       "    </tr>\n",
       "    <tr>\n",
       "      <th>16</th>\n",
       "      <td>NCB42</td>\n",
       "      <td>11.800</td>\n",
       "      <td>Low Fat</td>\n",
       "      <td>0.008596</td>\n",
       "      <td>Health and Hygiene</td>\n",
       "      <td>115.3492</td>\n",
       "      <td>OUT018</td>\n",
       "      <td>2009</td>\n",
       "      <td>Medium</td>\n",
       "      <td>Tier 3</td>\n",
       "      <td>Supermarket Type2</td>\n",
       "      <td>1621.8888</td>\n",
       "      <td>0.092715</td>\n",
       "    </tr>\n",
       "    <tr>\n",
       "      <th>17</th>\n",
       "      <td>FDP49</td>\n",
       "      <td>9.000</td>\n",
       "      <td>Regular</td>\n",
       "      <td>0.069196</td>\n",
       "      <td>Breakfast</td>\n",
       "      <td>54.3614</td>\n",
       "      <td>OUT049</td>\n",
       "      <td>1999</td>\n",
       "      <td>Medium</td>\n",
       "      <td>Tier 1</td>\n",
       "      <td>Supermarket Type1</td>\n",
       "      <td>718.3982</td>\n",
       "      <td>0.263052</td>\n",
       "    </tr>\n",
       "    <tr>\n",
       "      <th>18</th>\n",
       "      <td>DRI11</td>\n",
       "      <td>NaN</td>\n",
       "      <td>Low Fat</td>\n",
       "      <td>0.034238</td>\n",
       "      <td>Hard Drinks</td>\n",
       "      <td>113.2834</td>\n",
       "      <td>OUT027</td>\n",
       "      <td>1985</td>\n",
       "      <td>Medium</td>\n",
       "      <td>Tier 3</td>\n",
       "      <td>Supermarket Type3</td>\n",
       "      <td>2303.6680</td>\n",
       "      <td>0.185034</td>\n",
       "    </tr>\n",
       "    <tr>\n",
       "      <th>19</th>\n",
       "      <td>FDU02</td>\n",
       "      <td>13.350</td>\n",
       "      <td>Low Fat</td>\n",
       "      <td>0.102492</td>\n",
       "      <td>Dairy</td>\n",
       "      <td>230.5352</td>\n",
       "      <td>OUT035</td>\n",
       "      <td>2004</td>\n",
       "      <td>Small</td>\n",
       "      <td>Tier 2</td>\n",
       "      <td>Supermarket Type1</td>\n",
       "      <td>2748.4224</td>\n",
       "      <td>0.320144</td>\n",
       "    </tr>\n",
       "  </tbody>\n",
       "</table>\n",
       "</div>"
      ],
      "text/plain": [
       "   Item_Identifier  Item_Weight Item_Fat_Content  Item_Visibility  \\\n",
       "0            FDA15        9.300          Low Fat         0.016047   \n",
       "1            DRC01        5.920          Regular         0.019278   \n",
       "2            FDN15       17.500          Low Fat         0.016760   \n",
       "3            FDX07       19.200          Regular         0.000000   \n",
       "4            NCD19        8.930          Low Fat         0.000000   \n",
       "5            FDP36       10.395          Regular         0.000000   \n",
       "6            FDO10       13.650          Regular         0.012741   \n",
       "7            FDP10          NaN          Low Fat         0.127470   \n",
       "8            FDH17       16.200          Regular         0.016687   \n",
       "9            FDU28       19.200          Regular         0.094450   \n",
       "10           FDY07       11.800          Low Fat         0.000000   \n",
       "11           FDA03       18.500          Regular         0.045464   \n",
       "12           FDX32       15.100          Regular         0.100014   \n",
       "13           FDS46       17.600          Regular         0.047257   \n",
       "14           FDF32       16.350          Low Fat         0.068024   \n",
       "15           FDP49        9.000          Regular         0.069089   \n",
       "16           NCB42       11.800          Low Fat         0.008596   \n",
       "17           FDP49        9.000          Regular         0.069196   \n",
       "18           DRI11          NaN          Low Fat         0.034238   \n",
       "19           FDU02       13.350          Low Fat         0.102492   \n",
       "\n",
       "                Item_Type  Item_MRP Outlet_Identifier  \\\n",
       "0                   Dairy  249.8092            OUT049   \n",
       "1             Soft Drinks   48.2692            OUT018   \n",
       "2                    Meat  141.6180            OUT049   \n",
       "3   Fruits and Vegetables  182.0950            OUT010   \n",
       "4               Household   53.8614            OUT013   \n",
       "5            Baking Goods   51.4008            OUT018   \n",
       "6             Snack Foods   57.6588            OUT013   \n",
       "7             Snack Foods  107.7622            OUT027   \n",
       "8            Frozen Foods   96.9726            OUT045   \n",
       "9            Frozen Foods  187.8214            OUT017   \n",
       "10  Fruits and Vegetables   45.5402            OUT049   \n",
       "11                  Dairy  144.1102            OUT046   \n",
       "12  Fruits and Vegetables  145.4786            OUT049   \n",
       "13            Snack Foods  119.6782            OUT046   \n",
       "14  Fruits and Vegetables  196.4426            OUT013   \n",
       "15              Breakfast   56.3614            OUT046   \n",
       "16     Health and Hygiene  115.3492            OUT018   \n",
       "17              Breakfast   54.3614            OUT049   \n",
       "18            Hard Drinks  113.2834            OUT027   \n",
       "19                  Dairy  230.5352            OUT035   \n",
       "\n",
       "    Outlet_Establishment_Year Outlet_Size Outlet_Location_Type  \\\n",
       "0                        1999      Medium               Tier 1   \n",
       "1                        2009      Medium               Tier 3   \n",
       "2                        1999      Medium               Tier 1   \n",
       "3                        1998         NaN               Tier 3   \n",
       "4                        1987        High               Tier 3   \n",
       "5                        2009      Medium               Tier 3   \n",
       "6                        1987        High               Tier 3   \n",
       "7                        1985      Medium               Tier 3   \n",
       "8                        2002         NaN               Tier 2   \n",
       "9                        2007         NaN               Tier 2   \n",
       "10                       1999      Medium               Tier 1   \n",
       "11                       1997       Small               Tier 1   \n",
       "12                       1999      Medium               Tier 1   \n",
       "13                       1997       Small               Tier 1   \n",
       "14                       1987        High               Tier 3   \n",
       "15                       1997       Small               Tier 1   \n",
       "16                       2009      Medium               Tier 3   \n",
       "17                       1999      Medium               Tier 1   \n",
       "18                       1985      Medium               Tier 3   \n",
       "19                       2004       Small               Tier 2   \n",
       "\n",
       "          Outlet_Type  Item_Outlet_Sales  Item_Visibility_SQRT  \n",
       "0   Supermarket Type1          3735.1380              0.126678  \n",
       "1   Supermarket Type2           443.4228              0.138846  \n",
       "2   Supermarket Type1          2097.2700              0.129461  \n",
       "3       Grocery Store           732.3800              0.248442  \n",
       "4   Supermarket Type1           994.7052              0.248442  \n",
       "5   Supermarket Type2           556.6088              0.248442  \n",
       "6   Supermarket Type1           343.5528              0.112876  \n",
       "7   Supermarket Type3          4022.7636              0.357029  \n",
       "8   Supermarket Type1          1076.5986              0.129179  \n",
       "9   Supermarket Type1          4710.5350              0.307327  \n",
       "10  Supermarket Type1          1516.0266              0.248442  \n",
       "11  Supermarket Type1          2187.1530              0.213222  \n",
       "12  Supermarket Type1          1589.2646              0.316249  \n",
       "13  Supermarket Type1          2145.2076              0.217388  \n",
       "14  Supermarket Type1          1977.4260              0.260815  \n",
       "15  Supermarket Type1          1547.3192              0.262848  \n",
       "16  Supermarket Type2          1621.8888              0.092715  \n",
       "17  Supermarket Type1           718.3982              0.263052  \n",
       "18  Supermarket Type3          2303.6680              0.185034  \n",
       "19  Supermarket Type1          2748.4224              0.320144  "
      ]
     },
     "execution_count": 65,
     "metadata": {},
     "output_type": "execute_result"
    }
   ],
   "source": [
    "bmart.head(20)"
   ]
  },
  {
   "cell_type": "code",
   "execution_count": 66,
   "id": "5fbd6f33",
   "metadata": {},
   "outputs": [
    {
     "data": {
      "text/plain": [
       "Item_Identifier                 0\n",
       "Item_Weight                  2439\n",
       "Item_Fat_Content                0\n",
       "Item_Visibility                 0\n",
       "Item_Type                       0\n",
       "Item_MRP                        0\n",
       "Outlet_Identifier               0\n",
       "Outlet_Establishment_Year       0\n",
       "Outlet_Size                  4016\n",
       "Outlet_Location_Type            0\n",
       "Outlet_Type                     0\n",
       "Item_Outlet_Sales            5681\n",
       "Item_Visibility_SQRT            0\n",
       "dtype: int64"
      ]
     },
     "execution_count": 66,
     "metadata": {},
     "output_type": "execute_result"
    }
   ],
   "source": [
    "bmart.isnull().sum()"
   ]
  },
  {
   "cell_type": "code",
   "execution_count": 67,
   "id": "b2389829",
   "metadata": {},
   "outputs": [
    {
     "data": {
      "text/plain": [
       "2439"
      ]
     },
     "execution_count": 67,
     "metadata": {},
     "output_type": "execute_result"
    }
   ],
   "source": [
    "bmart['Item_Weight'].isnull().sum()"
   ]
  },
  {
   "cell_type": "code",
   "execution_count": 68,
   "id": "2b776bdf",
   "metadata": {},
   "outputs": [
    {
     "name": "stderr",
     "output_type": "stream",
     "text": [
      "C:\\Users\\91809\\anaconda3\\lib\\site-packages\\seaborn\\_decorators.py:36: FutureWarning: Pass the following variable as a keyword arg: x. From version 0.12, the only valid positional argument will be `data`, and passing other arguments without an explicit keyword will result in an error or misinterpretation.\n",
      "  warnings.warn(\n"
     ]
    },
    {
     "data": {
      "text/plain": [
       "<AxesSubplot:xlabel='Item_Weight'>"
      ]
     },
     "execution_count": 68,
     "metadata": {},
     "output_type": "execute_result"
    },
    {
     "data": {
      "image/png": "[encoded data removed]",
      "text/plain": [
       "<Figure size 432x288 with 1 Axes>"
      ]
     },
     "metadata": {
      "needs_background": "light"
     },
     "output_type": "display_data"
    }
   ],
   "source": [
    "sns.boxplot(bmart['Item_Weight'])"
   ]
  },
  {
   "cell_type": "code",
   "execution_count": 69,
   "id": "0d781839",
   "metadata": {},
   "outputs": [
    {
     "data": {
      "text/plain": [
       "<AxesSubplot:xlabel='Item_Weight', ylabel='Item_Type'>"
      ]
     },
     "execution_count": 69,
     "metadata": {},
     "output_type": "execute_result"
    },
    {
     "data": {
      "image/png": "[encoded data removed]",
      "text/plain": [
       "<Figure size 432x288 with 1 Axes>"
      ]
     },
     "metadata": {
      "needs_background": "light"
     },
     "output_type": "display_data"
    }
   ],
   "source": [
    "sns.boxplot(x=bmart['Item_Weight'],y=bmart['Item_Type'])"
   ]
  },
  {
   "cell_type": "code",
   "execution_count": 70,
   "id": "094c3fea",
   "metadata": {},
   "outputs": [
    {
     "data": {
      "text/plain": [
       "<AxesSubplot:xlabel='Item_Fat_Content', ylabel='Item_Weight'>"
      ]
     },
     "execution_count": 70,
     "metadata": {},
     "output_type": "execute_result"
    },
    {
     "data": {
      "image/png": "[encoded data removed]",
      "text/plain": [
       "<Figure size 432x288 with 1 Axes>"
      ]
     },
     "metadata": {
      "needs_background": "light"
     },
     "output_type": "display_data"
    }
   ],
   "source": [
    "sns.barplot(x=bmart['Item_Fat_Content'],y=bmart['Item_Weight'])"
   ]
  },
  {
   "cell_type": "code",
   "execution_count": 71,
   "id": "1c60f84e",
   "metadata": {},
   "outputs": [
    {
     "data": {
      "text/plain": [
       "<AxesSubplot:xlabel='Item_Identifier', ylabel='Item_Weight'>"
      ]
     },
     "execution_count": 71,
     "metadata": {},
     "output_type": "execute_result"
    },
    {
     "data": {
      "image/png": "[encoded data removed]",
      "text/plain": [
       "<Figure size 432x288 with 1 Axes>"
      ]
     },
     "metadata": {
      "needs_background": "light"
     },
     "output_type": "display_data"
    }
   ],
   "source": [
    "sns.barplot(x=bmart['Item_Identifier'].str[:2],y=bmart['Item_Weight'])"
   ]
  },
  {
   "cell_type": "code",
   "execution_count": 72,
   "id": "db184d7e",
   "metadata": {},
   "outputs": [
    {
     "data": {
      "text/plain": [
       "<AxesSubplot:xlabel='Outlet_Location_Type', ylabel='Item_Weight'>"
      ]
     },
     "execution_count": 72,
     "metadata": {},
     "output_type": "execute_result"
    },
    {
     "data": {
      "image/png": "[encoded data removed]",
      "text/plain": [
       "<Figure size 432x288 with 1 Axes>"
      ]
     },
     "metadata": {
      "needs_background": "light"
     },
     "output_type": "display_data"
    }
   ],
   "source": [
    "sns.barplot(x=bmart['Outlet_Location_Type'],y=bmart['Item_Weight'])"
   ]
  },
  {
   "cell_type": "code",
   "execution_count": 73,
   "id": "ecdb7767",
   "metadata": {},
   "outputs": [
    {
     "data": {
      "text/plain": [
       "<AxesSubplot:xlabel='Outlet_Size', ylabel='Item_Weight'>"
      ]
     },
     "execution_count": 73,
     "metadata": {},
     "output_type": "execute_result"
    },
    {
     "data": {
      "image/png": "[encoded data removed]",
      "text/plain": [
       "<Figure size 432x288 with 1 Axes>"
      ]
     },
     "metadata": {
      "needs_background": "light"
     },
     "output_type": "display_data"
    }
   ],
   "source": [
    "sns.barplot(x=bmart['Outlet_Size'],y=bmart['Item_Weight'])"
   ]
  },
  {
   "cell_type": "code",
   "execution_count": 74,
   "id": "b93526e4",
   "metadata": {},
   "outputs": [
    {
     "data": {
      "text/plain": [
       "<AxesSubplot:xlabel='Outlet_Type', ylabel='Item_Weight'>"
      ]
     },
     "execution_count": 74,
     "metadata": {},
     "output_type": "execute_result"
    },
    {
     "data": {
      "image/png": "[encoded data removed]",
      "text/plain": [
       "<Figure size 432x288 with 1 Axes>"
      ]
     },
     "metadata": {
      "needs_background": "light"
     },
     "output_type": "display_data"
    }
   ],
   "source": [
    "sns.barplot(x=bmart['Outlet_Type'],y=bmart['Item_Weight'])"
   ]
  },
  {
   "cell_type": "code",
   "execution_count": 75,
   "id": "73b57775",
   "metadata": {},
   "outputs": [
    {
     "data": {
      "text/plain": [
       "<AxesSubplot:xlabel='Item_Type', ylabel='Item_Weight'>"
      ]
     },
     "execution_count": 75,
     "metadata": {},
     "output_type": "execute_result"
    },
    {
     "data": {
      "image/png": "[encoded data removed]",
      "text/plain": [
       "<Figure size 432x288 with 1 Axes>"
      ]
     },
     "metadata": {
      "needs_background": "light"
     },
     "output_type": "display_data"
    }
   ],
   "source": [
    "sns.barplot(x=bmart['Item_Type'],y=bmart['Item_Weight'])"
   ]
  },
  {
   "cell_type": "code",
   "execution_count": 76,
   "id": "f82a5355",
   "metadata": {},
   "outputs": [
    {
     "data": {
      "text/html": [
       "<div>\n",
       "<style scoped>\n",
       "    .dataframe tbody tr th:only-of-type {\n",
       "        vertical-align: middle;\n",
       "    }\n",
       "\n",
       "    .dataframe tbody tr th {\n",
       "        vertical-align: top;\n",
       "    }\n",
       "\n",
       "    .dataframe thead th {\n",
       "        text-align: right;\n",
       "    }\n",
       "</style>\n",
       "<table border=\"1\" class=\"dataframe\">\n",
       "  <thead>\n",
       "    <tr style=\"text-align: right;\">\n",
       "      <th>Item_Weight</th>\n",
       "      <th>False</th>\n",
       "      <th>True</th>\n",
       "    </tr>\n",
       "    <tr>\n",
       "      <th>Item_Type</th>\n",
       "      <th></th>\n",
       "      <th></th>\n",
       "    </tr>\n",
       "  </thead>\n",
       "  <tbody>\n",
       "    <tr>\n",
       "      <th>Baking Goods</th>\n",
       "      <td>900</td>\n",
       "      <td>186</td>\n",
       "    </tr>\n",
       "    <tr>\n",
       "      <th>Breads</th>\n",
       "      <td>343</td>\n",
       "      <td>73</td>\n",
       "    </tr>\n",
       "    <tr>\n",
       "      <th>Breakfast</th>\n",
       "      <td>152</td>\n",
       "      <td>34</td>\n",
       "    </tr>\n",
       "    <tr>\n",
       "      <th>Canned</th>\n",
       "      <td>898</td>\n",
       "      <td>186</td>\n",
       "    </tr>\n",
       "    <tr>\n",
       "      <th>Dairy</th>\n",
       "      <td>941</td>\n",
       "      <td>195</td>\n",
       "    </tr>\n",
       "    <tr>\n",
       "      <th>Frozen Foods</th>\n",
       "      <td>1175</td>\n",
       "      <td>251</td>\n",
       "    </tr>\n",
       "    <tr>\n",
       "      <th>Fruits and Vegetables</th>\n",
       "      <td>1667</td>\n",
       "      <td>346</td>\n",
       "    </tr>\n",
       "    <tr>\n",
       "      <th>Hard Drinks</th>\n",
       "      <td>303</td>\n",
       "      <td>59</td>\n",
       "    </tr>\n",
       "    <tr>\n",
       "      <th>Health and Hygiene</th>\n",
       "      <td>710</td>\n",
       "      <td>148</td>\n",
       "    </tr>\n",
       "    <tr>\n",
       "      <th>Household</th>\n",
       "      <td>1285</td>\n",
       "      <td>263</td>\n",
       "    </tr>\n",
       "    <tr>\n",
       "      <th>Meat</th>\n",
       "      <td>607</td>\n",
       "      <td>129</td>\n",
       "    </tr>\n",
       "    <tr>\n",
       "      <th>Others</th>\n",
       "      <td>228</td>\n",
       "      <td>52</td>\n",
       "    </tr>\n",
       "    <tr>\n",
       "      <th>Seafood</th>\n",
       "      <td>73</td>\n",
       "      <td>16</td>\n",
       "    </tr>\n",
       "    <tr>\n",
       "      <th>Snack Foods</th>\n",
       "      <td>1653</td>\n",
       "      <td>336</td>\n",
       "    </tr>\n",
       "    <tr>\n",
       "      <th>Soft Drinks</th>\n",
       "      <td>603</td>\n",
       "      <td>123</td>\n",
       "    </tr>\n",
       "    <tr>\n",
       "      <th>Starchy Foods</th>\n",
       "      <td>227</td>\n",
       "      <td>42</td>\n",
       "    </tr>\n",
       "  </tbody>\n",
       "</table>\n",
       "</div>"
      ],
      "text/plain": [
       "Item_Weight            False  True\n",
       "Item_Type                         \n",
       "Baking Goods             900   186\n",
       "Breads                   343    73\n",
       "Breakfast                152    34\n",
       "Canned                   898   186\n",
       "Dairy                    941   195\n",
       "Frozen Foods            1175   251\n",
       "Fruits and Vegetables   1667   346\n",
       "Hard Drinks              303    59\n",
       "Health and Hygiene       710   148\n",
       "Household               1285   263\n",
       "Meat                     607   129\n",
       "Others                   228    52\n",
       "Seafood                   73    16\n",
       "Snack Foods             1653   336\n",
       "Soft Drinks              603   123\n",
       "Starchy Foods            227    42"
      ]
     },
     "execution_count": 76,
     "metadata": {},
     "output_type": "execute_result"
    }
   ],
   "source": [
    "pd.crosstab(bmart['Item_Type'],bmart['Item_Weight'].isnull())"
   ]
  },
  {
   "cell_type": "code",
   "execution_count": 77,
   "id": "bbb87eee",
   "metadata": {},
   "outputs": [],
   "source": [
    "bmart['Item_Weight']=bmart['Item_Weight'].fillna(bmart['Item_Weight'].groupby(bmart['Item_Type']).transform('mean'))"
   ]
  },
  {
   "cell_type": "code",
   "execution_count": 82,
   "id": "63c2ab0e",
   "metadata": {},
   "outputs": [
    {
     "data": {
      "text/plain": [
       "0"
      ]
     },
     "execution_count": 82,
     "metadata": {},
     "output_type": "execute_result"
    }
   ],
   "source": [
    "bmart['Item_Weight'].isnull().sum()"
   ]
  },
  {
   "cell_type": "code",
   "execution_count": 83,
   "id": "c9b3f8d3",
   "metadata": {},
   "outputs": [
    {
     "name": "stderr",
     "output_type": "stream",
     "text": [
      "C:\\Users\\91809\\anaconda3\\lib\\site-packages\\seaborn\\distributions.py:2619: FutureWarning: `distplot` is a deprecated function and will be removed in a future version. Please adapt your code to use either `displot` (a figure-level function with similar flexibility) or `histplot` (an axes-level function for histograms).\n",
      "  warnings.warn(msg, FutureWarning)\n"
     ]
    },
    {
     "data": {
      "text/plain": [
       "<AxesSubplot:xlabel='Item_Weight', ylabel='Density'>"
      ]
     },
     "execution_count": 83,
     "metadata": {},
     "output_type": "execute_result"
    },
    {
     "data": {
      "image/png": "[encoded data removed]",
      "text/plain": [
       "<Figure size 432x288 with 1 Axes>"
      ]
     },
     "metadata": {
      "needs_background": "light"
     },
     "output_type": "display_data"
    }
   ],
   "source": [
    "sns.distplot(bmart['Item_Weight'])"
   ]
  },
  {
   "cell_type": "code",
   "execution_count": 84,
   "id": "098e9a44",
   "metadata": {},
   "outputs": [
    {
     "data": {
      "text/plain": [
       "count    14204.000000\n",
       "mean      1997.830681\n",
       "std          8.371664\n",
       "min       1985.000000\n",
       "25%       1987.000000\n",
       "50%       1999.000000\n",
       "75%       2004.000000\n",
       "max       2009.000000\n",
       "Name: Outlet_Establishment_Year, dtype: float64"
      ]
     },
     "execution_count": 84,
     "metadata": {},
     "output_type": "execute_result"
    }
   ],
   "source": [
    "bmart['Outlet_Establishment_Year'].describe()"
   ]
  },
  {
   "cell_type": "code",
   "execution_count": 85,
   "id": "843defd5",
   "metadata": {},
   "outputs": [],
   "source": [
    "bmart['Tenure']=2020-bmart['Outlet_Establishment_Year']"
   ]
  },
  {
   "cell_type": "code",
   "execution_count": 86,
   "id": "06fa130c",
   "metadata": {},
   "outputs": [
    {
     "data": {
      "text/plain": [
       "count    14204.000000\n",
       "mean        22.169319\n",
       "std          8.371664\n",
       "min         11.000000\n",
       "25%         16.000000\n",
       "50%         21.000000\n",
       "75%         33.000000\n",
       "max         35.000000\n",
       "Name: Tenure, dtype: float64"
      ]
     },
     "execution_count": 86,
     "metadata": {},
     "output_type": "execute_result"
    }
   ],
   "source": [
    "bmart['Tenure'].describe()"
   ]
  },
  {
   "cell_type": "code",
   "execution_count": 87,
   "id": "fd4f3de8",
   "metadata": {},
   "outputs": [
    {
     "name": "stderr",
     "output_type": "stream",
     "text": [
      "C:\\Users\\91809\\anaconda3\\lib\\site-packages\\seaborn\\distributions.py:2619: FutureWarning: `distplot` is a deprecated function and will be removed in a future version. Please adapt your code to use either `displot` (a figure-level function with similar flexibility) or `histplot` (an axes-level function for histograms).\n",
      "  warnings.warn(msg, FutureWarning)\n"
     ]
    },
    {
     "data": {
      "text/plain": [
       "<AxesSubplot:xlabel='Tenure', ylabel='Density'>"
      ]
     },
     "execution_count": 87,
     "metadata": {},
     "output_type": "execute_result"
    },
    {
     "data": {
      "image/png": "[encoded data removed]",
      "text/plain": [
       "<Figure size 432x288 with 1 Axes>"
      ]
     },
     "metadata": {
      "needs_background": "light"
     },
     "output_type": "display_data"
    }
   ],
   "source": [
    "sns.distplot(bmart['Tenure'])"
   ]
  },
  {
   "cell_type": "code",
   "execution_count": 88,
   "id": "77531ffd",
   "metadata": {},
   "outputs": [
    {
     "data": {
      "text/plain": [
       "OUT027    1559\n",
       "OUT013    1553\n",
       "OUT049    1550\n",
       "OUT046    1550\n",
       "OUT035    1550\n",
       "OUT045    1548\n",
       "OUT018    1546\n",
       "OUT017    1543\n",
       "OUT010     925\n",
       "OUT019     880\n",
       "Name: Outlet_Identifier, dtype: int64"
      ]
     },
     "execution_count": 88,
     "metadata": {},
     "output_type": "execute_result"
    }
   ],
   "source": [
    "bmart['Outlet_Identifier'].value_counts()"
   ]
  },
  {
   "cell_type": "code",
   "execution_count": 89,
   "id": "eefbae10",
   "metadata": {},
   "outputs": [
    {
     "data": {
      "text/plain": [
       "Tier 3    5583\n",
       "Tier 2    4641\n",
       "Tier 1    3980\n",
       "Name: Outlet_Location_Type, dtype: int64"
      ]
     },
     "execution_count": 89,
     "metadata": {},
     "output_type": "execute_result"
    }
   ],
   "source": [
    "bmart['Outlet_Location_Type'].value_counts()"
   ]
  },
  {
   "cell_type": "code",
   "execution_count": 90,
   "id": "2f8cd4f8",
   "metadata": {},
   "outputs": [
    {
     "data": {
      "text/html": [
       "<div>\n",
       "<style scoped>\n",
       "    .dataframe tbody tr th:only-of-type {\n",
       "        vertical-align: middle;\n",
       "    }\n",
       "\n",
       "    .dataframe tbody tr th {\n",
       "        vertical-align: top;\n",
       "    }\n",
       "\n",
       "    .dataframe thead th {\n",
       "        text-align: right;\n",
       "    }\n",
       "</style>\n",
       "<table border=\"1\" class=\"dataframe\">\n",
       "  <thead>\n",
       "    <tr style=\"text-align: right;\">\n",
       "      <th>Outlet_Identifier</th>\n",
       "      <th>OUT010</th>\n",
       "      <th>OUT013</th>\n",
       "      <th>OUT017</th>\n",
       "      <th>OUT018</th>\n",
       "      <th>OUT019</th>\n",
       "      <th>OUT027</th>\n",
       "      <th>OUT035</th>\n",
       "      <th>OUT045</th>\n",
       "      <th>OUT046</th>\n",
       "      <th>OUT049</th>\n",
       "    </tr>\n",
       "    <tr>\n",
       "      <th>Outlet_Location_Type</th>\n",
       "      <th></th>\n",
       "      <th></th>\n",
       "      <th></th>\n",
       "      <th></th>\n",
       "      <th></th>\n",
       "      <th></th>\n",
       "      <th></th>\n",
       "      <th></th>\n",
       "      <th></th>\n",
       "      <th></th>\n",
       "    </tr>\n",
       "  </thead>\n",
       "  <tbody>\n",
       "    <tr>\n",
       "      <th>Tier 1</th>\n",
       "      <td>0</td>\n",
       "      <td>0</td>\n",
       "      <td>0</td>\n",
       "      <td>0</td>\n",
       "      <td>880</td>\n",
       "      <td>0</td>\n",
       "      <td>0</td>\n",
       "      <td>0</td>\n",
       "      <td>1550</td>\n",
       "      <td>1550</td>\n",
       "    </tr>\n",
       "    <tr>\n",
       "      <th>Tier 2</th>\n",
       "      <td>0</td>\n",
       "      <td>0</td>\n",
       "      <td>1543</td>\n",
       "      <td>0</td>\n",
       "      <td>0</td>\n",
       "      <td>0</td>\n",
       "      <td>1550</td>\n",
       "      <td>1548</td>\n",
       "      <td>0</td>\n",
       "      <td>0</td>\n",
       "    </tr>\n",
       "    <tr>\n",
       "      <th>Tier 3</th>\n",
       "      <td>925</td>\n",
       "      <td>1553</td>\n",
       "      <td>0</td>\n",
       "      <td>1546</td>\n",
       "      <td>0</td>\n",
       "      <td>1559</td>\n",
       "      <td>0</td>\n",
       "      <td>0</td>\n",
       "      <td>0</td>\n",
       "      <td>0</td>\n",
       "    </tr>\n",
       "  </tbody>\n",
       "</table>\n",
       "</div>"
      ],
      "text/plain": [
       "Outlet_Identifier     OUT010  OUT013  OUT017  OUT018  OUT019  OUT027  OUT035  \\\n",
       "Outlet_Location_Type                                                           \n",
       "Tier 1                     0       0       0       0     880       0       0   \n",
       "Tier 2                     0       0    1543       0       0       0    1550   \n",
       "Tier 3                   925    1553       0    1546       0    1559       0   \n",
       "\n",
       "Outlet_Identifier     OUT045  OUT046  OUT049  \n",
       "Outlet_Location_Type                          \n",
       "Tier 1                     0    1550    1550  \n",
       "Tier 2                  1548       0       0  \n",
       "Tier 3                     0       0       0  "
      ]
     },
     "execution_count": 90,
     "metadata": {},
     "output_type": "execute_result"
    }
   ],
   "source": [
    "pd.crosstab(bmart['Outlet_Location_Type'],bmart['Outlet_Identifier'])"
   ]
  },
  {
   "cell_type": "code",
   "execution_count": 91,
   "id": "59f6a831",
   "metadata": {},
   "outputs": [
    {
     "data": {
      "text/plain": [
       "Medium    4655\n",
       "Small     3980\n",
       "High      1553\n",
       "Name: Outlet_Size, dtype: int64"
      ]
     },
     "execution_count": 91,
     "metadata": {},
     "output_type": "execute_result"
    }
   ],
   "source": [
    "bmart['Outlet_Size'].value_counts()"
   ]
  },
  {
   "cell_type": "code",
   "execution_count": 92,
   "id": "66cc3c3c",
   "metadata": {},
   "outputs": [
    {
     "data": {
      "text/plain": [
       "4016"
      ]
     },
     "execution_count": 92,
     "metadata": {},
     "output_type": "execute_result"
    }
   ],
   "source": [
    "bmart['Outlet_Size'].isnull().sum()"
   ]
  },
  {
   "cell_type": "code",
   "execution_count": 93,
   "id": "26e67260",
   "metadata": {},
   "outputs": [
    {
     "name": "stderr",
     "output_type": "stream",
     "text": [
      "C:\\Users\\91809\\anaconda3\\lib\\site-packages\\seaborn\\_decorators.py:36: FutureWarning: Pass the following variables as keyword args: x, y. From version 0.12, the only valid positional argument will be `data`, and passing other arguments without an explicit keyword will result in an error or misinterpretation.\n",
      "  warnings.warn(\n"
     ]
    },
    {
     "data": {
      "text/plain": [
       "<AxesSubplot:xlabel='Outlet_Size', ylabel='Item_Outlet_Sales'>"
      ]
     },
     "execution_count": 93,
     "metadata": {},
     "output_type": "execute_result"
    },
    {
     "data": {
      "image/png": "[encoded data removed]",
      "text/plain": [
       "<Figure size 432x288 with 1 Axes>"
      ]
     },
     "metadata": {
      "needs_background": "light"
     },
     "output_type": "display_data"
    }
   ],
   "source": [
    "sns.boxplot(bmart['Outlet_Size'],bmart['Item_Outlet_Sales'])"
   ]
  },
  {
   "cell_type": "code",
   "execution_count": 94,
   "id": "96770924",
   "metadata": {},
   "outputs": [
    {
     "name": "stderr",
     "output_type": "stream",
     "text": [
      "C:\\Users\\91809\\anaconda3\\lib\\site-packages\\seaborn\\_decorators.py:36: FutureWarning: Pass the following variables as keyword args: x, y. From version 0.12, the only valid positional argument will be `data`, and passing other arguments without an explicit keyword will result in an error or misinterpretation.\n",
      "  warnings.warn(\n"
     ]
    },
    {
     "data": {
      "text/plain": [
       "<AxesSubplot:xlabel='Outlet_Size', ylabel='Item_Outlet_Sales'>"
      ]
     },
     "execution_count": 94,
     "metadata": {},
     "output_type": "execute_result"
    },
    {
     "data": {
      "image/png": "[encoded data removed]",
      "text/plain": [
       "<Figure size 432x288 with 1 Axes>"
      ]
     },
     "metadata": {
      "needs_background": "light"
     },
     "output_type": "display_data"
    }
   ],
   "source": [
    "sns.violinplot(bmart['Outlet_Size'],bmart['Item_Outlet_Sales'])"
   ]
  },
  {
   "cell_type": "code",
   "execution_count": 95,
   "id": "7c2edd04",
   "metadata": {},
   "outputs": [
    {
     "name": "stderr",
     "output_type": "stream",
     "text": [
      "C:\\Users\\91809\\anaconda3\\lib\\site-packages\\seaborn\\_decorators.py:36: FutureWarning: Pass the following variables as keyword args: x, y. From version 0.12, the only valid positional argument will be `data`, and passing other arguments without an explicit keyword will result in an error or misinterpretation.\n",
      "  warnings.warn(\n"
     ]
    },
    {
     "data": {
      "text/plain": [
       "<AxesSubplot:xlabel='Outlet_Size', ylabel='Item_Outlet_Sales'>"
      ]
     },
     "execution_count": 95,
     "metadata": {},
     "output_type": "execute_result"
    },
    {
     "data": {
      "image/png": "[encoded data removed]",
      "text/plain": [
       "<Figure size 432x288 with 1 Axes>"
      ]
     },
     "metadata": {
      "needs_background": "light"
     },
     "output_type": "display_data"
    }
   ],
   "source": [
    "sns.violinplot(bmart['Outlet_Size'].fillna('MISSING'),bmart['Item_Outlet_Sales'])"
   ]
  },
  {
   "cell_type": "code",
   "execution_count": 96,
   "id": "02410b49",
   "metadata": {},
   "outputs": [
    {
     "data": {
      "text/plain": [
       "Medium    4655\n",
       "Small     3980\n",
       "High      1553\n",
       "Name: Outlet_Size, dtype: int64"
      ]
     },
     "execution_count": 96,
     "metadata": {},
     "output_type": "execute_result"
    }
   ],
   "source": [
    "bmart['Outlet_Size'].value_counts()"
   ]
  },
  {
   "cell_type": "code",
   "execution_count": 97,
   "id": "52651261",
   "metadata": {},
   "outputs": [],
   "source": [
    "bmart['Outlet_Size']=bmart['Outlet_Size'].fillna('Small')"
   ]
  },
  {
   "cell_type": "code",
   "execution_count": 98,
   "id": "1c9fadb4",
   "metadata": {},
   "outputs": [
    {
     "data": {
      "text/plain": [
       "Small     7996\n",
       "Medium    4655\n",
       "High      1553\n",
       "Name: Outlet_Size, dtype: int64"
      ]
     },
     "execution_count": 98,
     "metadata": {},
     "output_type": "execute_result"
    }
   ],
   "source": [
    "bmart['Outlet_Size'].value_counts()"
   ]
  },
  {
   "cell_type": "code",
   "execution_count": 99,
   "id": "e4d2349e",
   "metadata": {},
   "outputs": [
    {
     "name": "stderr",
     "output_type": "stream",
     "text": [
      "C:\\Users\\91809\\anaconda3\\lib\\site-packages\\seaborn\\_decorators.py:36: FutureWarning: Pass the following variable as a keyword arg: x. From version 0.12, the only valid positional argument will be `data`, and passing other arguments without an explicit keyword will result in an error or misinterpretation.\n",
      "  warnings.warn(\n"
     ]
    },
    {
     "data": {
      "text/plain": [
       "<AxesSubplot:xlabel='Outlet_Size', ylabel='count'>"
      ]
     },
     "execution_count": 99,
     "metadata": {},
     "output_type": "execute_result"
    },
    {
     "data": {
      "image/png": "[encoded data removed]",
      "text/plain": [
       "<Figure size 432x288 with 1 Axes>"
      ]
     },
     "metadata": {
      "needs_background": "light"
     },
     "output_type": "display_data"
    }
   ],
   "source": [
    "sns.countplot(bmart['Outlet_Size'])"
   ]
  },
  {
   "cell_type": "code",
   "execution_count": 100,
   "id": "ebf21764",
   "metadata": {},
   "outputs": [
    {
     "name": "stderr",
     "output_type": "stream",
     "text": [
      "C:\\Users\\91809\\anaconda3\\lib\\site-packages\\seaborn\\_decorators.py:36: FutureWarning: Pass the following variable as a keyword arg: x. From version 0.12, the only valid positional argument will be `data`, and passing other arguments without an explicit keyword will result in an error or misinterpretation.\n",
      "  warnings.warn(\n"
     ]
    },
    {
     "data": {
      "text/plain": [
       "<AxesSubplot:xlabel='Outlet_Type', ylabel='count'>"
      ]
     },
     "execution_count": 100,
     "metadata": {},
     "output_type": "execute_result"
    },
    {
     "data": {
      "image/png": "[encoded data removed]",
      "text/plain": [
       "<Figure size 432x288 with 1 Axes>"
      ]
     },
     "metadata": {
      "needs_background": "light"
     },
     "output_type": "display_data"
    }
   ],
   "source": [
    "sns.countplot(bmart['Outlet_Type'])"
   ]
  },
  {
   "cell_type": "code",
   "execution_count": 101,
   "id": "f0078b80",
   "metadata": {},
   "outputs": [
    {
     "data": {
      "text/plain": [
       "Supermarket Type1    9294\n",
       "Grocery Store        1805\n",
       "Supermarket Type3    1559\n",
       "Supermarket Type2    1546\n",
       "Name: Outlet_Type, dtype: int64"
      ]
     },
     "execution_count": 101,
     "metadata": {},
     "output_type": "execute_result"
    }
   ],
   "source": [
    "bmart['Outlet_Type'].value_counts()"
   ]
  },
  {
   "cell_type": "code",
   "execution_count": 102,
   "id": "9280a955",
   "metadata": {},
   "outputs": [
    {
     "data": {
      "text/plain": [
       "Item_Identifier                 0\n",
       "Item_Weight                     0\n",
       "Item_Fat_Content                0\n",
       "Item_Visibility                 0\n",
       "Item_Type                       0\n",
       "Item_MRP                        0\n",
       "Outlet_Identifier               0\n",
       "Outlet_Establishment_Year       0\n",
       "Outlet_Size                     0\n",
       "Outlet_Location_Type            0\n",
       "Outlet_Type                     0\n",
       "Item_Outlet_Sales            5681\n",
       "Item_Visibility_SQRT            0\n",
       "Tenure                          0\n",
       "dtype: int64"
      ]
     },
     "execution_count": 102,
     "metadata": {},
     "output_type": "execute_result"
    }
   ],
   "source": [
    "bmart.isnull().sum()"
   ]
  },
  {
   "cell_type": "code",
   "execution_count": null,
   "id": "72a94f0e",
   "metadata": {},
   "outputs": [],
   "source": []
  },
  {
   "cell_type": "code",
   "execution_count": 103,
   "id": "e5afe439",
   "metadata": {},
   "outputs": [
    {
     "name": "stdout",
     "output_type": "stream",
     "text": [
      "(14204, 14)\n"
     ]
    }
   ],
   "source": [
    "print(bmart.shape)"
   ]
  },
  {
   "cell_type": "code",
   "execution_count": 104,
   "id": "da5913e9",
   "metadata": {},
   "outputs": [
    {
     "data": {
      "text/html": [
       "<div>\n",
       "<style scoped>\n",
       "    .dataframe tbody tr th:only-of-type {\n",
       "        vertical-align: middle;\n",
       "    }\n",
       "\n",
       "    .dataframe tbody tr th {\n",
       "        vertical-align: top;\n",
       "    }\n",
       "\n",
       "    .dataframe thead th {\n",
       "        text-align: right;\n",
       "    }\n",
       "</style>\n",
       "<table border=\"1\" class=\"dataframe\">\n",
       "  <thead>\n",
       "    <tr style=\"text-align: right;\">\n",
       "      <th></th>\n",
       "      <th>Item_Identifier</th>\n",
       "      <th>Item_Weight</th>\n",
       "      <th>Item_Fat_Content</th>\n",
       "      <th>Item_Visibility</th>\n",
       "      <th>Item_Type</th>\n",
       "      <th>Item_MRP</th>\n",
       "      <th>Outlet_Identifier</th>\n",
       "      <th>Outlet_Establishment_Year</th>\n",
       "      <th>Outlet_Size</th>\n",
       "      <th>Outlet_Location_Type</th>\n",
       "      <th>Outlet_Type</th>\n",
       "      <th>Item_Outlet_Sales</th>\n",
       "      <th>Item_Visibility_SQRT</th>\n",
       "      <th>Tenure</th>\n",
       "    </tr>\n",
       "  </thead>\n",
       "  <tbody>\n",
       "    <tr>\n",
       "      <th>0</th>\n",
       "      <td>FDA15</td>\n",
       "      <td>9.30</td>\n",
       "      <td>Low Fat</td>\n",
       "      <td>0.016047</td>\n",
       "      <td>Dairy</td>\n",
       "      <td>249.8092</td>\n",
       "      <td>OUT049</td>\n",
       "      <td>1999</td>\n",
       "      <td>Medium</td>\n",
       "      <td>Tier 1</td>\n",
       "      <td>Supermarket Type1</td>\n",
       "      <td>3735.1380</td>\n",
       "      <td>0.126678</td>\n",
       "      <td>21</td>\n",
       "    </tr>\n",
       "    <tr>\n",
       "      <th>1</th>\n",
       "      <td>DRC01</td>\n",
       "      <td>5.92</td>\n",
       "      <td>Regular</td>\n",
       "      <td>0.019278</td>\n",
       "      <td>Soft Drinks</td>\n",
       "      <td>48.2692</td>\n",
       "      <td>OUT018</td>\n",
       "      <td>2009</td>\n",
       "      <td>Medium</td>\n",
       "      <td>Tier 3</td>\n",
       "      <td>Supermarket Type2</td>\n",
       "      <td>443.4228</td>\n",
       "      <td>0.138846</td>\n",
       "      <td>11</td>\n",
       "    </tr>\n",
       "  </tbody>\n",
       "</table>\n",
       "</div>"
      ],
      "text/plain": [
       "  Item_Identifier  Item_Weight Item_Fat_Content  Item_Visibility    Item_Type  \\\n",
       "0           FDA15         9.30          Low Fat         0.016047        Dairy   \n",
       "1           DRC01         5.92          Regular         0.019278  Soft Drinks   \n",
       "\n",
       "   Item_MRP Outlet_Identifier  Outlet_Establishment_Year Outlet_Size  \\\n",
       "0  249.8092            OUT049                       1999      Medium   \n",
       "1   48.2692            OUT018                       2009      Medium   \n",
       "\n",
       "  Outlet_Location_Type        Outlet_Type  Item_Outlet_Sales  \\\n",
       "0               Tier 1  Supermarket Type1          3735.1380   \n",
       "1               Tier 3  Supermarket Type2           443.4228   \n",
       "\n",
       "   Item_Visibility_SQRT  Tenure  \n",
       "0              0.126678      21  \n",
       "1              0.138846      11  "
      ]
     },
     "execution_count": 104,
     "metadata": {},
     "output_type": "execute_result"
    }
   ],
   "source": [
    "bmart.head(2)"
   ]
  },
  {
   "cell_type": "code",
   "execution_count": 105,
   "id": "ff964538",
   "metadata": {},
   "outputs": [],
   "source": [
    "bmart['Item_Identifier_1']=bmart['Item_Identifier'].str[:2]"
   ]
  },
  {
   "cell_type": "code",
   "execution_count": 106,
   "id": "532620f8",
   "metadata": {},
   "outputs": [
    {
     "data": {
      "text/plain": [
       "Item_Identifier                 0\n",
       "Item_Weight                     0\n",
       "Item_Fat_Content                0\n",
       "Item_Visibility                 0\n",
       "Item_Type                       0\n",
       "Item_MRP                        0\n",
       "Outlet_Identifier               0\n",
       "Outlet_Establishment_Year       0\n",
       "Outlet_Size                     0\n",
       "Outlet_Location_Type            0\n",
       "Outlet_Type                     0\n",
       "Item_Outlet_Sales            5681\n",
       "Item_Visibility_SQRT            0\n",
       "Tenure                          0\n",
       "Item_Identifier_1               0\n",
       "dtype: int64"
      ]
     },
     "execution_count": 106,
     "metadata": {},
     "output_type": "execute_result"
    }
   ],
   "source": [
    "bmart.isnull().sum()"
   ]
  },
  {
   "cell_type": "code",
   "execution_count": 107,
   "id": "a140e9e3",
   "metadata": {
    "scrolled": true
   },
   "outputs": [
    {
     "name": "stdout",
     "output_type": "stream",
     "text": [
      "<class 'pandas.core.frame.DataFrame'>\n",
      "Int64Index: 14204 entries, 0 to 5680\n",
      "Data columns (total 15 columns):\n",
      " #   Column                     Non-Null Count  Dtype  \n",
      "---  ------                     --------------  -----  \n",
      " 0   Item_Identifier            14204 non-null  object \n",
      " 1   Item_Weight                14204 non-null  float64\n",
      " 2   Item_Fat_Content           14204 non-null  object \n",
      " 3   Item_Visibility            14204 non-null  float64\n",
      " 4   Item_Type                  14204 non-null  object \n",
      " 5   Item_MRP                   14204 non-null  float64\n",
      " 6   Outlet_Identifier          14204 non-null  object \n",
      " 7   Outlet_Establishment_Year  14204 non-null  int64  \n",
      " 8   Outlet_Size                14204 non-null  object \n",
      " 9   Outlet_Location_Type       14204 non-null  object \n",
      " 10  Outlet_Type                14204 non-null  object \n",
      " 11  Item_Outlet_Sales          8523 non-null   float64\n",
      " 12  Item_Visibility_SQRT       14204 non-null  float64\n",
      " 13  Tenure                     14204 non-null  int64  \n",
      " 14  Item_Identifier_1          14204 non-null  object \n",
      "dtypes: float64(5), int64(2), object(8)\n",
      "memory usage: 2.2+ MB\n"
     ]
    }
   ],
   "source": [
    "bmart.info()"
   ]
  },
  {
   "cell_type": "code",
   "execution_count": 108,
   "id": "b95b69a8",
   "metadata": {
    "scrolled": false
   },
   "outputs": [
    {
     "data": {
      "text/html": [
       "<div>\n",
       "<style scoped>\n",
       "    .dataframe tbody tr th:only-of-type {\n",
       "        vertical-align: middle;\n",
       "    }\n",
       "\n",
       "    .dataframe tbody tr th {\n",
       "        vertical-align: top;\n",
       "    }\n",
       "\n",
       "    .dataframe thead th {\n",
       "        text-align: right;\n",
       "    }\n",
       "</style>\n",
       "<table border=\"1\" class=\"dataframe\">\n",
       "  <thead>\n",
       "    <tr style=\"text-align: right;\">\n",
       "      <th></th>\n",
       "      <th>Item_Identifier</th>\n",
       "      <th>Item_Weight</th>\n",
       "      <th>Item_Fat_Content</th>\n",
       "      <th>Item_Visibility</th>\n",
       "      <th>Item_Type</th>\n",
       "      <th>Item_MRP</th>\n",
       "      <th>Outlet_Identifier</th>\n",
       "      <th>Outlet_Establishment_Year</th>\n",
       "      <th>Outlet_Size</th>\n",
       "      <th>Outlet_Location_Type</th>\n",
       "      <th>Outlet_Type</th>\n",
       "      <th>Item_Outlet_Sales</th>\n",
       "      <th>Item_Visibility_SQRT</th>\n",
       "      <th>Tenure</th>\n",
       "      <th>Item_Identifier_1</th>\n",
       "    </tr>\n",
       "  </thead>\n",
       "  <tbody>\n",
       "    <tr>\n",
       "      <th>0</th>\n",
       "      <td>FDA15</td>\n",
       "      <td>9.30</td>\n",
       "      <td>Low Fat</td>\n",
       "      <td>0.016047</td>\n",
       "      <td>Dairy</td>\n",
       "      <td>249.8092</td>\n",
       "      <td>OUT049</td>\n",
       "      <td>1999</td>\n",
       "      <td>Medium</td>\n",
       "      <td>Tier 1</td>\n",
       "      <td>Supermarket Type1</td>\n",
       "      <td>3735.1380</td>\n",
       "      <td>0.126678</td>\n",
       "      <td>21</td>\n",
       "      <td>FD</td>\n",
       "    </tr>\n",
       "    <tr>\n",
       "      <th>1</th>\n",
       "      <td>DRC01</td>\n",
       "      <td>5.92</td>\n",
       "      <td>Regular</td>\n",
       "      <td>0.019278</td>\n",
       "      <td>Soft Drinks</td>\n",
       "      <td>48.2692</td>\n",
       "      <td>OUT018</td>\n",
       "      <td>2009</td>\n",
       "      <td>Medium</td>\n",
       "      <td>Tier 3</td>\n",
       "      <td>Supermarket Type2</td>\n",
       "      <td>443.4228</td>\n",
       "      <td>0.138846</td>\n",
       "      <td>11</td>\n",
       "      <td>DR</td>\n",
       "    </tr>\n",
       "    <tr>\n",
       "      <th>2</th>\n",
       "      <td>FDN15</td>\n",
       "      <td>17.50</td>\n",
       "      <td>Low Fat</td>\n",
       "      <td>0.016760</td>\n",
       "      <td>Meat</td>\n",
       "      <td>141.6180</td>\n",
       "      <td>OUT049</td>\n",
       "      <td>1999</td>\n",
       "      <td>Medium</td>\n",
       "      <td>Tier 1</td>\n",
       "      <td>Supermarket Type1</td>\n",
       "      <td>2097.2700</td>\n",
       "      <td>0.129461</td>\n",
       "      <td>21</td>\n",
       "      <td>FD</td>\n",
       "    </tr>\n",
       "    <tr>\n",
       "      <th>3</th>\n",
       "      <td>FDX07</td>\n",
       "      <td>19.20</td>\n",
       "      <td>Regular</td>\n",
       "      <td>0.000000</td>\n",
       "      <td>Fruits and Vegetables</td>\n",
       "      <td>182.0950</td>\n",
       "      <td>OUT010</td>\n",
       "      <td>1998</td>\n",
       "      <td>Small</td>\n",
       "      <td>Tier 3</td>\n",
       "      <td>Grocery Store</td>\n",
       "      <td>732.3800</td>\n",
       "      <td>0.248442</td>\n",
       "      <td>22</td>\n",
       "      <td>FD</td>\n",
       "    </tr>\n",
       "    <tr>\n",
       "      <th>4</th>\n",
       "      <td>NCD19</td>\n",
       "      <td>8.93</td>\n",
       "      <td>Low Fat</td>\n",
       "      <td>0.000000</td>\n",
       "      <td>Household</td>\n",
       "      <td>53.8614</td>\n",
       "      <td>OUT013</td>\n",
       "      <td>1987</td>\n",
       "      <td>High</td>\n",
       "      <td>Tier 3</td>\n",
       "      <td>Supermarket Type1</td>\n",
       "      <td>994.7052</td>\n",
       "      <td>0.248442</td>\n",
       "      <td>33</td>\n",
       "      <td>NC</td>\n",
       "    </tr>\n",
       "  </tbody>\n",
       "</table>\n",
       "</div>"
      ],
      "text/plain": [
       "  Item_Identifier  Item_Weight Item_Fat_Content  Item_Visibility  \\\n",
       "0           FDA15         9.30          Low Fat         0.016047   \n",
       "1           DRC01         5.92          Regular         0.019278   \n",
       "2           FDN15        17.50          Low Fat         0.016760   \n",
       "3           FDX07        19.20          Regular         0.000000   \n",
       "4           NCD19         8.93          Low Fat         0.000000   \n",
       "\n",
       "               Item_Type  Item_MRP Outlet_Identifier  \\\n",
       "0                  Dairy  249.8092            OUT049   \n",
       "1            Soft Drinks   48.2692            OUT018   \n",
       "2                   Meat  141.6180            OUT049   \n",
       "3  Fruits and Vegetables  182.0950            OUT010   \n",
       "4              Household   53.8614            OUT013   \n",
       "\n",
       "   Outlet_Establishment_Year Outlet_Size Outlet_Location_Type  \\\n",
       "0                       1999      Medium               Tier 1   \n",
       "1                       2009      Medium               Tier 3   \n",
       "2                       1999      Medium               Tier 1   \n",
       "3                       1998       Small               Tier 3   \n",
       "4                       1987        High               Tier 3   \n",
       "\n",
       "         Outlet_Type  Item_Outlet_Sales  Item_Visibility_SQRT  Tenure  \\\n",
       "0  Supermarket Type1          3735.1380              0.126678      21   \n",
       "1  Supermarket Type2           443.4228              0.138846      11   \n",
       "2  Supermarket Type1          2097.2700              0.129461      21   \n",
       "3      Grocery Store           732.3800              0.248442      22   \n",
       "4  Supermarket Type1           994.7052              0.248442      33   \n",
       "\n",
       "  Item_Identifier_1  \n",
       "0                FD  \n",
       "1                DR  \n",
       "2                FD  \n",
       "3                FD  \n",
       "4                NC  "
      ]
     },
     "execution_count": 108,
     "metadata": {},
     "output_type": "execute_result"
    }
   ],
   "source": [
    "bmart.head(5)"
   ]
  },
  {
   "cell_type": "code",
   "execution_count": 109,
   "id": "8b718e95",
   "metadata": {},
   "outputs": [],
   "source": [
    "train_cl=bmart[bmart['Item_Outlet_Sales'].notnull()]\n",
    "test_cl=bmart[bmart['Item_Outlet_Sales'].isnull()]"
   ]
  },
  {
   "cell_type": "code",
   "execution_count": 110,
   "id": "91933047",
   "metadata": {},
   "outputs": [
    {
     "name": "stdout",
     "output_type": "stream",
     "text": [
      "(8523, 15)\n",
      "(5681, 15)\n"
     ]
    }
   ],
   "source": [
    "print(train_cl.shape)\n",
    "print(test_cl.shape)"
   ]
  },
  {
   "cell_type": "code",
   "execution_count": 111,
   "id": "1c8815f1",
   "metadata": {},
   "outputs": [
    {
     "name": "stderr",
     "output_type": "stream",
     "text": [
      "C:\\Users\\91809\\anaconda3\\lib\\site-packages\\pandas\\core\\frame.py:4906: SettingWithCopyWarning: \n",
      "A value is trying to be set on a copy of a slice from a DataFrame\n",
      "\n",
      "See the caveats in the documentation: https://pandas.pydata.org/pandas-docs/stable/user_guide/indexing.html#returning-a-view-versus-a-copy\n",
      "  return super().drop(\n"
     ]
    }
   ],
   "source": [
    "train_cl.drop(['Item_Identifier','Item_Visibility','Outlet_Establishment_Year'],axis=1,inplace=True)"
   ]
  },
  {
   "cell_type": "code",
   "execution_count": 112,
   "id": "249d59d5",
   "metadata": {},
   "outputs": [
    {
     "data": {
      "text/plain": [
       "Item_Weight             0\n",
       "Item_Fat_Content        0\n",
       "Item_Type               0\n",
       "Item_MRP                0\n",
       "Outlet_Identifier       0\n",
       "Outlet_Size             0\n",
       "Outlet_Location_Type    0\n",
       "Outlet_Type             0\n",
       "Item_Outlet_Sales       0\n",
       "Item_Visibility_SQRT    0\n",
       "Tenure                  0\n",
       "Item_Identifier_1       0\n",
       "dtype: int64"
      ]
     },
     "execution_count": 112,
     "metadata": {},
     "output_type": "execute_result"
    }
   ],
   "source": [
    "train_cl.isnull().sum()"
   ]
  },
  {
   "cell_type": "code",
   "execution_count": 113,
   "id": "0194c23e",
   "metadata": {},
   "outputs": [
    {
     "name": "stdout",
     "output_type": "stream",
     "text": [
      "<class 'pandas.core.frame.DataFrame'>\n",
      "Int64Index: 8523 entries, 0 to 8522\n",
      "Data columns (total 12 columns):\n",
      " #   Column                Non-Null Count  Dtype  \n",
      "---  ------                --------------  -----  \n",
      " 0   Item_Weight           8523 non-null   float64\n",
      " 1   Item_Fat_Content      8523 non-null   object \n",
      " 2   Item_Type             8523 non-null   object \n",
      " 3   Item_MRP              8523 non-null   float64\n",
      " 4   Outlet_Identifier     8523 non-null   object \n",
      " 5   Outlet_Size           8523 non-null   object \n",
      " 6   Outlet_Location_Type  8523 non-null   object \n",
      " 7   Outlet_Type           8523 non-null   object \n",
      " 8   Item_Outlet_Sales     8523 non-null   float64\n",
      " 9   Item_Visibility_SQRT  8523 non-null   float64\n",
      " 10  Tenure                8523 non-null   int64  \n",
      " 11  Item_Identifier_1     8523 non-null   object \n",
      "dtypes: float64(4), int64(1), object(7)\n",
      "memory usage: 865.6+ KB\n"
     ]
    }
   ],
   "source": [
    "train_cl.info()"
   ]
  },
  {
   "cell_type": "code",
   "execution_count": 114,
   "id": "d2a861c4",
   "metadata": {},
   "outputs": [],
   "source": [
    "test_cl.drop(['Item_Identifier','Item_Visibility','Outlet_Establishment_Year'],axis=1,inplace=True)"
   ]
  },
  {
   "cell_type": "code",
   "execution_count": 115,
   "id": "fd6e4691",
   "metadata": {},
   "outputs": [
    {
     "name": "stdout",
     "output_type": "stream",
     "text": [
      "(8523, 12)\n",
      "(5681, 12)\n"
     ]
    }
   ],
   "source": [
    "print(train_cl.shape)\n",
    "print(test_cl.shape)"
   ]
  },
  {
   "cell_type": "code",
   "execution_count": 116,
   "id": "4460283c",
   "metadata": {},
   "outputs": [],
   "source": [
    "train_cl=pd.get_dummies(train_cl,drop_first=True)\n",
    "test_cl=pd.get_dummies(test_cl,drop_first=True)"
   ]
  },
  {
   "cell_type": "code",
   "execution_count": 117,
   "id": "dc8e6a0f",
   "metadata": {},
   "outputs": [
    {
     "name": "stdout",
     "output_type": "stream",
     "text": [
      "(8523, 39)\n",
      "(5681, 39)\n"
     ]
    }
   ],
   "source": [
    "print(train_cl.shape)\n",
    "print(test_cl.shape)"
   ]
  },
  {
   "cell_type": "markdown",
   "id": "78d151dc",
   "metadata": {},
   "source": [
    "## Model Building"
   ]
  },
  {
   "cell_type": "code",
   "execution_count": 118,
   "id": "ad600d73",
   "metadata": {},
   "outputs": [],
   "source": [
    "from sklearn.linear_model import LinearRegression\n",
    "from sklearn.model_selection import train_test_split,GridSearchCV\n",
    "from sklearn import metrics"
   ]
  },
  {
   "cell_type": "code",
   "execution_count": 119,
   "id": "588cb35d",
   "metadata": {},
   "outputs": [],
   "source": [
    "train_Y=train_cl['Item_Outlet_Sales']\n",
    "train_X=train_cl.drop('Item_Outlet_Sales',axis=1)"
   ]
  },
  {
   "cell_type": "code",
   "execution_count": 120,
   "id": "9c173f48",
   "metadata": {},
   "outputs": [
    {
     "data": {
      "text/html": [
       "<div>\n",
       "<style scoped>\n",
       "    .dataframe tbody tr th:only-of-type {\n",
       "        vertical-align: middle;\n",
       "    }\n",
       "\n",
       "    .dataframe tbody tr th {\n",
       "        vertical-align: top;\n",
       "    }\n",
       "\n",
       "    .dataframe thead th {\n",
       "        text-align: right;\n",
       "    }\n",
       "</style>\n",
       "<table border=\"1\" class=\"dataframe\">\n",
       "  <thead>\n",
       "    <tr style=\"text-align: right;\">\n",
       "      <th></th>\n",
       "      <th>Item_Weight</th>\n",
       "      <th>Item_MRP</th>\n",
       "      <th>Item_Visibility_SQRT</th>\n",
       "      <th>Tenure</th>\n",
       "      <th>Item_Fat_Content_Regular</th>\n",
       "      <th>Item_Type_Breads</th>\n",
       "      <th>Item_Type_Breakfast</th>\n",
       "      <th>Item_Type_Canned</th>\n",
       "      <th>Item_Type_Dairy</th>\n",
       "      <th>Item_Type_Frozen Foods</th>\n",
       "      <th>...</th>\n",
       "      <th>Outlet_Identifier_OUT049</th>\n",
       "      <th>Outlet_Size_Medium</th>\n",
       "      <th>Outlet_Size_Small</th>\n",
       "      <th>Outlet_Location_Type_Tier 2</th>\n",
       "      <th>Outlet_Location_Type_Tier 3</th>\n",
       "      <th>Outlet_Type_Supermarket Type1</th>\n",
       "      <th>Outlet_Type_Supermarket Type2</th>\n",
       "      <th>Outlet_Type_Supermarket Type3</th>\n",
       "      <th>Item_Identifier_1_FD</th>\n",
       "      <th>Item_Identifier_1_NC</th>\n",
       "    </tr>\n",
       "  </thead>\n",
       "  <tbody>\n",
       "    <tr>\n",
       "      <th>0</th>\n",
       "      <td>9.30</td>\n",
       "      <td>249.8092</td>\n",
       "      <td>0.126678</td>\n",
       "      <td>21</td>\n",
       "      <td>0</td>\n",
       "      <td>0</td>\n",
       "      <td>0</td>\n",
       "      <td>0</td>\n",
       "      <td>1</td>\n",
       "      <td>0</td>\n",
       "      <td>...</td>\n",
       "      <td>1</td>\n",
       "      <td>1</td>\n",
       "      <td>0</td>\n",
       "      <td>0</td>\n",
       "      <td>0</td>\n",
       "      <td>1</td>\n",
       "      <td>0</td>\n",
       "      <td>0</td>\n",
       "      <td>1</td>\n",
       "      <td>0</td>\n",
       "    </tr>\n",
       "    <tr>\n",
       "      <th>1</th>\n",
       "      <td>5.92</td>\n",
       "      <td>48.2692</td>\n",
       "      <td>0.138846</td>\n",
       "      <td>11</td>\n",
       "      <td>1</td>\n",
       "      <td>0</td>\n",
       "      <td>0</td>\n",
       "      <td>0</td>\n",
       "      <td>0</td>\n",
       "      <td>0</td>\n",
       "      <td>...</td>\n",
       "      <td>0</td>\n",
       "      <td>1</td>\n",
       "      <td>0</td>\n",
       "      <td>0</td>\n",
       "      <td>1</td>\n",
       "      <td>0</td>\n",
       "      <td>1</td>\n",
       "      <td>0</td>\n",
       "      <td>0</td>\n",
       "      <td>0</td>\n",
       "    </tr>\n",
       "    <tr>\n",
       "      <th>2</th>\n",
       "      <td>17.50</td>\n",
       "      <td>141.6180</td>\n",
       "      <td>0.129461</td>\n",
       "      <td>21</td>\n",
       "      <td>0</td>\n",
       "      <td>0</td>\n",
       "      <td>0</td>\n",
       "      <td>0</td>\n",
       "      <td>0</td>\n",
       "      <td>0</td>\n",
       "      <td>...</td>\n",
       "      <td>1</td>\n",
       "      <td>1</td>\n",
       "      <td>0</td>\n",
       "      <td>0</td>\n",
       "      <td>0</td>\n",
       "      <td>1</td>\n",
       "      <td>0</td>\n",
       "      <td>0</td>\n",
       "      <td>1</td>\n",
       "      <td>0</td>\n",
       "    </tr>\n",
       "    <tr>\n",
       "      <th>3</th>\n",
       "      <td>19.20</td>\n",
       "      <td>182.0950</td>\n",
       "      <td>0.248442</td>\n",
       "      <td>22</td>\n",
       "      <td>1</td>\n",
       "      <td>0</td>\n",
       "      <td>0</td>\n",
       "      <td>0</td>\n",
       "      <td>0</td>\n",
       "      <td>0</td>\n",
       "      <td>...</td>\n",
       "      <td>0</td>\n",
       "      <td>0</td>\n",
       "      <td>1</td>\n",
       "      <td>0</td>\n",
       "      <td>1</td>\n",
       "      <td>0</td>\n",
       "      <td>0</td>\n",
       "      <td>0</td>\n",
       "      <td>1</td>\n",
       "      <td>0</td>\n",
       "    </tr>\n",
       "    <tr>\n",
       "      <th>4</th>\n",
       "      <td>8.93</td>\n",
       "      <td>53.8614</td>\n",
       "      <td>0.248442</td>\n",
       "      <td>33</td>\n",
       "      <td>0</td>\n",
       "      <td>0</td>\n",
       "      <td>0</td>\n",
       "      <td>0</td>\n",
       "      <td>0</td>\n",
       "      <td>0</td>\n",
       "      <td>...</td>\n",
       "      <td>0</td>\n",
       "      <td>0</td>\n",
       "      <td>0</td>\n",
       "      <td>0</td>\n",
       "      <td>1</td>\n",
       "      <td>1</td>\n",
       "      <td>0</td>\n",
       "      <td>0</td>\n",
       "      <td>0</td>\n",
       "      <td>1</td>\n",
       "    </tr>\n",
       "  </tbody>\n",
       "</table>\n",
       "<p>5 rows × 38 columns</p>\n",
       "</div>"
      ],
      "text/plain": [
       "   Item_Weight  Item_MRP  Item_Visibility_SQRT  Tenure  \\\n",
       "0         9.30  249.8092              0.126678      21   \n",
       "1         5.92   48.2692              0.138846      11   \n",
       "2        17.50  141.6180              0.129461      21   \n",
       "3        19.20  182.0950              0.248442      22   \n",
       "4         8.93   53.8614              0.248442      33   \n",
       "\n",
       "   Item_Fat_Content_Regular  Item_Type_Breads  Item_Type_Breakfast  \\\n",
       "0                         0                 0                    0   \n",
       "1                         1                 0                    0   \n",
       "2                         0                 0                    0   \n",
       "3                         1                 0                    0   \n",
       "4                         0                 0                    0   \n",
       "\n",
       "   Item_Type_Canned  Item_Type_Dairy  Item_Type_Frozen Foods  ...  \\\n",
       "0                 0                1                       0  ...   \n",
       "1                 0                0                       0  ...   \n",
       "2                 0                0                       0  ...   \n",
       "3                 0                0                       0  ...   \n",
       "4                 0                0                       0  ...   \n",
       "\n",
       "   Outlet_Identifier_OUT049  Outlet_Size_Medium  Outlet_Size_Small  \\\n",
       "0                         1                   1                  0   \n",
       "1                         0                   1                  0   \n",
       "2                         1                   1                  0   \n",
       "3                         0                   0                  1   \n",
       "4                         0                   0                  0   \n",
       "\n",
       "   Outlet_Location_Type_Tier 2  Outlet_Location_Type_Tier 3  \\\n",
       "0                            0                            0   \n",
       "1                            0                            1   \n",
       "2                            0                            0   \n",
       "3                            0                            1   \n",
       "4                            0                            1   \n",
       "\n",
       "   Outlet_Type_Supermarket Type1  Outlet_Type_Supermarket Type2  \\\n",
       "0                              1                              0   \n",
       "1                              0                              1   \n",
       "2                              1                              0   \n",
       "3                              0                              0   \n",
       "4                              1                              0   \n",
       "\n",
       "   Outlet_Type_Supermarket Type3  Item_Identifier_1_FD  Item_Identifier_1_NC  \n",
       "0                              0                     1                     0  \n",
       "1                              0                     0                     0  \n",
       "2                              0                     1                     0  \n",
       "3                              0                     1                     0  \n",
       "4                              0                     0                     1  \n",
       "\n",
       "[5 rows x 38 columns]"
      ]
     },
     "execution_count": 120,
     "metadata": {},
     "output_type": "execute_result"
    }
   ],
   "source": [
    "train_X.head()"
   ]
  },
  {
   "cell_type": "code",
   "execution_count": 121,
   "id": "a2b55e19",
   "metadata": {},
   "outputs": [
    {
     "data": {
      "text/plain": [
       "LinearRegression()"
      ]
     },
     "execution_count": 121,
     "metadata": {},
     "output_type": "execute_result"
    }
   ],
   "source": [
    "reg=LinearRegression()\n",
    "reg.fit(train_X,train_Y)"
   ]
  },
  {
   "cell_type": "code",
   "execution_count": 122,
   "id": "d2258119",
   "metadata": {},
   "outputs": [
    {
     "name": "stdout",
     "output_type": "stream",
     "text": [
      "-1134.1287008823615\n",
      "[-3.27546806e-01  1.55707379e+01 -1.37884355e+02  1.75929822e+01\n",
      "  4.21898827e+01  5.44900758e+00  6.01521583e+00  2.48029728e+01\n",
      " -5.09095876e+01 -2.82184332e+01  2.96147081e+01 -4.62157178e+01\n",
      " -3.78710014e+00 -3.34235617e+01 -1.36349547e+00 -1.53722413e+01\n",
      "  1.84294436e+02 -1.17580240e+01 -7.38900002e+01  2.14684539e+01\n",
      "  1.08928462e+02  3.08982754e+02  2.43957322e+02 -5.08812488e+02\n",
      "  8.96402971e+02  2.95681626e+02  4.67675350e+01  6.80411969e+02\n",
      " -5.25826874e+02  6.14533419e+02 -7.23461881e+02  6.51431915e+02\n",
      " -2.97204523e+02  9.14945472e+02  2.43957322e+02  8.96402971e+02\n",
      " -4.69210844e+01 -5.25829031e+01]\n"
     ]
    }
   ],
   "source": [
    "print(reg.intercept_)\n",
    "print(reg.coef_)"
   ]
  },
  {
   "cell_type": "code",
   "execution_count": 124,
   "id": "6e1a2763",
   "metadata": {},
   "outputs": [],
   "source": [
    "test_cl.drop('Item_Outlet_Sales',axis=1,inplace=True)"
   ]
  },
  {
   "cell_type": "code",
   "execution_count": 125,
   "id": "e710d856",
   "metadata": {},
   "outputs": [],
   "source": [
    "m_lm=reg.predict(test_cl)"
   ]
  },
  {
   "cell_type": "code",
   "execution_count": 127,
   "id": "3b827f32",
   "metadata": {},
   "outputs": [],
   "source": [
    "predicted=pd.concat([test_cl,pd.DataFrame(m_lm)],axis=1)"
   ]
  },
  {
   "cell_type": "code",
   "execution_count": 130,
   "id": "3700a62f",
   "metadata": {},
   "outputs": [
    {
     "data": {
      "text/plain": [
       "Index(['Item_Identifier', 'Item_Weight', 'Item_Fat_Content', 'Item_Visibility',\n",
       "       'Item_Type', 'Item_MRP', 'Outlet_Identifier',\n",
       "       'Outlet_Establishment_Year', 'Outlet_Size', 'Outlet_Location_Type',\n",
       "       'Outlet_Type'],\n",
       "      dtype='object')"
      ]
     },
     "execution_count": 130,
     "metadata": {},
     "output_type": "execute_result"
    }
   ],
   "source": [
    "test.columns"
   ]
  },
  {
   "cell_type": "code",
   "execution_count": 131,
   "id": "e919c09c",
   "metadata": {},
   "outputs": [
    {
     "data": {
      "text/plain": [
       "(5681, 11)"
      ]
     },
     "execution_count": 131,
     "metadata": {},
     "output_type": "execute_result"
    }
   ],
   "source": [
    "test.shape"
   ]
  },
  {
   "cell_type": "code",
   "execution_count": 132,
   "id": "17fc2aca",
   "metadata": {},
   "outputs": [
    {
     "data": {
      "text/plain": [
       "(5681, 1)"
      ]
     },
     "execution_count": 132,
     "metadata": {},
     "output_type": "execute_result"
    }
   ],
   "source": [
    "pd.DataFrame(m_lm).shape"
   ]
  },
  {
   "cell_type": "code",
   "execution_count": 133,
   "id": "4c6c38e3",
   "metadata": {},
   "outputs": [],
   "source": [
    "test=pd.concat([test,pd.DataFrame(m_lm)],axis=1)"
   ]
  },
  {
   "cell_type": "code",
   "execution_count": 134,
   "id": "4f0958da",
   "metadata": {},
   "outputs": [],
   "source": [
    "test.to_csv('Prediction2.csv')"
   ]
  },
  {
   "cell_type": "code",
   "execution_count": 135,
   "id": "f04a4285",
   "metadata": {
    "scrolled": true
   },
   "outputs": [],
   "source": [
    "#----------------------------------------------------"
   ]
  },
  {
   "cell_type": "code",
   "execution_count": 136,
   "id": "9a266ce1",
   "metadata": {},
   "outputs": [],
   "source": [
    "df=test[['Item_Identifier','Outlet_Identifier']]"
   ]
  },
  {
   "cell_type": "code",
   "execution_count": 137,
   "id": "4cc54539",
   "metadata": {},
   "outputs": [
    {
     "name": "stderr",
     "output_type": "stream",
     "text": [
      "C:\\Users\\91809\\AppData\\Local\\Temp/ipykernel_7280/578955205.py:1: SettingWithCopyWarning: \n",
      "A value is trying to be set on a copy of a slice from a DataFrame.\n",
      "Try using .loc[row_indexer,col_indexer] = value instead\n",
      "\n",
      "See the caveats in the documentation: https://pandas.pydata.org/pandas-docs/stable/user_guide/indexing.html#returning-a-view-versus-a-copy\n",
      "  df['Item_Outlet_Sales']=pd.DataFrame(m_lm)\n"
     ]
    }
   ],
   "source": [
    "df['Item_Outlet_Sales']=pd.DataFrame(m_lm)"
   ]
  },
  {
   "cell_type": "code",
   "execution_count": 138,
   "id": "cb05da3d",
   "metadata": {},
   "outputs": [
    {
     "data": {
      "text/html": [
       "<div>\n",
       "<style scoped>\n",
       "    .dataframe tbody tr th:only-of-type {\n",
       "        vertical-align: middle;\n",
       "    }\n",
       "\n",
       "    .dataframe tbody tr th {\n",
       "        vertical-align: top;\n",
       "    }\n",
       "\n",
       "    .dataframe thead th {\n",
       "        text-align: right;\n",
       "    }\n",
       "</style>\n",
       "<table border=\"1\" class=\"dataframe\">\n",
       "  <thead>\n",
       "    <tr style=\"text-align: right;\">\n",
       "      <th></th>\n",
       "      <th>Item_Identifier</th>\n",
       "      <th>Outlet_Identifier</th>\n",
       "      <th>Item_Outlet_Sales</th>\n",
       "    </tr>\n",
       "  </thead>\n",
       "  <tbody>\n",
       "    <tr>\n",
       "      <th>0</th>\n",
       "      <td>FDW58</td>\n",
       "      <td>OUT049</td>\n",
       "      <td>1841.001642</td>\n",
       "    </tr>\n",
       "    <tr>\n",
       "      <th>1</th>\n",
       "      <td>FDW14</td>\n",
       "      <td>OUT017</td>\n",
       "      <td>1520.723176</td>\n",
       "    </tr>\n",
       "    <tr>\n",
       "      <th>2</th>\n",
       "      <td>NCN55</td>\n",
       "      <td>OUT010</td>\n",
       "      <td>1880.288138</td>\n",
       "    </tr>\n",
       "    <tr>\n",
       "      <th>3</th>\n",
       "      <td>FDQ58</td>\n",
       "      <td>OUT017</td>\n",
       "      <td>2582.292440</td>\n",
       "    </tr>\n",
       "    <tr>\n",
       "      <th>4</th>\n",
       "      <td>FDY38</td>\n",
       "      <td>OUT027</td>\n",
       "      <td>5131.432513</td>\n",
       "    </tr>\n",
       "  </tbody>\n",
       "</table>\n",
       "</div>"
      ],
      "text/plain": [
       "  Item_Identifier Outlet_Identifier  Item_Outlet_Sales\n",
       "0           FDW58            OUT049        1841.001642\n",
       "1           FDW14            OUT017        1520.723176\n",
       "2           NCN55            OUT010        1880.288138\n",
       "3           FDQ58            OUT017        2582.292440\n",
       "4           FDY38            OUT027        5131.432513"
      ]
     },
     "execution_count": 138,
     "metadata": {},
     "output_type": "execute_result"
    }
   ],
   "source": [
    "df.head()"
   ]
  },
  {
   "cell_type": "code",
   "execution_count": 139,
   "id": "0082c6f2",
   "metadata": {},
   "outputs": [
    {
     "name": "stderr",
     "output_type": "stream",
     "text": [
      "C:\\Users\\91809\\anaconda3\\lib\\site-packages\\pandas\\core\\indexing.py:1773: SettingWithCopyWarning: \n",
      "A value is trying to be set on a copy of a slice from a DataFrame.\n",
      "Try using .loc[row_indexer,col_indexer] = value instead\n",
      "\n",
      "See the caveats in the documentation: https://pandas.pydata.org/pandas-docs/stable/user_guide/indexing.html#returning-a-view-versus-a-copy\n",
      "  self._setitem_single_column(ilocs[0], value, pi)\n"
     ]
    }
   ],
   "source": [
    "df.loc[df['Item_Outlet_Sales']<=0,'Item_Outlet_Sales']=df.loc[df['Item_Outlet_Sales']<=0,'Item_Outlet_Sales']*-1"
   ]
  },
  {
   "cell_type": "code",
   "execution_count": 140,
   "id": "6b5f32a2",
   "metadata": {},
   "outputs": [],
   "source": [
    "df.to_csv('Prediction_Regression.csv',index=False)"
   ]
  },
  {
   "cell_type": "code",
   "execution_count": 141,
   "id": "b4b0fcbf",
   "metadata": {},
   "outputs": [],
   "source": [
    "train_pred=reg.predict(train_X)"
   ]
  },
  {
   "cell_type": "code",
   "execution_count": 142,
   "id": "3ea73d5f",
   "metadata": {},
   "outputs": [],
   "source": [
    "from sklearn.metrics import mean_squared_error as mse"
   ]
  },
  {
   "cell_type": "code",
   "execution_count": 143,
   "id": "94a3fa90",
   "metadata": {},
   "outputs": [],
   "source": [
    "train_pred[train_pred<0]=train_pred[train_pred<0]*-1"
   ]
  },
  {
   "cell_type": "code",
   "execution_count": 144,
   "id": "dea75318",
   "metadata": {},
   "outputs": [
    {
     "data": {
      "text/plain": [
       "1118.8761135030634"
      ]
     },
     "execution_count": 144,
     "metadata": {},
     "output_type": "execute_result"
    }
   ],
   "source": [
    "np.sqrt(mse(train_Y,train_pred))"
   ]
  },
  {
   "cell_type": "code",
   "execution_count": 145,
   "id": "8e8c239e",
   "metadata": {},
   "outputs": [],
   "source": [
    "#Scalling--------\n",
    "from sklearn.preprocessing import StandardScaler"
   ]
  },
  {
   "cell_type": "code",
   "execution_count": 146,
   "id": "41e7bb68",
   "metadata": {},
   "outputs": [],
   "source": [
    "scaler=StandardScaler()"
   ]
  },
  {
   "cell_type": "code",
   "execution_count": 147,
   "id": "35d171de",
   "metadata": {},
   "outputs": [],
   "source": [
    "train_X_sc=scaler.fit_transform(train_X)"
   ]
  },
  {
   "cell_type": "code",
   "execution_count": 148,
   "id": "28fc1366",
   "metadata": {},
   "outputs": [],
   "source": [
    "cols=train_X.columns"
   ]
  },
  {
   "cell_type": "code",
   "execution_count": 149,
   "id": "00b3be0c",
   "metadata": {},
   "outputs": [],
   "source": [
    "train_X_sc=pd.DataFrame(train_X_sc,columns=cols)"
   ]
  },
  {
   "cell_type": "code",
   "execution_count": 150,
   "id": "339e1feb",
   "metadata": {},
   "outputs": [],
   "source": [
    "test_cl_sc=scaler.transform(test_cl)"
   ]
  },
  {
   "cell_type": "code",
   "execution_count": 151,
   "id": "6924909d",
   "metadata": {},
   "outputs": [],
   "source": [
    "test_cl_sc=pd.DataFrame(test_cl_sc,columns=cols)"
   ]
  },
  {
   "cell_type": "code",
   "execution_count": 152,
   "id": "af5e1565",
   "metadata": {},
   "outputs": [],
   "source": [
    "reg1=LinearRegression()"
   ]
  },
  {
   "cell_type": "code",
   "execution_count": 153,
   "id": "194211b4",
   "metadata": {},
   "outputs": [
    {
     "data": {
      "text/plain": [
       "LinearRegression()"
      ]
     },
     "execution_count": 153,
     "metadata": {},
     "output_type": "execute_result"
    }
   ],
   "source": [
    "reg1.fit(train_X_sc,train_Y)"
   ]
  },
  {
   "cell_type": "code",
   "execution_count": 154,
   "id": "f217f861",
   "metadata": {},
   "outputs": [
    {
     "name": "stdout",
     "output_type": "stream",
     "text": [
      "2183.9491517735273\n",
      "[-1.33131687e+00  9.74191609e+02 -1.03575472e+01 -1.57276969e+15\n",
      "  2.08094156e+01  2.99792243e+00  1.52903283e+00  1.02446376e+01\n",
      " -9.53459678e+00 -8.47558863e+00  1.17158231e+01 -4.08624327e+00\n",
      " -1.06923192e+16 -1.37956589e+16 -7.97691400e-02 -6.22779665e+15\n",
      "  1.31279675e+01 -2.88671041e+00 -1.99521538e+01  3.05240924e+00\n",
      "  2.59957970e+15 -2.62431337e+15 -3.59510558e+15  1.09926213e+15\n",
      "  1.07251150e+15 -2.45355090e+15 -2.33529356e+15  6.89645512e+14\n",
      "  1.32960761e+15  1.84392864e+15  3.15311163e+15  4.11158228e+15\n",
      "  1.03430945e+15  4.45045240e+13  3.70776530e+15  4.49685831e+14\n",
      " -2.23519490e+01  1.74400047e+16]\n"
     ]
    }
   ],
   "source": [
    "print(reg1.intercept_)\n",
    "print(reg1.coef_)"
   ]
  },
  {
   "cell_type": "code",
   "execution_count": 155,
   "id": "4bf655d4",
   "metadata": {},
   "outputs": [],
   "source": [
    "train_sc_pred=reg1.predict(train_X_sc)"
   ]
  },
  {
   "cell_type": "code",
   "execution_count": 156,
   "id": "ae8c9b81",
   "metadata": {},
   "outputs": [],
   "source": [
    "train_sc_pred[train_sc_pred<0]=train_sc_pred[train_sc_pred<0]*0"
   ]
  },
  {
   "cell_type": "code",
   "execution_count": 157,
   "id": "f8910ef3",
   "metadata": {},
   "outputs": [
    {
     "data": {
      "text/plain": [
       "1109.3243775364813"
      ]
     },
     "execution_count": 157,
     "metadata": {},
     "output_type": "execute_result"
    }
   ],
   "source": [
    "np.sqrt(mse(train_Y,train_sc_pred))"
   ]
  },
  {
   "cell_type": "code",
   "execution_count": 158,
   "id": "9619adda",
   "metadata": {},
   "outputs": [],
   "source": [
    "sc_pred=reg1.predict(test_cl_sc)"
   ]
  },
  {
   "cell_type": "code",
   "execution_count": 159,
   "id": "9d21ea64",
   "metadata": {},
   "outputs": [],
   "source": [
    "sc_pred[sc_pred<0]=sc_pred[sc_pred<0]*0"
   ]
  },
  {
   "cell_type": "code",
   "execution_count": 160,
   "id": "f4e7c9aa",
   "metadata": {},
   "outputs": [],
   "source": [
    "sc_pred_df=test[['Item_Identifier','Outlet_Identifier']]"
   ]
  },
  {
   "cell_type": "code",
   "execution_count": 161,
   "id": "b416e09b",
   "metadata": {},
   "outputs": [
    {
     "name": "stderr",
     "output_type": "stream",
     "text": [
      "C:\\Users\\91809\\AppData\\Local\\Temp/ipykernel_7280/559402063.py:1: SettingWithCopyWarning: \n",
      "A value is trying to be set on a copy of a slice from a DataFrame.\n",
      "Try using .loc[row_indexer,col_indexer] = value instead\n",
      "\n",
      "See the caveats in the documentation: https://pandas.pydata.org/pandas-docs/stable/user_guide/indexing.html#returning-a-view-versus-a-copy\n",
      "  sc_pred_df['Item_Outlet_Sales']=pd.DataFrame(sc_pred)\n"
     ]
    }
   ],
   "source": [
    "sc_pred_df['Item_Outlet_Sales']=pd.DataFrame(sc_pred)"
   ]
  },
  {
   "cell_type": "code",
   "execution_count": 162,
   "id": "ed1982ee",
   "metadata": {},
   "outputs": [
    {
     "data": {
      "text/html": [
       "<div>\n",
       "<style scoped>\n",
       "    .dataframe tbody tr th:only-of-type {\n",
       "        vertical-align: middle;\n",
       "    }\n",
       "\n",
       "    .dataframe tbody tr th {\n",
       "        vertical-align: top;\n",
       "    }\n",
       "\n",
       "    .dataframe thead th {\n",
       "        text-align: right;\n",
       "    }\n",
       "</style>\n",
       "<table border=\"1\" class=\"dataframe\">\n",
       "  <thead>\n",
       "    <tr style=\"text-align: right;\">\n",
       "      <th></th>\n",
       "      <th>Item_Identifier</th>\n",
       "      <th>Outlet_Identifier</th>\n",
       "      <th>Item_Outlet_Sales</th>\n",
       "    </tr>\n",
       "  </thead>\n",
       "  <tbody>\n",
       "    <tr>\n",
       "      <th>0</th>\n",
       "      <td>FDW58</td>\n",
       "      <td>OUT049</td>\n",
       "      <td>1837.949152</td>\n",
       "    </tr>\n",
       "    <tr>\n",
       "      <th>1</th>\n",
       "      <td>FDW14</td>\n",
       "      <td>OUT017</td>\n",
       "      <td>1533.949152</td>\n",
       "    </tr>\n",
       "    <tr>\n",
       "      <th>2</th>\n",
       "      <td>NCN55</td>\n",
       "      <td>OUT010</td>\n",
       "      <td>1919.949152</td>\n",
       "    </tr>\n",
       "    <tr>\n",
       "      <th>3</th>\n",
       "      <td>FDQ58</td>\n",
       "      <td>OUT017</td>\n",
       "      <td>2585.949152</td>\n",
       "    </tr>\n",
       "    <tr>\n",
       "      <th>4</th>\n",
       "      <td>FDY38</td>\n",
       "      <td>OUT027</td>\n",
       "      <td>5148.949152</td>\n",
       "    </tr>\n",
       "  </tbody>\n",
       "</table>\n",
       "</div>"
      ],
      "text/plain": [
       "  Item_Identifier Outlet_Identifier  Item_Outlet_Sales\n",
       "0           FDW58            OUT049        1837.949152\n",
       "1           FDW14            OUT017        1533.949152\n",
       "2           NCN55            OUT010        1919.949152\n",
       "3           FDQ58            OUT017        2585.949152\n",
       "4           FDY38            OUT027        5148.949152"
      ]
     },
     "execution_count": 162,
     "metadata": {},
     "output_type": "execute_result"
    }
   ],
   "source": [
    "sc_pred_df.head()"
   ]
  },
  {
   "cell_type": "code",
   "execution_count": 163,
   "id": "4ec160b4",
   "metadata": {},
   "outputs": [
    {
     "name": "stderr",
     "output_type": "stream",
     "text": [
      "C:\\Users\\91809\\anaconda3\\lib\\site-packages\\pandas\\core\\indexing.py:1773: SettingWithCopyWarning: \n",
      "A value is trying to be set on a copy of a slice from a DataFrame.\n",
      "Try using .loc[row_indexer,col_indexer] = value instead\n",
      "\n",
      "See the caveats in the documentation: https://pandas.pydata.org/pandas-docs/stable/user_guide/indexing.html#returning-a-view-versus-a-copy\n",
      "  self._setitem_single_column(ilocs[0], value, pi)\n"
     ]
    }
   ],
   "source": [
    "sc_pred_df.loc[sc_pred_df['Item_Outlet_Sales']==0,'Item_Outlet_Sales']=sc_pred_df.loc[sc_pred_df['Item_Outlet_Sales']==0,'Item_Outlet_Sales']*-1"
   ]
  },
  {
   "cell_type": "code",
   "execution_count": 164,
   "id": "7a5f9993",
   "metadata": {},
   "outputs": [],
   "source": [
    "sc_pred_df.to_csv('sc_prediction.csv',index=False)"
   ]
  },
  {
   "cell_type": "code",
   "execution_count": null,
   "id": "230e4b4e",
   "metadata": {},
   "outputs": [],
   "source": []
  },
  {
   "cell_type": "code",
   "execution_count": 183,
   "id": "b9243ebe",
   "metadata": {},
   "outputs": [],
   "source": [
    "#----------------------------------------------"
   ]
  },
  {
   "cell_type": "markdown",
   "id": "c2612815",
   "metadata": {},
   "source": [
    "## Improving Model Further"
   ]
  },
  {
   "cell_type": "code",
   "execution_count": 184,
   "id": "d097c553",
   "metadata": {},
   "outputs": [],
   "source": [
    "test1=test.copy()"
   ]
  },
  {
   "cell_type": "code",
   "execution_count": 185,
   "id": "9b9b4376",
   "metadata": {},
   "outputs": [],
   "source": [
    "test1=test1.iloc[:,:-1]"
   ]
  },
  {
   "cell_type": "code",
   "execution_count": 186,
   "id": "a05c3cfe",
   "metadata": {},
   "outputs": [
    {
     "name": "stdout",
     "output_type": "stream",
     "text": [
      "(5681, 12)\n",
      "(5681, 11)\n"
     ]
    }
   ],
   "source": [
    "print(test.shape)\n",
    "print(test1.shape)"
   ]
  },
  {
   "cell_type": "code",
   "execution_count": 187,
   "id": "9dd00682",
   "metadata": {},
   "outputs": [
    {
     "data": {
      "text/plain": [
       "(5681, 38)"
      ]
     },
     "execution_count": 187,
     "metadata": {},
     "output_type": "execute_result"
    }
   ],
   "source": [
    "test_cl.shape"
   ]
  },
  {
   "cell_type": "code",
   "execution_count": 188,
   "id": "69430f82",
   "metadata": {},
   "outputs": [
    {
     "data": {
      "text/plain": [
       "array([-3.27546806e-01,  1.55707379e+01, -1.37884355e+02,  1.75929822e+01,\n",
       "        4.21898827e+01,  5.44900758e+00,  6.01521583e+00,  2.48029728e+01,\n",
       "       -5.09095876e+01, -2.82184332e+01,  2.96147081e+01, -4.62157178e+01,\n",
       "       -3.78710014e+00, -3.34235617e+01, -1.36349547e+00, -1.53722413e+01,\n",
       "        1.84294436e+02, -1.17580240e+01, -7.38900002e+01,  2.14684539e+01,\n",
       "        1.08928462e+02,  3.08982754e+02,  2.43957322e+02, -5.08812488e+02,\n",
       "        8.96402971e+02,  2.95681626e+02,  4.67675350e+01,  6.80411969e+02,\n",
       "       -5.25826874e+02,  6.14533419e+02, -7.23461881e+02,  6.51431915e+02,\n",
       "       -2.97204523e+02,  9.14945472e+02,  2.43957322e+02,  8.96402971e+02,\n",
       "       -4.69210844e+01, -5.25829031e+01])"
      ]
     },
     "execution_count": 188,
     "metadata": {},
     "output_type": "execute_result"
    }
   ],
   "source": [
    "reg.coef_"
   ]
  },
  {
   "cell_type": "code",
   "execution_count": 189,
   "id": "4242df59",
   "metadata": {},
   "outputs": [],
   "source": [
    "predictor=train_X.columns"
   ]
  },
  {
   "cell_type": "code",
   "execution_count": 190,
   "id": "6cdd0223",
   "metadata": {},
   "outputs": [],
   "source": [
    "coefficient=pd.Series(reg.coef_,predictor).sort_values()"
   ]
  },
  {
   "cell_type": "code",
   "execution_count": 191,
   "id": "6d46bc72",
   "metadata": {
    "scrolled": false
   },
   "outputs": [
    {
     "data": {
      "text/plain": [
       "<AxesSubplot:>"
      ]
     },
     "execution_count": 191,
     "metadata": {},
     "output_type": "execute_result"
    },
    {
     "data": {
      "image/png": "[encoded data removed]",
      "text/plain": [
       "<Figure size 720x720 with 1 Axes>"
      ]
     },
     "metadata": {
      "needs_background": "light"
     },
     "output_type": "display_data"
    }
   ],
   "source": [
    "plt.figure(figsize=(10,10))\n",
    "coefficient.plot(kind='bar')"
   ]
  },
  {
   "cell_type": "code",
   "execution_count": 192,
   "id": "6db539be",
   "metadata": {},
   "outputs": [
    {
     "data": {
      "text/plain": [
       "Outlet_Size_Small                 -723.461881\n",
       "Outlet_Identifier_OUT049          -525.826874\n",
       "Outlet_Identifier_OUT019          -508.812488\n",
       "Outlet_Location_Type_Tier 3       -297.204523\n",
       "Item_Visibility_SQRT              -137.884355\n",
       "Item_Type_Soft Drinks              -73.890000\n",
       "Item_Identifier_1_NC               -52.582903\n",
       "Item_Type_Dairy                    -50.909588\n",
       "Item_Identifier_1_FD               -46.921084\n",
       "Item_Type_Hard Drinks              -46.215718\n",
       "Item_Type_Household                -33.423562\n",
       "Item_Type_Frozen Foods             -28.218433\n",
       "Item_Type_Others                   -15.372241\n",
       "Item_Type_Snack Foods              -11.758024\n",
       "Item_Type_Health and Hygiene        -3.787100\n",
       "Item_Type_Meat                      -1.363495\n",
       "Item_Weight                         -0.327547\n",
       "Item_Type_Breads                     5.449008\n",
       "Item_Type_Breakfast                  6.015216\n",
       "Item_MRP                            15.570738\n",
       "Tenure                              17.592982\n",
       "Item_Type_Starchy Foods             21.468454\n",
       "Item_Type_Canned                    24.802973\n",
       "Item_Type_Fruits and Vegetables     29.614708\n",
       "Item_Fat_Content_Regular            42.189883\n",
       "Outlet_Identifier_OUT045            46.767535\n",
       "Outlet_Identifier_OUT013           108.928462\n",
       "Item_Type_Seafood                  184.294436\n",
       "Outlet_Type_Supermarket Type2      243.957322\n",
       "Outlet_Identifier_OUT018           243.957322\n",
       "Outlet_Identifier_OUT035           295.681626\n",
       "Outlet_Identifier_OUT017           308.982754\n",
       "Outlet_Size_Medium                 614.533419\n",
       "Outlet_Location_Type_Tier 2        651.431915\n",
       "Outlet_Identifier_OUT046           680.411969\n",
       "Outlet_Type_Supermarket Type3      896.402971\n",
       "Outlet_Identifier_OUT027           896.402971\n",
       "Outlet_Type_Supermarket Type1      914.945472\n",
       "dtype: float64"
      ]
     },
     "execution_count": 192,
     "metadata": {},
     "output_type": "execute_result"
    }
   ],
   "source": [
    "coefficient"
   ]
  },
  {
   "cell_type": "code",
   "execution_count": 193,
   "id": "9b837148",
   "metadata": {},
   "outputs": [
    {
     "data": {
      "text/plain": [
       "0.5637445970865648"
      ]
     },
     "execution_count": 193,
     "metadata": {},
     "output_type": "execute_result"
    }
   ],
   "source": [
    "reg.score(train_X,train_Y)"
   ]
  },
  {
   "cell_type": "markdown",
   "id": "4c292b3a",
   "metadata": {},
   "source": [
    "## Ridge Regression"
   ]
  },
  {
   "cell_type": "code",
   "execution_count": 194,
   "id": "2930381e",
   "metadata": {},
   "outputs": [],
   "source": [
    "from sklearn.linear_model import Ridge,Lasso"
   ]
  },
  {
   "cell_type": "code",
   "execution_count": 195,
   "id": "fec33b72",
   "metadata": {},
   "outputs": [
    {
     "data": {
      "text/plain": [
       "0.563744597086556"
      ]
     },
     "execution_count": 195,
     "metadata": {},
     "output_type": "execute_result"
    }
   ],
   "source": [
    "ridge05=Ridge(alpha=0.0000001,normalize=True)\n",
    "ridge05.fit(train_X,train_Y)\n",
    "pred_red05=ridge05.predict(test_cl)\n",
    "ridge05.score(train_X,train_Y)"
   ]
  },
  {
   "cell_type": "code",
   "execution_count": 196,
   "id": "ad4d7f9b",
   "metadata": {},
   "outputs": [],
   "source": [
    "from sklearn.metrics import *"
   ]
  },
  {
   "cell_type": "code",
   "execution_count": 197,
   "id": "851d28f0",
   "metadata": {},
   "outputs": [],
   "source": [
    "model_parameter={'alpha':[0.001,0.01,0.05,1,10,15,20,25,100],'normalize':[True,False]}"
   ]
  },
  {
   "cell_type": "code",
   "execution_count": 198,
   "id": "d40737f7",
   "metadata": {},
   "outputs": [
    {
     "name": "stdout",
     "output_type": "stream",
     "text": [
      "Fitting 5 folds for each of 18 candidates, totalling 90 fits\n"
     ]
    },
    {
     "data": {
      "text/plain": [
       "GridSearchCV(cv=5, estimator=Ridge(), n_jobs=-1,\n",
       "             param_grid={'alpha': [0.001, 0.01, 0.05, 1, 10, 15, 20, 25, 100],\n",
       "                         'normalize': [True, False]},\n",
       "             verbose=1)"
      ]
     },
     "execution_count": 198,
     "metadata": {},
     "output_type": "execute_result"
    }
   ],
   "source": [
    "reg_R=Ridge()\n",
    "gscv=GridSearchCV(estimator=reg_R,param_grid=model_parameter,cv=5,verbose=1,n_jobs=-1)\n",
    "gscv.fit(train_X,train_Y)"
   ]
  },
  {
   "cell_type": "code",
   "execution_count": 199,
   "id": "e8e31e52",
   "metadata": {},
   "outputs": [
    {
     "data": {
      "text/plain": [
       "{'alpha': 20, 'normalize': False}"
      ]
     },
     "execution_count": 199,
     "metadata": {},
     "output_type": "execute_result"
    }
   ],
   "source": [
    "gscv.best_params_"
   ]
  },
  {
   "cell_type": "code",
   "execution_count": 200,
   "id": "c3953de1",
   "metadata": {},
   "outputs": [
    {
     "data": {
      "text/plain": [
       "0.5590069078596389"
      ]
     },
     "execution_count": 200,
     "metadata": {},
     "output_type": "execute_result"
    }
   ],
   "source": [
    "gscv.best_score_"
   ]
  },
  {
   "cell_type": "code",
   "execution_count": 201,
   "id": "c11a9937",
   "metadata": {},
   "outputs": [
    {
     "data": {
      "text/plain": [
       "Ridge(alpha=20)"
      ]
     },
     "execution_count": 201,
     "metadata": {},
     "output_type": "execute_result"
    }
   ],
   "source": [
    "reg_R_final=Ridge(**gscv.best_params_)\n",
    "reg_R_final.fit(train_X,train_Y)"
   ]
  },
  {
   "cell_type": "code",
   "execution_count": 202,
   "id": "7eb187e4",
   "metadata": {},
   "outputs": [],
   "source": [
    "model_ridge=reg_R_final.predict(test_cl)"
   ]
  },
  {
   "cell_type": "code",
   "execution_count": 203,
   "id": "3710baf7",
   "metadata": {},
   "outputs": [],
   "source": [
    "pred_ridge=pd.concat([test1,pd.DataFrame({'Item_Outlet_Sales':model_ridge})],axis=1)"
   ]
  },
  {
   "cell_type": "code",
   "execution_count": 204,
   "id": "d5b3a749",
   "metadata": {},
   "outputs": [],
   "source": [
    "pred_ridge=pred_ridge[['Item_Identifier','Outlet_Identifier','Item_Outlet_Sales']]"
   ]
  },
  {
   "cell_type": "code",
   "execution_count": 205,
   "id": "63cb325d",
   "metadata": {},
   "outputs": [
    {
     "data": {
      "text/html": [
       "<div>\n",
       "<style scoped>\n",
       "    .dataframe tbody tr th:only-of-type {\n",
       "        vertical-align: middle;\n",
       "    }\n",
       "\n",
       "    .dataframe tbody tr th {\n",
       "        vertical-align: top;\n",
       "    }\n",
       "\n",
       "    .dataframe thead th {\n",
       "        text-align: right;\n",
       "    }\n",
       "</style>\n",
       "<table border=\"1\" class=\"dataframe\">\n",
       "  <thead>\n",
       "    <tr style=\"text-align: right;\">\n",
       "      <th></th>\n",
       "      <th>Item_Identifier</th>\n",
       "      <th>Outlet_Identifier</th>\n",
       "      <th>Item_Outlet_Sales</th>\n",
       "    </tr>\n",
       "  </thead>\n",
       "  <tbody>\n",
       "    <tr>\n",
       "      <th>0</th>\n",
       "      <td>FDW58</td>\n",
       "      <td>OUT049</td>\n",
       "      <td>1852.452728</td>\n",
       "    </tr>\n",
       "    <tr>\n",
       "      <th>1</th>\n",
       "      <td>FDW14</td>\n",
       "      <td>OUT017</td>\n",
       "      <td>1519.845245</td>\n",
       "    </tr>\n",
       "    <tr>\n",
       "      <th>2</th>\n",
       "      <td>NCN55</td>\n",
       "      <td>OUT010</td>\n",
       "      <td>1934.162591</td>\n",
       "    </tr>\n",
       "    <tr>\n",
       "      <th>3</th>\n",
       "      <td>FDQ58</td>\n",
       "      <td>OUT017</td>\n",
       "      <td>2576.390480</td>\n",
       "    </tr>\n",
       "    <tr>\n",
       "      <th>4</th>\n",
       "      <td>FDY38</td>\n",
       "      <td>OUT027</td>\n",
       "      <td>5118.175108</td>\n",
       "    </tr>\n",
       "  </tbody>\n",
       "</table>\n",
       "</div>"
      ],
      "text/plain": [
       "  Item_Identifier Outlet_Identifier  Item_Outlet_Sales\n",
       "0           FDW58            OUT049        1852.452728\n",
       "1           FDW14            OUT017        1519.845245\n",
       "2           NCN55            OUT010        1934.162591\n",
       "3           FDQ58            OUT017        2576.390480\n",
       "4           FDY38            OUT027        5118.175108"
      ]
     },
     "execution_count": 205,
     "metadata": {},
     "output_type": "execute_result"
    }
   ],
   "source": [
    "pred_ridge.head()"
   ]
  },
  {
   "cell_type": "code",
   "execution_count": 206,
   "id": "778d31eb",
   "metadata": {},
   "outputs": [],
   "source": [
    "#-------------------------------"
   ]
  },
  {
   "cell_type": "code",
   "execution_count": 207,
   "id": "66af30cd",
   "metadata": {},
   "outputs": [],
   "source": [
    "pred_ridge.loc[pred_ridge['Item_Outlet_Sales']<=0,'Item_Outlet_Sales']=pred_ridge.loc[pred_ridge['Item_Outlet_Sales']<=0,'Item_Outlet_Sales']*-1"
   ]
  },
  {
   "cell_type": "code",
   "execution_count": 208,
   "id": "51040a97",
   "metadata": {},
   "outputs": [],
   "source": [
    "pred_ridge.to_csv('Prediction_Ridge_Regression.csv',index=False)"
   ]
  },
  {
   "cell_type": "code",
   "execution_count": 209,
   "id": "a1d88a6d",
   "metadata": {},
   "outputs": [],
   "source": [
    "train_pred_ridge=reg_R_final.predict(train_X)"
   ]
  },
  {
   "cell_type": "code",
   "execution_count": 210,
   "id": "812ef52d",
   "metadata": {},
   "outputs": [],
   "source": [
    "train_pred_ridge[train_pred_ridge<0]=train_pred_ridge[train_pred_ridge<0]*-1"
   ]
  },
  {
   "cell_type": "code",
   "execution_count": 211,
   "id": "f67c0e50",
   "metadata": {},
   "outputs": [
    {
     "data": {
      "text/plain": [
       "1119.5796979625993"
      ]
     },
     "execution_count": 211,
     "metadata": {},
     "output_type": "execute_result"
    }
   ],
   "source": [
    "np.sqrt(mse(train_Y,train_pred_ridge))"
   ]
  },
  {
   "cell_type": "code",
   "execution_count": 212,
   "id": "98566a55",
   "metadata": {},
   "outputs": [],
   "source": [
    "#-----------------------------"
   ]
  },
  {
   "cell_type": "code",
   "execution_count": null,
   "id": "7309ebeb",
   "metadata": {},
   "outputs": [],
   "source": []
  }
 ],
 "metadata": {
  "kernelspec": {
   "display_name": "Python 3 (ipykernel)",
   "language": "python",
   "name": "python3"
  },
  "language_info": {
   "codemirror_mode": {
    "name": "ipython",
    "version": 3
   },
   "file_extension": ".py",
   "mimetype": "text/x-python",
   "name": "python",
   "nbconvert_exporter": "python",
   "pygments_lexer": "ipython3",
   "version": "3.9.7"
  }
 },
 "nbformat": 4,
 "nbformat_minor": 5
}
